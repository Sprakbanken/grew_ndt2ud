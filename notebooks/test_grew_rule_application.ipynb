{
 "cells": [
  {
   "cell_type": "markdown",
   "metadata": {},
   "source": [
    "# Arbeidsløype for grafkonversjon med Grew\n",
    "\n",
    "*Forslag til arbeidsløype i python:*\n",
    "\n",
    "1. Søke med mønster i korpuset (finn ut hvor mange og hvilke setninger som matcher mønsteret)\n",
    "    - Stramme inn mønsteret til å bare matche riktig type setninger (ut fra hvilken NDT-til-UD-regel man skal skrive).\n",
    "2. Legge til enkle transformasjoner i regelen og kjøre mot én eksempelsetning.\n",
    "    - Spisse/stramme inn regelen for å redusere antallet resulterende grafer.\n",
    "    - Når en regel konverterer en setning til bare én graf, og grafen ser riktig ut (ifølge UDs retningslinjer), kjør regelen på andre setninger som matchet samme mønster og sjekk at disse også er riktige.\n",
    "3. Hvis flere mønstre/regler kreves for å konvertere riktig, velg en strategi som gir én riktig graf per setning."
   ]
  },
  {
   "cell_type": "code",
   "execution_count": 1,
   "metadata": {},
   "outputs": [],
   "source": [
    "import grew\n",
    "import tk\n",
    "from pathlib import Path\n"
   ]
  },
  {
   "cell_type": "code",
   "execution_count": 2,
   "metadata": {},
   "outputs": [
    {
     "name": "stdout",
     "output_type": "stream",
     "text": [
      "[Grewpy] Port 8888 already used, failed to open socket\n",
      "connected to port: 8889\n"
     ]
    },
    {
     "data": {
      "text/plain": [
       "<Popen: returncode: None args: ['grewpy', '--caller', '24987', '--port', '88...>"
      ]
     },
     "execution_count": 2,
     "metadata": {},
     "output_type": "execute_result"
    }
   ],
   "source": [
    "grew.init()"
   ]
  },
  {
   "cell_type": "markdown",
   "metadata": {},
   "source": [
    "## 1. Søk etter mønstre i korpus\n",
    "\n",
    "Stram inn mønsteret etter behov for å bare matche ønskede setninger. "
   ]
  },
  {
   "cell_type": "code",
   "execution_count": 12,
   "metadata": {},
   "outputs": [],
   "source": [
    "#Load a corpus from a file or a string\n",
    "\n",
    "filename = \"data/dev_fixed_UDfeats.conll\"\n",
    "corpus = grew.corpus(filename)"
   ]
  },
  {
   "cell_type": "code",
   "execution_count": 19,
   "metadata": {},
   "outputs": [
    {
     "data": {
      "text/plain": [
       "2409"
      ]
     },
     "execution_count": 19,
     "metadata": {},
     "output_type": "execute_result"
    }
   ],
   "source": [
    "grew.corpus_size(corpus)  "
   ]
  },
  {
   "cell_type": "code",
   "execution_count": 13,
   "metadata": {},
   "outputs": [
    {
     "data": {
      "text/plain": [
       "['dev_fixed_UDfeats.conll_00001',\n",
       " 'dev_fixed_UDfeats.conll_00002',\n",
       " 'dev_fixed_UDfeats.conll_00003',\n",
       " 'dev_fixed_UDfeats.conll_00004',\n",
       " 'dev_fixed_UDfeats.conll_00005',\n",
       " 'dev_fixed_UDfeats.conll_00006',\n",
       " 'dev_fixed_UDfeats.conll_00007',\n",
       " 'dev_fixed_UDfeats.conll_00008',\n",
       " 'dev_fixed_UDfeats.conll_00009',\n",
       " 'dev_fixed_UDfeats.conll_00010']"
      ]
     },
     "execution_count": 13,
     "metadata": {},
     "output_type": "execute_result"
    }
   ],
   "source": [
    "(sent_ids := grew.corpus_sent_ids(corpus)[:10])"
   ]
  },
  {
   "cell_type": "code",
   "execution_count": 29,
   "metadata": {},
   "outputs": [
    {
     "name": "stdout",
     "output_type": "stream",
     "text": [
      "\n",
      "Sentence: dev_fixed_UDfeats.conll_00001\n",
      "['__0__', 'Dommer', 'Finn', 'Eilertsen', 'avstår', ',', 'selvfølgelig', 'bevisst', ',', 'fra', 'å', '«', 'sette', 'ord', 'på', '»', 'det', 'inntrykk', 'retten', 'for', 'sitt', 'vedkommende', 'måtte', 'ha', 'dannet', 'seg', 'av', 'de', 'handlinger', 'retten', 'finner', 'bevist', 'og', 'av', 'lovovertrederen', '.']\n",
      "\n"
     ]
    }
   ],
   "source": [
    "# Hent ut en gitt setningsgraf\n",
    "\n",
    "sent_id = sent_ids[0]\n",
    "(sent_graph := grew.corpus_get(sent_id, corpus))\n",
    "\n",
    "sent_info = [sent_graph[token] for token in sorted(sent_graph, key=int) ]\n",
    "words = [token[0]['form'] for token in sent_info]\n",
    "\n",
    "print(f\"\"\"\n",
    "Sentence: {sent_id}\n",
    "{words}\n",
    "\"\"\")"
   ]
  },
  {
   "cell_type": "code",
   "execution_count": 48,
   "metadata": {},
   "outputs": [
    {
     "name": "stdout",
     "output_type": "stream",
     "text": [
      "501 sentences match the pattern in the corpus \n",
      "\n",
      "5 first matches in the corpus:  [{'sent_id': 'dev_fixed_UDfeats.conll_02408', 'matching': {'nodes': {'V': '3', 'N': '2'}, 'edges': {'e': {'source': '3', 'label': 'SUBJ', 'target': '2'}}}}, {'sent_id': 'dev_fixed_UDfeats.conll_02406', 'matching': {'nodes': {'V': '2', 'N': '1'}, 'edges': {'e': {'source': '2', 'label': 'SUBJ', 'target': '1'}}}}, {'sent_id': 'dev_fixed_UDfeats.conll_02404', 'matching': {'nodes': {'V': '11', 'N': '10'}, 'edges': {'e': {'source': '11', 'label': 'SUBJ', 'target': '10'}}}}, {'sent_id': 'dev_fixed_UDfeats.conll_02402', 'matching': {'nodes': {'V': '6', 'N': '5'}, 'edges': {'e': {'source': '6', 'label': 'SUBJ', 'target': '5'}}}}, {'sent_id': 'dev_fixed_UDfeats.conll_02398', 'matching': {'nodes': {'V': '2', 'N': '1'}, 'edges': {'e': {'source': '2', 'label': 'SUBJ', 'target': '1'}}}}]\n",
      "\n",
      "Sentence: dev_fixed_UDfeats.conll_00001\n",
      "Text: Fire vindmøller sørger for strøm .\n",
      "\n",
      "Annotations: [[{'form': '__0__'}, [['FINV', '3']]], [{'Number': 'Plur', 'form': 'Fire', 'lemma': 'fire', 'textform': 'Fire', 'upos': 'NUM', 'wordform': 'Fire'}, []], [{'Definite': 'Ind', 'Gender': 'Fem', 'Number': 'Plur', 'form': 'vindmøller', 'lemma': 'vindmølle', 'textform': 'vindmøller', 'upos': 'NOUN', 'wordform': 'vindmøller'}, [['DET', '1']]], [{'Mood': 'Ind', 'Tense': 'Pres', 'VerbForm': 'Fin', 'form': 'sørger', 'lemma': 'sørge', 'textform': 'sørger', 'upos': 'VERB', 'wordform': 'sørger'}, [['IP', '6'], ['ADV', '4'], ['SUBJ', '2']]], [{'form': 'for', 'lemma': 'for', 'textform': 'for', 'upos': 'ADP', 'wordform': 'for'}, [['PUTFYLL', '5']]], [{'Definite': 'Ind', 'Gender': 'Masc', 'Number': 'Sing', 'form': 'strøm', 'lemma': 'strøm', 'textform': 'strøm', 'upos': 'NOUN', 'wordform': 'strøm'}, []], [{'form': '.', 'lemma': '$.', 'textform': '.', 'upos': 'PUNCT', 'wordform': '.'}, []]]\n",
      "\n",
      "Matching nodes in the selected graph:\n",
      "[{'nodes': {'V': '3', 'N': '2'}, 'edges': {'e': {'source': '3', 'label': 'SUBJ', 'target': '2'}}}]\n",
      "\n"
     ]
    }
   ],
   "source": [
    "# Søk etter mønster \n",
    "testpattern = \"\"\"\n",
    "pattern {\n",
    "    V [ upos=VERB ];\n",
    "    N [ upos=NOUN ];\n",
    "    e: V -[ SUBJ ]-> N; \n",
    "}\n",
    "\"\"\"\n",
    "\n",
    "# Antall matchende sentinger\n",
    "n_matches = grew.corpus_count(testpattern, corpus)    \n",
    "print( n_matches, \"sentences match the pattern in the corpus \\n\" )\n",
    "\n",
    "# Treff på noder og kanter \n",
    "corpus_results = grew.corpus_search(testpattern, corpus)\n",
    "print(\"5 first matches in the corpus: \", corpus_results[:5]) \n",
    "\n",
    "# setningsID fra treffene\n",
    "match_ids = [match[\"sent_id\"] for match in corpus_results]\n",
    "\n",
    "# Se på grafen til et av treffene\n",
    "(sent_graph := grew.corpus_get(match_ids[0], corpus))\n",
    "\n",
    "sent_info = [sent_graph[token] for token in sorted(sent_graph, key=int) ]\n",
    "words = [token[0][\"form\"] for token in sent_info[1:]]\n",
    "\n",
    "# Hent ut de matchede nodene og kantene fra setningen\n",
    "nodes = grew.search(testpattern, sent_graph)\n",
    "\n",
    "print(f\"\"\"\n",
    "Sentence: {sent_id}\n",
    "Text: {\" \".join(words)}\n",
    "\n",
    "Annotations: {sent_info}\n",
    "\n",
    "Matching nodes in the selected graph:\n",
    "{nodes}\n",
    "\"\"\")\n",
    "\n",
    "# Skriv grafen til en fil \n",
    "grew.save(sent_graph, \"graph_sample.json\")\n"
   ]
  },
  {
   "cell_type": "markdown",
   "metadata": {},
   "source": [
    "### Visuell mønstermatching\n",
    "\n",
    "Regelutikling anbefales å gjøres i Arborator, hvor vi har et privat prosjekt: [NDT_conversion_to_UD](https://arboratorgrew.elizia.net/#/projects/NDT_conversion_to_UD)\n",
    "\n",
    "\n",
    "Mønstersøk i eksisterende UD-versjon kan også gjøres i Grew Match: http://universal.grew.fr/?corpus=UD_Norwegian-Bokmaal@2.9"
   ]
  },
  {
   "cell_type": "markdown",
   "metadata": {},
   "source": [
    "## 2. Skriv en konverteringsregel med mønsteret\n",
    "\n"
   ]
  },
  {
   "cell_type": "code",
   "execution_count": 49,
   "metadata": {},
   "outputs": [
    {
     "data": {
      "text/plain": [
       "[{'0': [{'form': '__0__'}, [['FINV', '3']]],\n",
       "  '1': [{'Number': 'Plur',\n",
       "    'form': 'Fire',\n",
       "    'lemma': 'fire',\n",
       "    'textform': 'Fire',\n",
       "    'upos': 'NUM',\n",
       "    'wordform': 'Fire'},\n",
       "   []],\n",
       "  '2': [{'Definite': 'Ind',\n",
       "    'Gender': 'Fem',\n",
       "    'Number': 'Plur',\n",
       "    'form': 'vindmøller',\n",
       "    'lemma': 'vindmølle',\n",
       "    'textform': 'vindmøller',\n",
       "    'upos': 'NOUN',\n",
       "    'wordform': 'vindmøller'},\n",
       "   [['DET', '1']]],\n",
       "  '3': [{'Mood': 'Ind',\n",
       "    'Tense': 'Pres',\n",
       "    'VerbForm': 'Fin',\n",
       "    'form': 'sørger',\n",
       "    'lemma': 'sørge',\n",
       "    'textform': 'sørger',\n",
       "    'upos': 'VERB',\n",
       "    'wordform': 'sørger'},\n",
       "   [['nsubj', '2'], ['ADV', '4'], ['IP', '6']]],\n",
       "  '4': [{'form': 'for',\n",
       "    'lemma': 'for',\n",
       "    'textform': 'for',\n",
       "    'upos': 'ADP',\n",
       "    'wordform': 'for'},\n",
       "   [['PUTFYLL', '5']]],\n",
       "  '5': [{'Definite': 'Ind',\n",
       "    'Gender': 'Masc',\n",
       "    'Number': 'Sing',\n",
       "    'form': 'strøm',\n",
       "    'lemma': 'strøm',\n",
       "    'textform': 'strøm',\n",
       "    'upos': 'NOUN',\n",
       "    'wordform': 'strøm'},\n",
       "   []],\n",
       "  '6': [{'form': '.',\n",
       "    'lemma': '$.',\n",
       "    'textform': '.',\n",
       "    'upos': 'PUNCT',\n",
       "    'wordform': '.'},\n",
       "   []]}]"
      ]
     },
     "execution_count": 49,
     "metadata": {},
     "output_type": "execute_result"
    }
   ],
   "source": [
    "rule_name = \"nominal_subj\"\n",
    "# regel med sammensatt mønster og kommando\n",
    "test_rule = \"\"\"rule nominal_subj { \n",
    "pattern {\n",
    "    V [ upos=VERB ];\n",
    "    N [ upos=NOUN ];\n",
    "    e: V -[ SUBJ ]-> N; \n",
    "}\n",
    "commands {\n",
    "    del_edge e;\n",
    "    add_edge V -[ nsubj ]-> N;\n",
    "} }\"\"\"\n",
    "\n",
    "# Last inn regelen som et graph rewriting system\n",
    "grs_rule = grew.grs(test_rule)\n",
    "\n",
    "# Kjør regelen på den utvalgte setningen\n",
    "grew.run(grs_rule, sent_graph, rule_name)"
   ]
  },
  {
   "cell_type": "markdown",
   "metadata": {},
   "source": [
    "## 3. Stram inn regelen slik at den terminerer i én graf \n",
    "Hvis flere mønstre/regler kreves for å konvertere riktig, velg en strategi som gir én riktig graf per setning"
   ]
  },
  {
   "cell_type": "markdown",
   "metadata": {},
   "source": [
    "## Lagre regler i filer \n",
    "\n",
    "Lagre reglene i GREW-format i en `grs`-fil, med valgt strategi. \n"
   ]
  },
  {
   "cell_type": "code",
   "execution_count": 146,
   "metadata": {},
   "outputs": [
    {
     "data": {
      "text/plain": [
       "238"
      ]
     },
     "execution_count": 146,
     "metadata": {},
     "output_type": "execute_result"
    }
   ],
   "source": [
    "new_rule_file = 'dummy_rule.grs'\n",
    "Path(new_rule_file).write_text(rule)"
   ]
  },
  {
   "cell_type": "code",
   "execution_count": 157,
   "metadata": {},
   "outputs": [
    {
     "data": {
      "text/plain": [
       "223"
      ]
     },
     "execution_count": 157,
     "metadata": {},
     "output_type": "execute_result"
    }
   ],
   "source": [
    "strategy_file = Path('teststrategy.grs')\n",
    "strategy = strategy_file.read_text()\n",
    "\n",
    "strategy += f\"\"\"\n",
    "\n",
    "import \"{new_rule_file}\"\n",
    "\n",
    "strat {rule_name} {{ {rule_name} }}\n",
    "\n",
    "\"\"\"\n",
    "\n",
    "strategy_file.write_text(strategy)"
   ]
  },
  {
   "cell_type": "markdown",
   "metadata": {},
   "source": [
    "## Konverter korpuset \n"
   ]
  },
  {
   "cell_type": "code",
   "execution_count": 158,
   "metadata": {},
   "outputs": [
    {
     "name": "stdout",
     "output_type": "stream",
     "text": [
      "0.00% (000001)                                                                                      ^C\n"
     ]
    }
   ],
   "source": [
    "# fra kommandolinjen \n",
    "!grew transform -grs teststrategy.grs -strat {rule_name} -i no_bokmaal-ud-train.conllu -o grew_output.conllu "
   ]
  },
  {
   "cell_type": "markdown",
   "metadata": {},
   "source": [
    "## Visualiser resulterende grafer\n",
    "\n",
    "Under arbeid ....\n",
    "\n",
    "1. Last opp conllu-filen med de(n) resulterende grafen(e): https://universaldependencies.org/conllu_viewer.html \n",
    "2. Konverter grafene fra grew-dict-format til displacy-dict-format : "
   ]
  },
  {
   "cell_type": "code",
   "execution_count": 50,
   "metadata": {},
   "outputs": [
    {
     "ename": "NameError",
     "evalue": "name 'graphs' is not defined",
     "output_type": "error",
     "traceback": [
      "\u001b[0;31m---------------------------------------------------------------------------\u001b[0m",
      "\u001b[0;31mNameError\u001b[0m                                 Traceback (most recent call last)",
      "\u001b[1;32m/home/ingeridd/Prosjekter/grew-testing/test_grew_rule_application.ipynb Cell 20'\u001b[0m in \u001b[0;36m<cell line: 32>\u001b[0;34m()\u001b[0m\n\u001b[1;32m     <a href='vscode-notebook-cell:/home/ingeridd/Prosjekter/grew-testing/test_grew_rule_application.ipynb#ch0000025?line=28'>29</a>\u001b[0m     \u001b[39m# TODO: Implement functionality\u001b[39;00m\n\u001b[1;32m     <a href='vscode-notebook-cell:/home/ingeridd/Prosjekter/grew-testing/test_grew_rule_application.ipynb#ch0000025?line=29'>30</a>\u001b[0m     \u001b[39mpass\u001b[39;00m \n\u001b[0;32m---> <a href='vscode-notebook-cell:/home/ingeridd/Prosjekter/grew-testing/test_grew_rule_application.ipynb#ch0000025?line=31'>32</a>\u001b[0m displacy_dicts \u001b[39m=\u001b[39m grew_to_displacy(graphs)\n\u001b[1;32m     <a href='vscode-notebook-cell:/home/ingeridd/Prosjekter/grew-testing/test_grew_rule_application.ipynb#ch0000025?line=33'>34</a>\u001b[0m displacy\u001b[39m.\u001b[39mrender(docs\u001b[39m=\u001b[39mdisplacy_dicts, manual\u001b[39m=\u001b[39m\u001b[39mTrue\u001b[39;00m)\n",
      "\u001b[0;31mNameError\u001b[0m: name 'graphs' is not defined"
     ]
    }
   ],
   "source": [
    "import spacy \n",
    "from typing import List\n",
    "from spacy import displacy\n",
    "\n",
    "# displacy.parse_deps()   # Lag en spacy-dependency parse av en setning\n",
    "\n",
    "# Format the grah in displacy format\n",
    "def grew_to_displacy(graphs: List[dict]) -> List[dict]: \n",
    "    \"\"\"Displacy format:\n",
    "\n",
    "    .. code-block:: python\n",
    "    \n",
    "        {\n",
    "            \"words\": [\n",
    "                {\"text\": \"This\", \"tag\": \"DT\"},\n",
    "                {\"text\": \"is\", \"tag\": \"VBZ\"},\n",
    "                {\"text\": \"a\", \"tag\": \"DT\"},\n",
    "                {\"text\": \"sentence\", \"tag\": \"NN\"}\n",
    "            ],\n",
    "            \"arcs\": [\n",
    "                {\"start\": 0, \"end\": 1, \"label\": \"nsubj\", \"dir\": \"left\"},\n",
    "                {\"start\": 2, \"end\": 3, \"label\": \"det\", \"dir\": \"left\"},\n",
    "                {\"start\": 1, \"end\": 3, \"label\": \"attr\", \"dir\": \"right\"}\n",
    "            ]\n",
    "        }\n",
    "\n",
    "    Source: https://spacy.io/usage/visualizers#manual-usage\n",
    "    \"\"\"\n",
    "    # TODO: Implement functionality\n",
    "    pass \n",
    "\n",
    "displacy_dicts = grew_to_displacy(graphs)\n",
    "    \n",
    "displacy.render(docs=displacy_dicts, manual=True)"
   ]
  },
  {
   "cell_type": "code",
   "execution_count": null,
   "metadata": {},
   "outputs": [],
   "source": []
  }
 ],
 "metadata": {
  "interpreter": {
   "hash": "bae5209099e3b53d69c4a38a11b32bf5fb308e5804be69c308d2f1731b74776d"
  },
  "kernelspec": {
   "display_name": "Python 3.10.2 64-bit ('grew_env')",
   "language": "python",
   "name": "python3"
  },
  "language_info": {
   "codemirror_mode": {
    "name": "ipython",
    "version": 3
   },
   "file_extension": ".py",
   "mimetype": "text/x-python",
   "name": "python",
   "nbconvert_exporter": "python",
   "pygments_lexer": "ipython3",
   "version": "3.10.2"
  }
 },
 "nbformat": 4,
 "nbformat_minor": 4
}
