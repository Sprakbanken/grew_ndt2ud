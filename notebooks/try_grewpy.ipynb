{
 "cells": [
  {
   "cell_type": "markdown",
   "metadata": {},
   "source": [
    "[`grewpy` Tutorial](https://grew.fr/grewpy/tutorial/)"
   ]
  },
  {
   "cell_type": "markdown",
   "metadata": {},
   "source": [
    "# Grewpy tutorial: Run requests on a corpus\n",
    "\n",
    "https://grew.fr/grewpy/request/"
   ]
  },
  {
   "cell_type": "code",
   "execution_count": null,
   "metadata": {
    "execution": {
     "iopub.execute_input": "2024-11-17T17:37:19.927147Z",
     "iopub.status.busy": "2024-11-17T17:37:19.926735Z",
     "iopub.status.idle": "2024-11-17T17:37:20.194751Z",
     "shell.execute_reply": "2024-11-17T17:37:20.165118Z"
    }
   },
   "outputs": [],
   "source": [
    "import grewpy\n",
    "from grewpy import Corpus, Request\n",
    "\n",
    "grewpy.set_config(\"ud\")  # ud or basic"
   ]
  },
  {
   "cell_type": "markdown",
   "metadata": {},
   "source": [
    "## Import data\n",
    "The `Corpus` constructor takes a `conllu` file or a directory containing `conllu` files.\n",
    "A `Corpus` allows to make queries and to count occurrences."
   ]
  },
  {
   "cell_type": "code",
   "execution_count": null,
   "metadata": {
    "execution": {
     "iopub.execute_input": "2024-11-17T17:37:20.204811Z",
     "iopub.status.busy": "2024-11-17T17:37:20.204335Z",
     "iopub.status.idle": "2024-11-17T17:37:20.583643Z",
     "shell.execute_reply": "2024-11-17T17:37:20.583327Z"
    }
   },
   "outputs": [],
   "source": [
    "treebank_path = \"SUD_English-PUD\"\n",
    "corpus = Corpus(treebank_path)\n",
    "print(type(corpus))"
   ]
  },
  {
   "cell_type": "code",
   "execution_count": null,
   "metadata": {
    "execution": {
     "iopub.execute_input": "2024-11-17T17:37:20.585443Z",
     "iopub.status.busy": "2024-11-17T17:37:20.585331Z",
     "iopub.status.idle": "2024-11-17T17:37:20.588046Z",
     "shell.execute_reply": "2024-11-17T17:37:20.587817Z"
    }
   },
   "outputs": [],
   "source": [
    "n_sentencens = len(corpus)\n",
    "sent_ids = corpus.get_sent_ids()\n",
    "\n",
    "print(f\"{n_sentencens = }\")\n",
    "print(f\"{sent_ids[0] = }\")"
   ]
  },
  {
   "cell_type": "markdown",
   "metadata": {},
   "source": [
    "## Explore data\n",
    "See the [Grew-match tutorial](https://universal.grew.fr/?tutorial=yes) to practice writing Grew requests"
   ]
  },
  {
   "cell_type": "markdown",
   "metadata": {},
   "source": [
    "### Count the number of subjets in the corpus"
   ]
  },
  {
   "cell_type": "code",
   "execution_count": null,
   "metadata": {
    "execution": {
     "iopub.execute_input": "2024-11-17T17:37:20.589833Z",
     "iopub.status.busy": "2024-11-17T17:37:20.589733Z",
     "iopub.status.idle": "2024-11-17T17:37:20.601880Z",
     "shell.execute_reply": "2024-11-17T17:37:20.601579Z"
    }
   },
   "outputs": [],
   "source": [
    "req1 = Request(\"pattern { X-[subj]->Y }\")\n",
    "corpus.count(req1)"
   ]
  },
  {
   "cell_type": "markdown",
   "metadata": {},
   "source": [
    "It is possible to extend an already existing request with the methods `pattern`, `without` and `with_` (because `with` is a Python keyword).\n",
    "Hence, the request `req1bis` below is equivalent to `req1`."
   ]
  },
  {
   "cell_type": "code",
   "execution_count": null,
   "metadata": {
    "execution": {
     "iopub.execute_input": "2024-11-17T17:37:20.603651Z",
     "iopub.status.busy": "2024-11-17T17:37:20.603544Z",
     "iopub.status.idle": "2024-11-17T17:37:20.612836Z",
     "shell.execute_reply": "2024-11-17T17:37:20.612567Z"
    }
   },
   "outputs": [],
   "source": [
    "req1bis = Request().pattern(\"X-[subj]->Y\")\n",
    "corpus.count(req1bis)"
   ]
  },
  {
   "cell_type": "markdown",
   "metadata": {},
   "source": [
    "### Count the number of subjects such that the subject's head is not a pronoun"
   ]
  },
  {
   "cell_type": "code",
   "execution_count": null,
   "metadata": {
    "execution": {
     "iopub.execute_input": "2024-11-17T17:37:20.614602Z",
     "iopub.status.busy": "2024-11-17T17:37:20.614497Z",
     "iopub.status.idle": "2024-11-17T17:37:20.624021Z",
     "shell.execute_reply": "2024-11-17T17:37:20.623748Z"
    }
   },
   "outputs": [],
   "source": [
    "req2 = Request().pattern(\"X-[subj]->Y\").without(\"Y[upos=PRON]\")\n",
    "corpus.count(req2)"
   ]
  },
  {
   "cell_type": "markdown",
   "metadata": {},
   "source": [
    "### Count the number of subjects with at least one dependant\n",
    "Note the usage of `with_` (because `with` is a Python keyword)"
   ]
  },
  {
   "cell_type": "code",
   "execution_count": null,
   "metadata": {
    "execution": {
     "iopub.execute_input": "2024-11-17T17:37:20.625674Z",
     "iopub.status.busy": "2024-11-17T17:37:20.625586Z",
     "iopub.status.idle": "2024-11-17T17:37:20.635240Z",
     "shell.execute_reply": "2024-11-17T17:37:20.635001Z"
    }
   },
   "outputs": [],
   "source": [
    "req3 = Request().pattern(\"X-[subj]->Y\").with_(\"Y->Z\")\n",
    "corpus.count(req3)"
   ]
  },
  {
   "cell_type": "markdown",
   "metadata": {},
   "source": [
    "### `with` and `without` items can be stacked \n"
   ]
  },
  {
   "cell_type": "code",
   "execution_count": null,
   "metadata": {
    "execution": {
     "iopub.execute_input": "2024-11-17T17:37:20.636833Z",
     "iopub.status.busy": "2024-11-17T17:37:20.636752Z",
     "iopub.status.idle": "2024-11-17T17:37:20.646725Z",
     "shell.execute_reply": "2024-11-17T17:37:20.646465Z"
    }
   },
   "outputs": [],
   "source": [
    "req4 = (\n",
    "    Request()\n",
    "    .pattern(\"X-[subj]->Y\")\n",
    "    .with_(\"Y->Z\")\n",
    "    .without(\"Y[upos=PRON]\")\n",
    "    .without(\"X[upos=VERB]\")\n",
    ")\n",
    "corpus.count(req4)"
   ]
  },
  {
   "cell_type": "markdown",
   "metadata": {},
   "source": [
    "### Building a request with the raw Grew syntax\n",
    "It is possible to build request directly from the concrete syntax used in Grew-match or in Grew rules.\n",
    "The `req4` can be written:"
   ]
  },
  {
   "cell_type": "code",
   "execution_count": null,
   "metadata": {
    "execution": {
     "iopub.execute_input": "2024-11-17T17:37:20.648372Z",
     "iopub.status.busy": "2024-11-17T17:37:20.648285Z",
     "iopub.status.idle": "2024-11-17T17:37:20.659546Z",
     "shell.execute_reply": "2024-11-17T17:37:20.659279Z"
    }
   },
   "outputs": [],
   "source": [
    "req4bis = Request(\"\"\"\n",
    "pattern { X-[subj]->Y }\n",
    "with { Y->Z }\n",
    "without { Y[upos=PRON] }\n",
    "without { X[upos=VERB] }\n",
    "\"\"\")\n",
    "corpus.count(req4bis)"
   ]
  },
  {
   "cell_type": "markdown",
   "metadata": {},
   "source": [
    "### More complex queries are allowed, with results clustering\n",
    "See [Clustering](../../doc/clustering) for more documentation.\n",
    "Below, we cluster the subject relation, according to the POS of the governor."
   ]
  },
  {
   "cell_type": "code",
   "execution_count": null,
   "metadata": {
    "execution": {
     "iopub.execute_input": "2024-11-17T17:37:20.661249Z",
     "iopub.status.busy": "2024-11-17T17:37:20.661125Z",
     "iopub.status.idle": "2024-11-17T17:37:20.674597Z",
     "shell.execute_reply": "2024-11-17T17:37:20.674331Z"
    }
   },
   "outputs": [],
   "source": [
    "req5 = Request(\"pattern {X-[subj]->Y}\")\n",
    "corpus.count(req5, clustering_parameter=[\"X.upos\"])"
   ]
  },
  {
   "cell_type": "markdown",
   "metadata": {},
   "source": [
    "### Clustering results by other requests\n",
    "The clustering is done on the relative position of `X` and `Y`.\n",
    "It answers to the question: _How many subjects are in a pre-verbal position?_"
   ]
  },
  {
   "cell_type": "code",
   "execution_count": null,
   "metadata": {
    "execution": {
     "iopub.execute_input": "2024-11-17T17:37:20.676339Z",
     "iopub.status.busy": "2024-11-17T17:37:20.676227Z",
     "iopub.status.idle": "2024-11-17T17:37:20.685660Z",
     "shell.execute_reply": "2024-11-17T17:37:20.685401Z"
    }
   },
   "outputs": [],
   "source": [
    "corpus.count(req5, clustering_parameter=[\"{X << Y}\"])"
   ]
  },
  {
   "cell_type": "markdown",
   "metadata": {},
   "source": [
    "This example corresponds to the whether clustering in Grew-match.\n",
    "Note that here curly braces are required around `X << Y` to indicate that whether clustering should be performed instead of key clustering."
   ]
  },
  {
   "cell_type": "markdown",
   "metadata": {},
   "source": [
    "### Two clusterings can be applied"
   ]
  },
  {
   "cell_type": "code",
   "execution_count": null,
   "metadata": {
    "execution": {
     "iopub.execute_input": "2024-11-17T17:37:20.687426Z",
     "iopub.status.busy": "2024-11-17T17:37:20.687317Z",
     "iopub.status.idle": "2024-11-17T17:37:20.700839Z",
     "shell.execute_reply": "2024-11-17T17:37:20.700548Z"
    }
   },
   "outputs": [],
   "source": [
    "corpus.count(req5, clustering_parameter=[\"{X << Y}\", \"X.upos\"])"
   ]
  },
  {
   "cell_type": "markdown",
   "metadata": {},
   "source": [
    "### More than two clusterings are also possible"
   ]
  },
  {
   "cell_type": "code",
   "execution_count": null,
   "metadata": {
    "execution": {
     "iopub.execute_input": "2024-11-17T17:37:20.702437Z",
     "iopub.status.busy": "2024-11-17T17:37:20.702358Z",
     "iopub.status.idle": "2024-11-17T17:37:20.716333Z",
     "shell.execute_reply": "2024-11-17T17:37:20.716096Z"
    }
   },
   "outputs": [],
   "source": [
    "corpus.count(req5, clustering_parameter=[\"{X << Y}\", \"X.upos\", \"{X[Number=Sing]}\"])"
   ]
  },
  {
   "cell_type": "markdown",
   "metadata": {},
   "source": [
    "### Search occurrences\n",
    "Get the list of occurrence of a given request in the corpus"
   ]
  },
  {
   "cell_type": "code",
   "execution_count": null,
   "metadata": {
    "execution": {
     "iopub.execute_input": "2024-11-17T17:37:20.717937Z",
     "iopub.status.busy": "2024-11-17T17:37:20.717858Z",
     "iopub.status.idle": "2024-11-17T17:37:20.751212Z",
     "shell.execute_reply": "2024-11-17T17:37:20.750930Z"
    }
   },
   "outputs": [],
   "source": [
    "occurrences = corpus.search(req1)\n",
    "assert len(occurrences) == corpus.count(req1)\n",
    "occurrences[0]"
   ]
  },
  {
   "cell_type": "markdown",
   "metadata": {},
   "source": [
    "### Get occurrences including edges\n",
    "The edge is named `e`, and the label of the dependency is reported in the output"
   ]
  },
  {
   "cell_type": "code",
   "execution_count": null,
   "metadata": {
    "execution": {
     "iopub.execute_input": "2024-11-17T17:37:20.752930Z",
     "iopub.status.busy": "2024-11-17T17:37:20.752815Z",
     "iopub.status.idle": "2024-11-17T17:37:20.791193Z",
     "shell.execute_reply": "2024-11-17T17:37:20.790915Z"
    }
   },
   "outputs": [],
   "source": [
    "req6 = Request().pattern(\"e: X->Y; X[upos=VERB]\")\n",
    "corpus.search(req6)[3]"
   ]
  },
  {
   "cell_type": "markdown",
   "metadata": {},
   "source": [
    "### As with `count`, we can cluster the results of a `search`"
   ]
  },
  {
   "cell_type": "code",
   "execution_count": null,
   "metadata": {
    "execution": {
     "iopub.execute_input": "2024-11-17T17:37:20.792889Z",
     "iopub.status.busy": "2024-11-17T17:37:20.792786Z",
     "iopub.status.idle": "2024-11-17T17:37:20.821309Z",
     "shell.execute_reply": "2024-11-17T17:37:20.821027Z"
    }
   },
   "outputs": [],
   "source": [
    "result = corpus.search(req6, clustering_parameter=[\"{X << Y}\"])\n",
    "result.keys()"
   ]
  },
  {
   "cell_type": "markdown",
   "metadata": {},
   "source": [
    "## Experimentation with LIA"
   ]
  },
  {
   "cell_type": "markdown",
   "metadata": {},
   "source": [
    "import json\n",
    "from pathlib import Path\n",
    "\n",
    "from grewpy import GRS, Commands, Corpus, Graph, GRSDraft, Request, Rule, set_config\n",
    "\n",
    "set_config(\"ud\")\n",
    "\n",
    "corpus = Corpus(\"../../UD_Norwegian-NynorskLIA/no_nynorsklia-ud-dev.conllu\")\n",
    "graph = corpus[8]\n",
    "\n",
    "print(\"  Build a GRS from a file \")\n",
    "grs = GRS(\"../rules/appositions.grs\")\n",
    "print(grs)\n",
    "\n",
    "\n",
    "new_graph = grs.run(graph, strat=\"APP_main\")[0]\n",
    "\n",
    "conll_str = Graph(new_graph).to_conll()\n",
    "\n",
    "outfile = Path(\"grewpy_output.conllu\")\n",
    "\n",
    "outfile.write_text(conll_str)\n"
   ]
  }
 ],
 "metadata": {
  "kernelspec": {
   "display_name": "Python 3",
   "language": "python",
   "name": "python3"
  },
  "language_info": {
   "codemirror_mode": {
    "name": "ipython",
    "version": 3
   },
   "file_extension": ".py",
   "mimetype": "text/x-python",
   "name": "python",
   "nbconvert_exporter": "python",
   "pygments_lexer": "ipython3",
   "version": "3.10.5"
  }
 },
 "nbformat": 4,
 "nbformat_minor": 2
}
