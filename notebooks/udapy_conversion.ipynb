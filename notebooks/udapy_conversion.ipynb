{
 "cells": [
  {
   "cell_type": "code",
   "execution_count": null,
   "metadata": {},
   "outputs": [],
   "source": [
    "from pathlib import Path\n",
    "\n",
    "import udapi\n",
    "from udapi.block.ud.fixchain import FixChain\n",
    "from udapi.block.ud.fixleaf import FixLeaf\n",
    "from udapi.block.ud.fixmultisubjects import FixMultiSubjects\n",
    "from udapi.block.ud.fixpunct import FixPunct\n",
    "from udapi.block.ud.fixrightheaded import FixRightheaded\n",
    "from udapi.block.ud.setspaceafterfromtext import SetSpaceAfterFromText"
   ]
  },
  {
   "cell_type": "code",
   "execution_count": null,
   "metadata": {},
   "outputs": [],
   "source": [
    "# filename = \"UD_output.conllu\"\n",
    "filename = \"UD_Norwegian-NynorskLIA/no_nynorsklia-ud-dev.conllu\"\n",
    "\n",
    "repo_dir = Path.cwd().parent\n",
    "UDFILE = repo_dir.parent / filename\n",
    "\n",
    "assert UDFILE.exists()\n",
    "UDFILE = str(UDFILE)"
   ]
  },
  {
   "cell_type": "code",
   "execution_count": null,
   "metadata": {},
   "outputs": [],
   "source": [
    "doc = udapi.Document(filename=UDFILE)"
   ]
  },
  {
   "cell_type": "code",
   "execution_count": null,
   "metadata": {},
   "outputs": [],
   "source": [
    "# Processing full document\n",
    "\n",
    "spaceafter = SetSpaceAfterFromText()\n",
    "spaceafter.run(document=doc)\n",
    "\n",
    "fixpunct = FixPunct(check_paired_punct_upos=True)\n",
    "fixpunct.run(document=doc)\n",
    "\n",
    "fix_chain = FixChain()\n",
    "fix_chain.run(document=doc)\n",
    "\n",
    "fix_multisubj = FixMultiSubjects()\n",
    "fix_multisubj.run(document=doc)\n",
    "\n",
    "fix_right = FixRightheaded()\n",
    "fix_right.run(document=doc)\n",
    "\n",
    "fix_leaf = FixLeaf(deprels=\"aux,cop,case,mark,cc,det\")\n",
    "fix_leaf.run(document=doc)\n",
    "\n",
    "doc.store_conllu(\"out.conllu\")"
   ]
  },
  {
   "cell_type": "code",
   "execution_count": null,
   "metadata": {},
   "outputs": [],
   "source": [
    "# Run validation script at the end\n",
    "validation_script = repo_dir / \"tools/validate.py\"\n",
    "\n",
    "!pdm run python $validation_script --max-err 0 --lang no out.conllu"
   ]
  },
  {
   "cell_type": "code",
   "execution_count": null,
   "metadata": {},
   "outputs": [],
   "source": [
    "# Processing individual nodes\n",
    "\n",
    "for b in doc.bundles[:2]:\n",
    "    root = b.get_tree()\n",
    "    root.draw(layout=\"align\", attributes=\"ord,form,feats\")\n",
    "    nodes = root.descendants\n",
    "    for node in nodes:\n",
    "        if (node.upos == \"VERB\") and (node.feats[\"VerbForm\"] == \"\"):\n",
    "            #            node.feats[\"VerbForm\"] = \"Fin\"\n",
    "            print(node.form, node.feats)\n",
    "\n",
    "# doc.store_conllu(\"out.conllu\")"
   ]
  },
  {
   "cell_type": "code",
   "execution_count": null,
   "metadata": {},
   "outputs": [],
   "source": []
  }
 ],
 "metadata": {
  "kernelspec": {
   "display_name": ".venv",
   "language": "python",
   "name": "python3"
  },
  "language_info": {
   "codemirror_mode": {
    "name": "ipython",
    "version": 3
   },
   "file_extension": ".py",
   "mimetype": "text/x-python",
   "name": "python",
   "nbconvert_exporter": "python",
   "pygments_lexer": "ipython3",
   "version": "3.13.1"
  },
  "orig_nbformat": 4
 },
 "nbformat": 4,
 "nbformat_minor": 2
}
