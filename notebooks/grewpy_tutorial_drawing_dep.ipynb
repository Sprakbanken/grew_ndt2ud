{
 "cells": [
  {
   "cell_type": "markdown",
   "metadata": {},
   "source": [
    "# `grewpy` library: Drawing dependencies\n",
    "\n",
    "https://grew.fr/grewpy/drawing_dep/"
   ]
  },
  {
   "cell_type": "markdown",
   "metadata": {},
   "source": [
    "The code below initializes Grewpy, load a `corpus` and a `graph` from the `corpus`."
   ]
  },
  {
   "cell_type": "code",
   "execution_count": null,
   "metadata": {
    "execution": {
     "iopub.execute_input": "2024-11-17T17:37:22.598493Z",
     "iopub.status.busy": "2024-11-17T17:37:22.597974Z",
     "iopub.status.idle": "2024-11-17T17:37:23.229106Z",
     "shell.execute_reply": "2024-11-17T17:37:23.228718Z"
    }
   },
   "outputs": [],
   "source": [
    "import grewpy\n",
    "from grewpy import Corpus, Graph, Request\n",
    "\n",
    "grewpy.set_config(\"ud\")  # ud or basic\n",
    "corpus = Corpus(\"../UD_output.conllu\")"
   ]
  },
  {
   "cell_type": "code",
   "execution_count": null,
   "metadata": {},
   "outputs": [],
   "source": [
    "sent_id = \"2\"\n",
    "graph = corpus[sent_id]"
   ]
  },
  {
   "cell_type": "code",
   "execution_count": null,
   "metadata": {},
   "outputs": [],
   "source": [
    "print(graph.to_conll())"
   ]
  },
  {
   "cell_type": "markdown",
   "metadata": {},
   "source": [
    "## Build the SVG picture for a graph\n",
    "\n",
    "In the Graph module, the method `to_svg` produces the SVG code for the dependency structure picture.\n",
    "The code below stores the result in a new file `1926.svg`."
   ]
  },
  {
   "cell_type": "code",
   "execution_count": null,
   "metadata": {
    "execution": {
     "iopub.execute_input": "2024-11-17T17:37:23.231295Z",
     "iopub.status.busy": "2024-11-17T17:37:23.231131Z",
     "iopub.status.idle": "2024-11-17T17:37:23.243565Z",
     "shell.execute_reply": "2024-11-17T17:37:23.243295Z"
    }
   },
   "outputs": [],
   "source": [
    "import os\n",
    "\n",
    "os.makedirs(\"images\", exist_ok=True)\n",
    "with open(\"images/n01003007.svg\", \"w\") as f:\n",
    "    f.write(graph.to_svg())"
   ]
  },
  {
   "cell_type": "markdown",
   "metadata": {},
   "source": [
    "![n01003007 image](../images/n01003007.svg)"
   ]
  },
  {
   "cell_type": "markdown",
   "metadata": {},
   "source": [
    "By default, the _anchor_ node (noted `__0__`) and the `root` link between it and the root of the sentence are not drawn.\n",
    "With the option `draw_root`, the drawing of the anchor node and the `root` link is added."
   ]
  },
  {
   "cell_type": "code",
   "execution_count": null,
   "metadata": {
    "execution": {
     "iopub.execute_input": "2024-11-17T17:37:23.245395Z",
     "iopub.status.busy": "2024-11-17T17:37:23.245293Z",
     "iopub.status.idle": "2024-11-17T17:37:23.249310Z",
     "shell.execute_reply": "2024-11-17T17:37:23.249044Z"
    }
   },
   "outputs": [],
   "source": [
    "with open(\"images/n01003007_with_root.svg\", \"w\") as f:\n",
    "    f.write(graph.to_svg(draw_root=True))"
   ]
  },
  {
   "cell_type": "markdown",
   "metadata": {},
   "source": [
    "![n01003007_with_root image](../images/n01003007_with_root.svg)"
   ]
  },
  {
   "cell_type": "markdown",
   "metadata": {},
   "source": [
    "## Drawing dep structure with highlighted matching\n",
    "It is possible to create an image of a graph with highlighted matching, as in the Grew-match interface.\n",
    "To do this, we should specify that we want to keep the _decoration_ of the graph when searching the corpus. The optional argument `deco=True` does exactly that."
   ]
  },
  {
   "cell_type": "code",
   "execution_count": null,
   "metadata": {
    "execution": {
     "iopub.execute_input": "2024-11-17T17:37:23.251022Z",
     "iopub.status.busy": "2024-11-17T17:37:23.250917Z",
     "iopub.status.idle": "2024-11-17T17:37:23.258618Z",
     "shell.execute_reply": "2024-11-17T17:37:23.258331Z"
    }
   },
   "outputs": [],
   "source": [
    "request = Request(\"pattern { N[lemma=kino] }\")\n",
    "matchings = corpus.search(request, deco=True)\n",
    "print(matchings)"
   ]
  },
  {
   "cell_type": "markdown",
   "metadata": {},
   "source": [
    "Each item in the list has an (abstract) attribute `order` which can be used in further function calls to manage graph decoration."
   ]
  },
  {
   "cell_type": "markdown",
   "metadata": {},
   "source": [
    "Let `g1` be the first matched graph and `d1` the decoration associated to the matching:"
   ]
  },
  {
   "cell_type": "code",
   "execution_count": null,
   "metadata": {
    "execution": {
     "iopub.execute_input": "2024-11-17T17:37:23.260474Z",
     "iopub.status.busy": "2024-11-17T17:37:23.260267Z",
     "iopub.status.idle": "2024-11-17T17:37:23.262712Z",
     "shell.execute_reply": "2024-11-17T17:37:23.262465Z"
    }
   },
   "outputs": [],
   "source": [
    "g1 = corpus[matchings[1][\"sent_id\"]]\n",
    "d1 = matchings[1][\"deco\"]"
   ]
  },
  {
   "cell_type": "markdown",
   "metadata": {},
   "source": [
    "The decorated SVG is computed and saved in a file `question_with_deco.svg` with:"
   ]
  },
  {
   "cell_type": "code",
   "execution_count": null,
   "metadata": {
    "execution": {
     "iopub.execute_input": "2024-11-17T17:37:23.264285Z",
     "iopub.status.busy": "2024-11-17T17:37:23.264186Z",
     "iopub.status.idle": "2024-11-17T17:37:23.270371Z",
     "shell.execute_reply": "2024-11-17T17:37:23.270111Z"
    }
   },
   "outputs": [],
   "source": [
    "with open(\"images/question_with_deco.svg\", \"w\") as f:\n",
    "    f.write(g1.to_svg(deco=d1))"
   ]
  },
  {
   "cell_type": "markdown",
   "metadata": {},
   "source": [
    "![question_with_deco image](../images/question_with_deco.svg)"
   ]
  },
  {
   "cell_type": "markdown",
   "metadata": {},
   "source": [
    "The decoration can also be used in method `to_sentence` to produced the _highlighted_ sentence (like the text in red in Grew-match interface) using some HTML class called `highlight`."
   ]
  },
  {
   "cell_type": "code",
   "execution_count": null,
   "metadata": {
    "execution": {
     "iopub.execute_input": "2024-11-17T17:37:23.272130Z",
     "iopub.status.busy": "2024-11-17T17:37:23.272049Z",
     "iopub.status.idle": "2024-11-17T17:37:23.276912Z",
     "shell.execute_reply": "2024-11-17T17:37:23.276655Z"
    }
   },
   "outputs": [],
   "source": [
    "g1.to_sentence(deco=d1)"
   ]
  }
 ],
 "metadata": {
  "kernelspec": {
   "display_name": ".venv",
   "language": "python",
   "name": "python3"
  },
  "language_info": {
   "codemirror_mode": {
    "name": "ipython",
    "version": 3
   },
   "file_extension": ".py",
   "mimetype": "text/x-python",
   "name": "python",
   "nbconvert_exporter": "python",
   "pygments_lexer": "ipython3",
   "version": "3.13.1"
  }
 },
 "nbformat": 4,
 "nbformat_minor": 2
}
