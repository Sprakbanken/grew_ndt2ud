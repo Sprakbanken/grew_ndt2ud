{
 "cells": [
  {
   "cell_type": "markdown",
   "metadata": {},
   "source": [
    "# Arbeidsløype for grafkonversjon med Grew\n",
    "\n",
    "1. Last inn en NDT-formatert trebank og [konverter ordklasser og morfologiske trekk](#konverter-ordklasser-og-morfologiske-trekk) til UD-POS-tags og feats\n",
    "2. [Legg til \"SpaceAfter=No\"](#legg-til-spaceafterno) i `MISC`-feltet for tegnsetting som ikke skal ha mellomrom.\n",
    "3. [Last inn eksisterende regler](#last-inn-eksisterende-regler) i et GRS-objekt og kjør det på korpuset\n",
    "4. [Søk etter et setningsmønster som må endres i trebanken](#søk-etter-setningsmønster-i-trebanken)\n",
    "5. [Skriv en konverteringsregel med mønsteret](#2-skriv-en-konverteringsregel-med-mønsteret)\n",
    "6. Hvis flere mønstre/regler kreves for å konvertere riktig, velg en strategi som gir én riktig graf per setning (vanligvis `Onf`)\n",
    "7. Visualiser en setningsgraf"
   ]
  },
  {
   "cell_type": "code",
   "execution_count": 19,
   "metadata": {},
   "outputs": [],
   "source": [
    "# Fix PATH to include OPAM binaries where grewpy_backend is located\n",
    "import os\n",
    "\n",
    "os.environ[\"PATH\"] = os.environ[\"HOME\"] + \"/.opam/5.2.0/bin:\" + os.environ[\"PATH\"]\n",
    "\n",
    "# Check if a norwegian spacy model exists in the virtual environment\n",
    "try:\n",
    "    import nb_core_news_md\n",
    "except ModuleNotFoundError:\n",
    "    print(\"Download a Norwegian spacy model to visualise graphs with Displacy\")\n",
    "    !python -m spacy download nb_core_news_md"
   ]
  },
  {
   "cell_type": "code",
   "execution_count": 20,
   "metadata": {},
   "outputs": [],
   "source": [
    "import grewpy\n",
    "from grewpy import Corpus, CorpusDraft, Request\n",
    "\n",
    "grewpy.set_config(\"ud\")  # ud or basic"
   ]
  },
  {
   "cell_type": "markdown",
   "metadata": {},
   "source": [
    "## Konverter ordklasser og morfologiske trekk"
   ]
  },
  {
   "cell_type": "code",
   "execution_count": 21,
   "metadata": {},
   "outputs": [],
   "source": [
    "from pathlib import Path\n",
    "\n",
    "from ndt2ud.morphological_features import convert_morphology\n",
    "from ndt2ud.parse_conllu import parse_conll_file\n",
    "from ndt2ud.utils import write_conll\n",
    "\n",
    "treebank_file = (\n",
    "    \"../spoken_norwegian_resources/treebanks/Norwegian-NynorskLIA/aal_uio_06.conll\"\n",
    ")\n",
    "UD_treebank_file = \"../UD_output.conllu\"\n",
    "\n",
    "# Load the NDT treebank and convert the part of speech and morphological features to UD features\n",
    "conllu_data = parse_conll_file(Path(treebank_file))\n",
    "morphdata = convert_morphology(conllu_data)\n",
    "write_conll(morphdata, UD_treebank_file, drop_comments=False)"
   ]
  },
  {
   "cell_type": "markdown",
   "metadata": {},
   "source": [
    "## Last inn korpuset med Grewpy\n",
    "\n",
    "Se [Grewpy-dokumentasjonen](https://grew.fr/python/grewpy.html#grewpy-package) for mer info om APIet i python. "
   ]
  },
  {
   "cell_type": "code",
   "execution_count": 22,
   "metadata": {},
   "outputs": [
    {
     "name": "stdout",
     "output_type": "stream",
     "text": [
      "Antall setninger i trebanken:  84\n",
      "Statistikk over ulike morfologiske trekk i trebanken:\n",
      "{'Animacy': {'Hum': 117},\n",
      " 'Case': {'Acc': 29, 'Nom': 114},\n",
      " 'Definite': {'Ind': 138},\n",
      " 'Degree': {'Cmp': 1, 'Pos': 58, 'Sup': 1},\n",
      " 'Gender': {'Fem': 96, 'Masc': 108, 'Neut': 148},\n",
      " 'Mood': {'Ind': 210},\n",
      " 'NumType': {'Card': 22},\n",
      " 'Number': {'Plur': 212},\n",
      " 'Person': {'1': 70, '2': 16, '3': 121},\n",
      " 'Polarity': {'Neg': 15},\n",
      " 'Poss': {'Yes': 4},\n",
      " 'PronType': {'Art': 25,\n",
      "              'Dem': 31,\n",
      "              'Ind': 8,\n",
      "              'Int': 2,\n",
      "              'Prs': 215,\n",
      "              'Prs,Tot': 1,\n",
      "              'Tot': 3},\n",
      " 'Reflex': {'Yes': 3},\n",
      " 'Tense': {'Past': 179, 'Pres': 31},\n",
      " 'VerbForm': {'Fin': 210, 'Inf': 50, 'Part': 10},\n",
      " '__RAW_MISC__': {'hov': 965, 'inf': 48, 'led': 416},\n",
      " 'upos': {'ADJ': 65,\n",
      "          'ADP': 145,\n",
      "          'ADV': 116,\n",
      "          'AUX': 93,\n",
      "          'CCONJ': 100,\n",
      "          'DET': 64,\n",
      "          'INTJ': 15,\n",
      "          'NOUN': 194,\n",
      "          'NUM': 22,\n",
      "          'PART': 25,\n",
      "          'PRON': 223,\n",
      "          'PROPN': 5,\n",
      "          'PUNCT': 11,\n",
      "          'SCONJ': 50,\n",
      "          'VERB': 172,\n",
      "          'anf': 18,\n",
      "          'nol': 7,\n",
      "          'pause': 97,\n",
      "          'ufullst': 7}}\n"
     ]
    }
   ],
   "source": [
    "from pprint import pprint\n",
    "\n",
    "from grewpy import Corpus\n",
    "\n",
    "original_corpus = Corpus(UD_treebank_file)\n",
    "\n",
    "print(\n",
    "    \"Antall setninger i trebanken: \", original_corpus.count(Request())\n",
    ")  # Empty request will match all sentences\n",
    "\n",
    "print(\"Statistikk over ulike morfologiske trekk i trebanken:\")\n",
    "pprint(\n",
    "    original_corpus.count_feature_values(\n",
    "        exclude=[\"form\", \"lemma\", \"textform\", \"wordform\"]\n",
    "    )\n",
    ")"
   ]
  },
  {
   "cell_type": "markdown",
   "metadata": {},
   "source": [
    "### Legg til/endre MISC-annotasjoner\n",
    "\n",
    "> **OBS** Dette steget har ingen effekt på LIA-trebanken, siden setningsavsluttende tegnsetting har et mellomrom foran seg.\n",
    "Se annotasjonsretningslinjene  for LIA [her](https://tekstlab.uio.no/LIA/pdf/parseretningslinjer-lia12042019.pdf)."
   ]
  },
  {
   "cell_type": "code",
   "execution_count": null,
   "metadata": {},
   "outputs": [],
   "source": [
    "from grewpy import CorpusDraft\n",
    "\n",
    "from ndt2ud.utils import add_SyntacticLevel_misc_annotation, set_spaceafter_from_text\n",
    "\n",
    "# Gjør om immutable Corpus til et mutable CorpusDraft\n",
    "draft = CorpusDraft(UD_treebank_file)\n",
    "\n",
    "# Legg til \"SpaceAfter=No\"\n",
    "draft.map(set_spaceafter_from_text, in_place=True)\n",
    "# Legg til SyntacticLevel for LIA-trebanken\n",
    "draft.map(add_SyntacticLevel_misc_annotation, in_place=True)\n",
    "\n",
    "# Skriv endringene tilbake til et Corpus-objekt\n",
    "corpus = Corpus(draft)"
   ]
  },
  {
   "cell_type": "markdown",
   "metadata": {},
   "source": [
    "### Fiks tegnsetting \n"
   ]
  },
  {
   "cell_type": "code",
   "execution_count": 93,
   "metadata": {},
   "outputs": [
    {
     "name": "stdout",
     "output_type": "stream",
     "text": [
      "livet på stølen har forandra seg veldig dei siste åra\n"
     ]
    },
    {
     "ename": "AttributeError",
     "evalue": "'str' object has no attribute 'triples'",
     "output_type": "error",
     "traceback": [
      "\u001b[31m---------------------------------------------------------------------------\u001b[39m",
      "\u001b[31mAttributeError\u001b[39m                            Traceback (most recent call last)",
      "\u001b[36mCell\u001b[39m\u001b[36m \u001b[39m\u001b[32mIn[93]\u001b[39m\u001b[32m, line 17\u001b[39m\n\u001b[32m     14\u001b[39m     \u001b[38;5;28mprint\u001b[39m(graph.meta[\u001b[33m\"\u001b[39m\u001b[33mtext\u001b[39m\u001b[33m\"\u001b[39m])\n\u001b[32m     15\u001b[39m \u001b[38;5;66;03m#\u001b[39;00m\n\u001b[32m---> \u001b[39m\u001b[32m17\u001b[39m \u001b[43mgraph\u001b[49m\u001b[43m.\u001b[49m\u001b[43medge_diff_up_to\u001b[49m\u001b[43m(\u001b[49m\u001b[43mnode_id\u001b[49m\u001b[43m)\u001b[49m\n",
      "\u001b[36mFile \u001b[39m\u001b[32m~/prosjekter/grew_ndt2ud/.venv/lib/python3.13/site-packages/grewpy/graph.py:338\u001b[39m, in \u001b[36mGraph.edge_diff_up_to\u001b[39m\u001b[34m(self, other, edge_transform)\u001b[39m\n\u001b[32m    336\u001b[39m         E1.add((m,et,n))\n\u001b[32m    337\u001b[39m E2 = \u001b[38;5;28mset\u001b[39m()\n\u001b[32m--> \u001b[39m\u001b[32m338\u001b[39m \u001b[38;5;28;01mfor\u001b[39;00m m, e, n \u001b[38;5;129;01min\u001b[39;00m \u001b[43mother\u001b[49m\u001b[43m.\u001b[49m\u001b[43mtriples\u001b[49m():\n\u001b[32m    339\u001b[39m     et = edge_transform(e)\n\u001b[32m    340\u001b[39m     \u001b[38;5;28;01mif\u001b[39;00m et:\n",
      "\u001b[31mAttributeError\u001b[39m: 'str' object has no attribute 'triples'"
     ]
    }
   ],
   "source": [
    "graph = corpus[0]\n",
    "node_id = \"3\"\n",
    "node = graph[node_id]\n",
    "\n",
    "\n",
    "deps = graph.sucs.get(node_id, [])\n",
    "try:\n",
    "    dep_id = deps[0][0]\n",
    "\n",
    "    graph.edge(node_id, dep_id)\n",
    "\n",
    "    graph.lower(node_id, dep_id)\n",
    "finally:\n",
    "    print(graph.meta[\"text\"])\n",
    "#\n",
    "\n",
    "graph.edge_diff_up_to(node_id)"
   ]
  },
  {
   "cell_type": "code",
   "execution_count": null,
   "metadata": {},
   "outputs": [],
   "source": [
    "graph.sucs\n",
    "\n",
    "parent_lookup = {\n",
    "    child_node[0]: parent_id\n",
    "    for parent_id in graph.sucs\n",
    "    for child_node in graph.sucs[parent_id]\n",
    "}"
   ]
  },
  {
   "cell_type": "code",
   "execution_count": 103,
   "metadata": {},
   "outputs": [
    {
     "data": {
      "text/plain": [
       "[('10', FsEdge({'1': 'amod'}), '9'),\n",
       " ('10', FsEdge({'1': 'det'}), '8'),\n",
       " ('5', FsEdge({'1': 'obl'}), '10'),\n",
       " ('5', FsEdge({'1': 'advmod'}), '7'),\n",
       " ('5', FsEdge({'1': 'obj'}), '6'),\n",
       " ('5', FsEdge({'1': 'aux'}), '4'),\n",
       " ('5', FsEdge({'1': 'nsubj'}), '1'),\n",
       " ('3', FsEdge({'1': 'case'}), '2'),\n",
       " ('1', FsEdge({'1': 'nmod'}), '3'),\n",
       " ('0', FsEdge({'1': 'root'}), '5')]"
      ]
     },
     "execution_count": 103,
     "metadata": {},
     "output_type": "execute_result"
    }
   ],
   "source": [
    "graph.triples()"
   ]
  },
  {
   "cell_type": "markdown",
   "metadata": {},
   "source": [
    "### Kjør eksisterende omskrivingsregler på trebanken"
   ]
  },
  {
   "cell_type": "code",
   "execution_count": 54,
   "metadata": {},
   "outputs": [],
   "source": [
    "from grewpy import GRS\n",
    "\n",
    "import ndt2ud\n",
    "\n",
    "# Last inn reglene fra fil\n",
    "src_root = Path(ndt2ud.__path__[0]).parent\n",
    "grew_rules_file = str(src_root / \"rules\" / \"NDT_to_UD.grs\")\n",
    "NDT_to_UD_grs = GRS(grew_rules_file)\n",
    "\n",
    "# Bruk reglene for nynorsk på LIA : main_nn\n",
    "corpus = NDT_to_UD_grs.apply(corpus, strat=\"main_nn\")"
   ]
  },
  {
   "cell_type": "markdown",
   "metadata": {},
   "source": [
    "### Sammenlign trebanken før og etter endringene"
   ]
  },
  {
   "cell_type": "code",
   "execution_count": 55,
   "metadata": {},
   "outputs": [
    {
     "name": "stdout",
     "output_type": "stream",
     "text": [
      "{'common': np.int64(115),\n",
      " 'f_measure': np.float64(0.08),\n",
      " 'left': np.int64(1314),\n",
      " 'precision': np.float64(0.08),\n",
      " 'recall': np.float64(0.08),\n",
      " 'right': np.int64(1314)}\n",
      "{'Animacy': {'Hum': 117},\n",
      " 'Case': {'Acc': 29, 'Nom': 114},\n",
      " 'Definite': {'Ind': 138},\n",
      " 'Degree': {'Cmp': 1, 'Pos': 58, 'Sup': 1},\n",
      " 'Gender': {'Fem': 96, 'Masc': 108, 'Neut': 148},\n",
      " 'Mood': {'Ind': 210},\n",
      " 'NumType': {'Card': 22},\n",
      " 'Number': {'Plur': 212},\n",
      " 'Person': {'1': 70, '2': 16, '3': 121},\n",
      " 'Polarity': {'Neg': 15},\n",
      " 'Poss': {'Yes': 4},\n",
      " 'PronType': {'Art': 46,\n",
      "              'Dem': 10,\n",
      "              'Ind': 8,\n",
      "              'Int': 2,\n",
      "              'Prs': 215,\n",
      "              'Prs,Tot': 1,\n",
      "              'Tot': 3},\n",
      " 'Reflex': {'Yes': 3},\n",
      " 'SyntacticLevel': {'hov': 965, 'inf': 48, 'led': 416},\n",
      " 'Tense': {'Past': 179, 'Pres': 31},\n",
      " 'VerbForm': {'Fin': 210, 'Inf': 50, 'Part': 10},\n",
      " 'upos': {'ADJ': 65,\n",
      "          'ADP': 113,\n",
      "          'ADV': 148,\n",
      "          'AUX': 93,\n",
      "          'CCONJ': 100,\n",
      "          'DET': 64,\n",
      "          'INTJ': 15,\n",
      "          'NOUN': 194,\n",
      "          'NUM': 22,\n",
      "          'PART': 25,\n",
      "          'PRON': 223,\n",
      "          'PROPN': 5,\n",
      "          'PUNCT': 11,\n",
      "          'SCONJ': 50,\n",
      "          'VERB': 172,\n",
      "          'anf': 18,\n",
      "          'nol': 7,\n",
      "          'pause': 97,\n",
      "          'ufullst': 7}}\n"
     ]
    }
   ],
   "source": [
    "pprint(original_corpus.edge_diff(corpus))\n",
    "pprint(corpus.count_feature_values(exclude=[\"form\", \"lemma\", \"textform\", \"wordform\"]))"
   ]
  },
  {
   "cell_type": "markdown",
   "metadata": {},
   "source": [
    "## Skriv nye regler"
   ]
  },
  {
   "cell_type": "markdown",
   "metadata": {},
   "source": [
    "\n",
    "### Steg 1: Søk etter setningsmønster i trebanken\n",
    "\n",
    "Se retningslinjene for NDT-trebanken som definerer hvilke trekk og relasjoner vi evt. må endre. \n",
    "\n",
    "- Se Grew-dokumentasjonen for info om [`Request`](https://grew.fr/doc/request/) og syntaks for mønstrene (`pattern`-feltet i Request-objektet).\n",
    "\n",
    "- Mønstersøk i eksisterende UD-versjon kan også gjøres i Grew Match: https://universal.grew.fr/?corpus=UD_Norwegian-Bokmaal@2.16\n",
    "\n",
    "- Regelutikling kan også gjøres i Arborator, hvor vi har et privat prosjekt: [NDT_conversion_to_UD](https://arboratorgrew.elizia.net/#/projects/NDT_conversion_to_UD)\n"
   ]
  },
  {
   "cell_type": "markdown",
   "metadata": {},
   "source": [
    "\n",
    "### Eksempel: ukjent POS-tag \"nol\" \n",
    "\n",
    "- Fra retningslinjene til [LIA](https://tekstlab.uio.no/LIA/pdf/parseretningslinjer-lia12042019.pdf): \n",
    "\n",
    "> #### 5.2 Discourse fillers\n",
    "> Nølelyder som e og m (discourse filler i Dobrovolje & Nivre) gir vi ordklassetaggen nol og funksjonen\n",
    "FYLL. Nølelydene behandler vi likt som pausetegnet og er, dermed, dependent til ordet som kommer \n",
    "til høyre i setningsstrengen.\n",
    "\n",
    "\n"
   ]
  },
  {
   "cell_type": "code",
   "execution_count": null,
   "metadata": {},
   "outputs": [],
   "source": [
    "from grewpy import Request\n",
    "\n",
    "# Definer setningsmønsteret\n",
    "pattern = \"N [upos=nol]; e: H -> N; \"\n",
    "request = Request().pattern(pattern)\n",
    "occurrences = corpus.search(request)\n",
    "\n",
    "print(f\"Antall treff: {corpus.count(request)}\")  # type: ignore\n",
    "\n",
    "print(\"Setninger som matcher mønsteret: \")\n",
    "\n",
    "for occ in occurrences:\n",
    "    sent_id = occ[\"sent_id\"]\n",
    "    pattern_match = occ[\"matching\"]\n",
    "    graph = corpus.get(sent_id)\n",
    "    text = graph.to_sentence()\n",
    "    N_node_id = pattern_match[\"nodes\"][\"N\"]\n",
    "    H_node_id = pattern_match[\"nodes\"][\"H\"]\n",
    "\n",
    "    print()\n",
    "    print(f\"{sent_id=}\")\n",
    "    print(f\"{text=}\")  # type: ignore\n",
    "    print(f\"{pattern_match=}\")\n",
    "    print(f\"Node N: {graph[N_node_id]}\")\n",
    "    print(f\"Node H: {graph[H_node_id]}\")\n",
    "    print(f\"Edge: {graph.edge(H_node_id, N_node_id)}\")"
   ]
  },
  {
   "cell_type": "markdown",
   "metadata": {},
   "source": [
    "### Steg 2: Skriv en konverteringsregel"
   ]
  },
  {
   "cell_type": "code",
   "execution_count": null,
   "metadata": {},
   "outputs": [],
   "source": [
    "from grewpy import CorpusDraft\n",
    "\n",
    "# Gjør om corpus til et draft (fordi grewpy.Corpus er immutable, mens CorpusDraft er mutable)\n",
    "draft = CorpusDraft(corpus)"
   ]
  },
  {
   "cell_type": "markdown",
   "metadata": {},
   "source": [
    "#### Alternativ 1: \n",
    "Gå gjennom søketreffene og endre grafen i draft-korpuset"
   ]
  },
  {
   "cell_type": "code",
   "execution_count": null,
   "metadata": {},
   "outputs": [],
   "source": [
    "for occ in occurrences:\n",
    "    sent_id = occ[\"sent_id\"]\n",
    "    # Hent ut variabler for nodene og kantene vi traff med Request-søket\n",
    "    N_node_id = occ[\"matching\"][\"nodes\"][\"N\"]\n",
    "    H_node_id = occ[\"matching\"][\"nodes\"][\"H\"]\n",
    "    e_edge = occ[\"matching\"][\"edges\"][\"e\"]\n",
    "\n",
    "    # Hent ut grafen til setningen vi traff\n",
    "    draft[sent_id][N_node_id][\"upos\"] = \"INTJ\"\n",
    "    draft[sent_id].edge(H_node_id, N_node_id).update({\"1\": \"discourse\", \"2\": \"filler\"})\n",
    "\n",
    "# Gjør om resulterende draft til et `Corpus` før vi bruker `count`-metoden\n",
    "corpus2 = Corpus(draft)"
   ]
  },
  {
   "cell_type": "markdown",
   "metadata": {},
   "source": [
    "#### Alternativ 2: \n",
    "\n",
    "Skriv en python-funksjon som mappes til alle grafene, og som tar en graf som input. \n",
    "Søkemønsteret som filtrerer grafene må skrives om til python. "
   ]
  },
  {
   "cell_type": "code",
   "execution_count": null,
   "metadata": {},
   "outputs": [],
   "source": [
    "def relabel_nol(graph):\n",
    "    for node in graph:\n",
    "        if \"upos\" in graph[node] and graph[node][\"upos\"] == \"nol\":\n",
    "            graph[node][\"upos\"] = \"INTJ\"\n",
    "    return graph\n",
    "\n",
    "\n",
    "draft.map(relabel_nol, in_place=True)\n",
    "# Gjør om resulterende draft til et `Corpus` før vi bruker `count`-metoden\n",
    "corpus2 = Corpus(draft)"
   ]
  },
  {
   "cell_type": "markdown",
   "metadata": {},
   "source": [
    "#### Alternativ 3: \n",
    "Skriv en regel med Grew sin Graph Rewriting System-syntaks og kjør den rett på `Corpus`-objektet"
   ]
  },
  {
   "cell_type": "code",
   "execution_count": null,
   "metadata": {},
   "outputs": [],
   "source": [
    "from grewpy import GRSDraft\n",
    "\n",
    "grew_strategy = \"\"\"\n",
    "strat main {\n",
    "    Onf (relabel_nol_discourse_deprel)\n",
    "}\n",
    "\n",
    "rule relabel_nol_discourse_deprel { \n",
    "    pattern {\n",
    "        X [ upos=nol ];\n",
    "        e: Y -[FYLL]-> X; \n",
    "    }\n",
    "    commands {\n",
    "        X.upos=INTJ;\n",
    "        e.1=discourse;\n",
    "        e.2=filler;\n",
    "    } \n",
    "}\n",
    "\"\"\"\n",
    "\n",
    "# Last inn regelen som et graph rewriting system\n",
    "grs_draft = GRSDraft(grew_strategy)\n",
    "grs = GRS(grs_draft)\n",
    "corpus2 = grs.apply(Corpus(draft))"
   ]
  },
  {
   "cell_type": "markdown",
   "metadata": {},
   "source": [
    "#### Sammenlign søketreff"
   ]
  },
  {
   "cell_type": "code",
   "execution_count": null,
   "metadata": {},
   "outputs": [],
   "source": [
    "print(\n",
    "    \"Treff på samme mønster som i regelen:\", corpus2.count(request)\n",
    ")  # Burde være 0 nå\n",
    "print(\n",
    "    \"Treff på endringen som ble gjort: \",\n",
    "    corpus2.count(Request(\"pattern { N[upos=INTJ]; H -[1=discourse, 2=filler]-> N;}\")),\n",
    ")\n",
    "\n",
    "# Sammenlign corpus før og etter regelen\n",
    "corpus2.edge_diff(corpus)"
   ]
  },
  {
   "cell_type": "markdown",
   "metadata": {},
   "source": [
    "## Visualiser setningsgrafer"
   ]
  },
  {
   "cell_type": "code",
   "execution_count": null,
   "metadata": {},
   "outputs": [],
   "source": [
    "from grewpy.network import GrewError\n",
    "from IPython.display import HTML, SVG, display\n",
    "from spacy import displacy\n",
    "from spacy_conll import init_parser\n",
    "from spacy_conll.parser import ConllParser\n",
    "\n",
    "from ndt2ud.visualize import visualize_graph_displacy, visualize_graph_dot\n",
    "\n",
    "\n",
    "def visualize_graph(graph):\n",
    "    sent_id = graph.meta[\"sent_id\"]\n",
    "    print(f\"Sentence ID: {sent_id}\")\n",
    "    print(f\"Text: {graph.to_sentence()}\")\n",
    "    output_name = f\"graph_{sent_id}\"\n",
    "    try:\n",
    "        # graph.to_svg() has a known issue with some grewpy installations, but may work in some environments\n",
    "        svg_result = graph.to_svg()\n",
    "        Path(f\"{output_name}.svg\").open(\"w\", encoding=\"utf-8\").write(svg_result)\n",
    "        visual_graph = SVG(svg_result)\n",
    "    except GrewError as e:\n",
    "        conllstr = graph.to_conll()\n",
    "\n",
    "        if \"nlp\" not in locals():\n",
    "            nlp = ConllParser(init_parser(\"nb_core_news_md\", \"spacy\"))\n",
    "        try:\n",
    "            doc = nlp.parse_conll_text_as_spacy(conllstr)  # type:ignore\n",
    "            visual_graph = HTML(\n",
    "                displacy.render(\n",
    "                    doc,\n",
    "                    style=\"dep\",\n",
    "                    jupyter=False,\n",
    "                    options={\"compact\": False, \"color\": \"green\", \"distance\": 100.0},\n",
    "                )\n",
    "            )\n",
    "            # visual_graph = HTML(visualize_graph_displacy(graph, nlp, output_name=output_name))\n",
    "\n",
    "        except ValueError:\n",
    "            print(f\"Using alternative visualization method with dot and graphviz\")\n",
    "            result = visualize_graph_dot(graph, output_name)\n",
    "            visual_graph = SVG(filename=result)\n",
    "\n",
    "    display(visual_graph)\n",
    "\n",
    "\n",
    "# Hent ut en bestemt setningsgraf med setnings-ID\n",
    "sent_id = \"8\"  # '82', '79', '73', '47', '42', '8', '4'\n",
    "visualize_graph(corpus[sent_id])"
   ]
  },
  {
   "cell_type": "code",
   "execution_count": null,
   "metadata": {},
   "outputs": [],
   "source": [
    "# Se på samme grafen etter omskrivingsregelen\n",
    "visualize_graph(corpus2[sent_id])"
   ]
  },
  {
   "cell_type": "markdown",
   "metadata": {},
   "source": [
    "## Lagre regler i filer \n",
    "\n",
    "Lagre reglene i GREW-format i en `grs`-fil, med valgt strategi. \n"
   ]
  },
  {
   "cell_type": "code",
   "execution_count": null,
   "metadata": {},
   "outputs": [],
   "source": [
    "grs_draft.save(\"../rules/extra_LIA_fixes.grs\")\n",
    "\n",
    "\n",
    "# full_grs_draft = GRSDraft(NDT_to_UD_grs.json()[\"filename\"])\n",
    "# full_grs_draft.save(\"../rules/convert_NDT2UD.grs\")"
   ]
  }
 ],
 "metadata": {
  "kernelspec": {
   "display_name": "grew_ndt2ud-3.13",
   "language": "python",
   "name": "python3"
  },
  "language_info": {
   "codemirror_mode": {
    "name": "ipython",
    "version": 3
   },
   "file_extension": ".py",
   "mimetype": "text/x-python",
   "name": "python",
   "nbconvert_exporter": "python",
   "pygments_lexer": "ipython3",
   "version": "3.13.5"
  }
 },
 "nbformat": 4,
 "nbformat_minor": 4
}
