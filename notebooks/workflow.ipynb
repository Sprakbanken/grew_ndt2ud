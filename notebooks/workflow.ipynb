{
 "cells": [
  {
   "cell_type": "markdown",
   "metadata": {},
   "source": [
    "# Arbeidsløype for grafkonversjon med Grew\n",
    "\n",
    "1. [konverter ordklasser og morfologiske trekk](#konverter-ordklasser-og-morfologiske-trekk) fra NDT til UD-POS-tags og feats\n",
    "2. [Legg til \"SpaceAfter=No\"](#legg-til-spaceafterno) i `MISC`-feltet for tegnsetting som ikke skal ha mellomrom.\n",
    "3. [Kjør eksisterende regler](#kjør-eksisterende-omskrivingsregler-på-trebanken) på trebanken med et Grew Graph Rewritign System (GRS)\n",
    "4. [Søk etter setningsmønstre](#steg-1-søk-etter-setningsmønster-i-trebanken)\n",
    "5. [Skriv en konverteringsregel](#steg-2-skriv-en-konverteringsregel)\n",
    "6. [Visualiser setningsgrafer](#visualiser-setningsgrafer)\n",
    "\n",
    "Se [Grewpy-dokumentasjonen](https://grew.fr/python/grewpy.html#grewpy-package) for mer info om APIet i python. \n"
   ]
  },
  {
   "cell_type": "code",
   "execution_count": null,
   "metadata": {},
   "outputs": [],
   "source": [
    "# Fix PATH to include OPAM binaries where grewpy_backend is located\n",
    "import os\n",
    "\n",
    "os.environ[\"PATH\"] = os.environ[\"HOME\"] + \"/.opam/5.2.0/bin:\" + os.environ[\"PATH\"]"
   ]
  },
  {
   "cell_type": "code",
   "execution_count": null,
   "metadata": {},
   "outputs": [],
   "source": [
    "import grewpy\n",
    "\n",
    "grewpy.set_config(\"ud\")  # ud or basic"
   ]
  },
  {
   "cell_type": "markdown",
   "metadata": {},
   "source": [
    "## Konverter ordklasser og morfologiske trekk"
   ]
  },
  {
   "cell_type": "code",
   "execution_count": null,
   "metadata": {},
   "outputs": [],
   "source": [
    "from pathlib import Path\n",
    "\n",
    "from grewpy import Corpus\n",
    "\n",
    "from ndt2ud.morphological_features import convert_morphology\n",
    "from ndt2ud.parse_conllu import parse_conll_file\n",
    "from ndt2ud.utils import write_conll\n",
    "\n",
    "treebank_file = (\n",
    "    \"../spoken_norwegian_resources/treebanks/Norwegian-NynorskLIA/aal_uio_06.conll\"\n",
    ")\n",
    "UD_treebank_file = \"../UD_output.conllu\"\n",
    "\n",
    "# Load the NDT treebank and convert the part of speech and morphological features to UD features\n",
    "conllu_data = parse_conll_file(Path(treebank_file))\n",
    "morphdata = convert_morphology(conllu_data)\n",
    "write_conll(morphdata, UD_treebank_file, drop_comments=False)\n",
    "\n",
    "original_corpus = Corpus(UD_treebank_file)"
   ]
  },
  {
   "cell_type": "markdown",
   "metadata": {},
   "source": [
    "## Endre features for token\n",
    "\n",
    "\n",
    "### Legg til \"SpaceAfter=No\"\n",
    "\n",
    "> **OBS** Dette steget har ingen effekt på LIA-trebanken, siden setningsavsluttende tegnsetting har et mellomrom foran seg.\n",
    "Se annotasjonsretningslinjene  for LIA [her](https://tekstlab.uio.no/LIA/pdf/parseretningslinjer-lia12042019.pdf).\n",
    "\n"
   ]
  },
  {
   "cell_type": "code",
   "execution_count": null,
   "metadata": {},
   "outputs": [],
   "source": [
    "from grewpy import Corpus, CorpusDraft\n",
    "\n",
    "from ndt2ud.utils import set_spaceafter_from_text\n",
    "\n",
    "# Last inn trebanken til et mutable CorpusDraft\n",
    "draft = CorpusDraft(original_corpus)\n",
    "\n",
    "draft.map(set_spaceafter_from_text, in_place=True)\n",
    "\n",
    "# Skriv endringene tilbake til et immutable Corpus-objekt\n",
    "corpus = Corpus(draft)"
   ]
  },
  {
   "cell_type": "markdown",
   "metadata": {},
   "source": [
    "### Eksempel: endre upos\n",
    "\n",
    "En python-funksjon som tar en graf som input kan spesifisere både søkefilteret og endringene som mappes til alle grafene i trebanken."
   ]
  },
  {
   "cell_type": "code",
   "execution_count": null,
   "metadata": {},
   "outputs": [],
   "source": [
    "from grewpy import CorpusDraft\n",
    "\n",
    "\n",
    "def relabel_upos(graph, from_: str, to_: str):\n",
    "    for node in graph:\n",
    "        if \"upos\" in graph[node] and graph[node][\"upos\"] == from_:\n",
    "            graph[node][\"upos\"] = to_\n",
    "    return graph\n",
    "\n",
    "\n",
    "draft = CorpusDraft(corpus)\n",
    "draft.map(lambda x: relabel_upos(x, from_=\"anf\", to_=\"PUNCT\"), in_place=True)\n",
    "modified_corpus = Corpus(draft)"
   ]
  },
  {
   "cell_type": "markdown",
   "metadata": {},
   "source": [
    "## Kjør eksisterende omskrivingsregler på trebanken"
   ]
  },
  {
   "cell_type": "code",
   "execution_count": null,
   "metadata": {},
   "outputs": [],
   "source": [
    "from grewpy import GRS\n",
    "\n",
    "import ndt2ud\n",
    "\n",
    "# Last inn reglene fra fil\n",
    "src_root = Path(ndt2ud.__path__[0]).parent\n",
    "NDT_to_UD_file = str(src_root / \"rules\" / \"NDT_to_UD.grs\")\n",
    "NDT_to_UD_grs = GRS(NDT_to_UD_file)\n",
    "\n",
    "# Bruk reglene for nynorsk på LIA : main_nn\n",
    "corpus = NDT_to_UD_grs.apply(corpus, strat=\"main_nn\")"
   ]
  },
  {
   "cell_type": "markdown",
   "metadata": {},
   "source": [
    "## Skriv nye regler"
   ]
  },
  {
   "cell_type": "markdown",
   "metadata": {},
   "source": [
    "\n",
    "### Steg 1: Søk etter setningsmønster i trebanken\n"
   ]
  },
  {
   "cell_type": "markdown",
   "metadata": {},
   "source": [
    "\n",
    "Se retningslinjene for NDT-trebanken som definerer hvilke trekk og relasjoner vi evt. må endre. \n",
    "\n",
    "- Se Grew-dokumentasjonen for info om [`Request`](https://grew.fr/doc/request/) og syntaks for mønstrene (`pattern`-feltet i Request-objektet).\n",
    "\n",
    "- Mønstersøk i eksisterende UD-versjon kan også gjøres i Grew Match: https://universal.grew.fr/?corpus=UD_Norwegian-Bokmaal@2.16\n",
    "\n",
    "- Regelutikling kan også gjøres i Arborator, hvor vi har et privat prosjekt: [NDT_conversion_to_UD](https://arboratorgrew.elizia.net/#/projects/NDT_conversion_to_UD)\n"
   ]
  },
  {
   "cell_type": "code",
   "execution_count": null,
   "metadata": {},
   "outputs": [],
   "source": [
    "from collections import namedtuple\n",
    "\n",
    "from grewpy import Request\n",
    "\n",
    "\n",
    "def create_node(token_features: dict):\n",
    "    features = token_features.copy()\n",
    "    del features[\"__RAW_MISC__\"]\n",
    "    del features[\"textform\"]\n",
    "    del features[\"wordform\"]\n",
    "    Node = namedtuple(\"Node\", features.keys())\n",
    "    node = Node(**features)\n",
    "    return node\n",
    "\n",
    "\n",
    "Edge = namedtuple(\"Edge\", [\"source\", \"label\", \"target\"])\n",
    "\n",
    "\n",
    "def view_search_results(request: Request, treebank: grewpy.Corpus):\n",
    "    \"\"\"Print the matching results in the treebank\"\"\"\n",
    "\n",
    "    print(f\"Antall treff: {treebank.count(request)}\")\n",
    "    print(request, \"\\n\")\n",
    "\n",
    "    print(\"Setninger som matcher mønsteret: \")\n",
    "    for occ in treebank.search(request):  # type: ignore\n",
    "        sent_id = occ[\"sent_id\"]\n",
    "        print(f\"{sent_id=}\")\n",
    "\n",
    "        graph = treebank.get(sent_id)\n",
    "        text = graph.to_sentence()\n",
    "        print(f\"{text=}\")  # type: ignore\n",
    "\n",
    "        for node_name, node_id in occ[\"matching\"][\"nodes\"].items():\n",
    "            token = create_node(graph.features[node_id])\n",
    "            print(f\"Node {node_name} ({node_id}): {token}\")\n",
    "\n",
    "        for edge_name, edge in occ[\"matching\"][\"edges\"].items():\n",
    "            e = Edge(**edge)\n",
    "            print(f\"Edge {edge_name} ({e.source} -> {e.target}): {e.label}\")\n",
    "\n",
    "        print()"
   ]
  },
  {
   "cell_type": "markdown",
   "metadata": {},
   "source": [
    "\n",
    "### Eksempel: ukjent POS-tag \"anf\" \n",
    "\n",
    "Sjekk retningslinjene til [LIA](https://tekstlab.uio.no/LIA/pdf/parseretningslinjer-lia12042019.pdf) for info om LIA-spesifikke annotasjoner."
   ]
  },
  {
   "cell_type": "code",
   "execution_count": null,
   "metadata": {},
   "outputs": [],
   "source": [
    "from grewpy import CorpusDraft, Request\n",
    "\n",
    "# Definer søkesmønsteret\n",
    "request = Request().pattern(\"\"\"\n",
    "N [ upos=anf, form=\"«\"|\"»\" ]; \n",
    "e: H -[IK]-> N; \n",
    "\"\"\")\n",
    "\n",
    "view_search_results(request, corpus)"
   ]
  },
  {
   "cell_type": "markdown",
   "metadata": {},
   "source": [
    "### Steg 2: Skriv en konverteringsregel\n",
    "\n",
    "Skriv grewpy [Commands](https://grew.fr/doc/commands/) med Grew-syntaks som endrer setningsgrafen iht. UDs retningslinjer og pakk det inn i et GRS-objekt"
   ]
  },
  {
   "cell_type": "code",
   "execution_count": null,
   "metadata": {},
   "outputs": [],
   "source": [
    "from grewpy.grs import (\n",
    "    AddEdge,\n",
    "    Command,\n",
    "    Commands,\n",
    "    DeleteEdge,\n",
    "    DeleteFeature,\n",
    "    GRSDraft,\n",
    "    Package,\n",
    "    RequestItem,\n",
    "    Rule,\n",
    ")\n",
    "\n",
    "commands = Commands(\"\"\"\n",
    "   e.label = punct;\n",
    "   N.upos = PUNCT;\n",
    "   \"\"\")\n",
    "\n",
    "# Alternatively:\n",
    "# commands = Commands(\n",
    "#     DeleteEdge(\"H\", \"IK\", \"N\"),\n",
    "#     AddEdge(\"H\", \"punct\", \"N\"),\n",
    "#     Command(\"N.upos = PUNCT\")\n",
    "# )\n",
    "\n",
    "rule = Rule(request, commands)\n",
    "grew_strategy = Package(dict(new_rule=rule))\n",
    "\n",
    "grs_draft = GRSDraft(grew_strategy).onf()\n",
    "grs = GRS(grs_draft)\n",
    "corpus = grs.apply(corpus)"
   ]
  },
  {
   "cell_type": "markdown",
   "metadata": {},
   "source": [
    "### Sammenlign trebanken før og etter endringene"
   ]
  },
  {
   "cell_type": "code",
   "execution_count": null,
   "metadata": {},
   "outputs": [],
   "source": [
    "from pprint import pprint\n",
    "\n",
    "original_matches = original_corpus.count(request)\n",
    "request_matches = corpus.count(request)\n",
    "command_matches = corpus.count(\n",
    "    Request().pattern('N [ upos=PUNCT, form=\"«\"|\"»\" ]; e: H -[punct]-> N')\n",
    ")\n",
    "\n",
    "print(f\"Treff på regelmønster FØR endringen: {original_matches}\")  # Burde være 0 nå\n",
    "print(f\"Treff på regelmønster ETTER endringen: {request_matches}\")  # Burde være 0 nå\n",
    "print(f\"Treff på nytt mønster etter endringen: {command_matches}\")"
   ]
  },
  {
   "cell_type": "code",
   "execution_count": null,
   "metadata": {},
   "outputs": [],
   "source": [
    "# Se over statistikk for trebanken\n",
    "n_sentences = corpus.count(Request())  # Empty request will match all sentences\n",
    "print(f\"Antall setninger i trebanken: {n_sentences}\")\n",
    "\n",
    "feature_stats = corpus.count_feature_values(\n",
    "    exclude=[\"form\", \"lemma\", \"textform\", \"wordform\"]\n",
    ")\n",
    "pprint(feature_stats)"
   ]
  },
  {
   "cell_type": "markdown",
   "metadata": {},
   "source": [
    "### Visualiser setningsgrafer"
   ]
  },
  {
   "cell_type": "code",
   "execution_count": null,
   "metadata": {},
   "outputs": [],
   "source": [
    "# Check if a norwegian spacy model exists in the virtual environment\n",
    "try:\n",
    "    import nb_core_news_md\n",
    "except ModuleNotFoundError:\n",
    "    print(\"Download a Norwegian spacy model to visualise graphs with Displacy\")\n",
    "    !python -m spacy download nb_core_news_md"
   ]
  },
  {
   "cell_type": "code",
   "execution_count": null,
   "metadata": {},
   "outputs": [],
   "source": [
    "from grewpy.network import GrewError\n",
    "from IPython.display import HTML, SVG, display\n",
    "from spacy import displacy\n",
    "from spacy_conll import init_parser\n",
    "from spacy_conll.parser import ConllParser\n",
    "\n",
    "from ndt2ud.visualize import visualize_graph_dot\n",
    "\n",
    "\n",
    "def visualize_graph(graph):\n",
    "    sent_id = graph.meta[\"sent_id\"]\n",
    "    print(f\"Sentence ID: {sent_id}\")\n",
    "    print(f\"Text: {graph.to_sentence()}\")\n",
    "    output_name = f\"graph_{sent_id}\"\n",
    "    try:\n",
    "        # graph.to_svg() has a known issue with some grewpy installations, but may work in some environments\n",
    "        svg_result = graph.to_svg()\n",
    "        Path(f\"{output_name}.svg\").open(\"w\", encoding=\"utf-8\").write(svg_result)\n",
    "        visual_graph = SVG(svg_result)\n",
    "    except GrewError as e:\n",
    "        conllstr = graph.to_conll()\n",
    "\n",
    "        if \"nlp\" not in locals():\n",
    "            nlp = ConllParser(init_parser(\"nb_core_news_md\", \"spacy\"))\n",
    "        try:\n",
    "            doc = nlp.parse_conll_text_as_spacy(conllstr)  # type:ignore\n",
    "            visual_graph = HTML(\n",
    "                displacy.render(\n",
    "                    doc,\n",
    "                    style=\"dep\",\n",
    "                    jupyter=False,\n",
    "                    options={\"compact\": False, \"color\": \"green\", \"distance\": 100.0},\n",
    "                )\n",
    "            )\n",
    "\n",
    "        except ValueError:\n",
    "            print(f\"Using alternative visualization method with dot and graphviz\")\n",
    "            result = visualize_graph_dot(graph, output_name)\n",
    "            visual_graph = SVG(filename=result)\n",
    "\n",
    "    display(visual_graph)"
   ]
  },
  {
   "cell_type": "markdown",
   "metadata": {},
   "source": [
    "### Sammenlign grafene før og etter regelen"
   ]
  },
  {
   "cell_type": "code",
   "execution_count": null,
   "metadata": {},
   "outputs": [],
   "source": [
    "# Hent ut en bestemt setningsgraf med setnings-ID\n",
    "sent_id = \"76\"\n",
    "\n",
    "visualize_graph(original_corpus[sent_id])"
   ]
  },
  {
   "cell_type": "code",
   "execution_count": null,
   "metadata": {},
   "outputs": [],
   "source": [
    "# Se på samme grafen etter omskrivingsregelen\n",
    "visualize_graph(corpus[sent_id])"
   ]
  },
  {
   "cell_type": "markdown",
   "metadata": {},
   "source": [
    "## Lagre regler i filer \n",
    "\n",
    "Lagre reglene i GREW-format i en `grs`-fil, med valgt strategi. \n"
   ]
  },
  {
   "cell_type": "code",
   "execution_count": null,
   "metadata": {},
   "outputs": [],
   "source": [
    "grs_draft.save(\"new_LIA_rule.grs\")"
   ]
  },
  {
   "cell_type": "code",
   "execution_count": null,
   "metadata": {},
   "outputs": [],
   "source": []
  }
 ],
 "metadata": {
  "kernelspec": {
   "display_name": "grew_ndt2ud-3.13 (3.13.5)",
   "language": "python",
   "name": "python3"
  },
  "language_info": {
   "codemirror_mode": {
    "name": "ipython",
    "version": 3
   },
   "file_extension": ".py",
   "mimetype": "text/x-python",
   "name": "python",
   "nbconvert_exporter": "python",
   "pygments_lexer": "ipython3",
   "version": "3.13.5"
  }
 },
 "nbformat": 4,
 "nbformat_minor": 4
}
