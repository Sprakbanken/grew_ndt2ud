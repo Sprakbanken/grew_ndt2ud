{
 "cells": [
  {
   "cell_type": "markdown",
   "metadata": {},
   "source": [
    "# Grewpy tutorial: Modify data\n",
    "\n",
    "https://grew.fr/grewpy/modify_data/"
   ]
  },
  {
   "cell_type": "code",
   "execution_count": null,
   "metadata": {
    "execution": {
     "iopub.execute_input": "2024-11-17T17:37:25.042010Z",
     "iopub.status.busy": "2024-11-17T17:37:25.041648Z",
     "iopub.status.idle": "2024-11-17T17:37:25.663868Z",
     "shell.execute_reply": "2024-11-17T17:37:25.663510Z"
    }
   },
   "outputs": [],
   "source": [
    "import os\n",
    "\n",
    "import grewpy\n",
    "from grewpy import Corpus, CorpusDraft, Request\n",
    "\n",
    "os.environ[\"PATH\"] = os.environ[\"HOME\"] + \"/.opam/5.2.0/bin:\" + os.environ[\"PATH\"]\n",
    "\n",
    "\n",
    "grewpy.set_config(\"ud\")  # ud or basic\n",
    "\n",
    "conll_file = \"../UD_output.conllu\"\n",
    "# conll_file = \"../spoken_norwegian_resources/treebanks/Norwegian-NynorskLIA/fana_uib_03.conll\"\n",
    "\n",
    "corpus = Corpus(conll_file)"
   ]
  },
  {
   "cell_type": "markdown",
   "metadata": {},
   "source": [
    "## Access data in a corpus"
   ]
  },
  {
   "cell_type": "code",
   "execution_count": 4,
   "metadata": {
    "execution": {
     "iopub.execute_input": "2024-11-17T17:37:25.665994Z",
     "iopub.status.busy": "2024-11-17T17:37:25.665833Z",
     "iopub.status.idle": "2024-11-17T17:37:25.669078Z",
     "shell.execute_reply": "2024-11-17T17:37:25.668796Z"
    }
   },
   "outputs": [
    {
     "name": "stdout",
     "output_type": "stream",
     "text": [
      "A corpus is a set of graphs: <class 'grewpy.graph.Graph'>\n"
     ]
    }
   ],
   "source": [
    "# Access to the corpus\n",
    "sentence = corpus[1]\n",
    "print(\"A corpus is a set of graphs:\", type(sentence))"
   ]
  },
  {
   "cell_type": "code",
   "execution_count": 5,
   "metadata": {
    "execution": {
     "iopub.execute_input": "2024-11-17T17:37:25.670575Z",
     "iopub.status.busy": "2024-11-17T17:37:25.670491Z",
     "iopub.status.idle": "2024-11-17T17:37:25.675007Z",
     "shell.execute_reply": "2024-11-17T17:37:25.674733Z"
    }
   },
   "outputs": [
    {
     "name": "stdout",
     "output_type": "stream",
     "text": [
      "Sentence metadata:\n"
     ]
    },
    {
     "data": {
      "text/plain": [
       "{'text': 'du aal_uio_0601 # som er fødd i attennittisju # og var stølskjerring i førtifem år # kan nok fortelje oss om det ?',\n",
       " 'sent_id': '2',\n",
       " '_filename': 'UD_output.conllu'}"
      ]
     },
     "execution_count": 5,
     "metadata": {},
     "output_type": "execute_result"
    }
   ],
   "source": [
    "# Each graph is a sentence and contains all its information\n",
    "print(\"Sentence metadata:\")\n",
    "sentence.meta"
   ]
  },
  {
   "cell_type": "code",
   "execution_count": 6,
   "metadata": {
    "execution": {
     "iopub.execute_input": "2024-11-17T17:37:25.676948Z",
     "iopub.status.busy": "2024-11-17T17:37:25.676841Z",
     "iopub.status.idle": "2024-11-17T17:37:25.678631Z",
     "shell.execute_reply": "2024-11-17T17:37:25.678378Z"
    }
   },
   "outputs": [
    {
     "name": "stdout",
     "output_type": "stream",
     "text": [
      "['0', '1', '2', '3', '4', '5', '6', '7', '8', '9', '10', '11', '12', '13', '14', '15', '16', '17', '18', '19', '20', '21', '22', '23']\n"
     ]
    }
   ],
   "source": [
    "# Sentence order, which in this case is the same as the token's id\n",
    "print(sentence.order)"
   ]
  },
  {
   "cell_type": "code",
   "execution_count": 7,
   "metadata": {
    "execution": {
     "iopub.execute_input": "2024-11-17T17:37:25.680095Z",
     "iopub.status.busy": "2024-11-17T17:37:25.679992Z",
     "iopub.status.idle": "2024-11-17T17:37:25.681894Z",
     "shell.execute_reply": "2024-11-17T17:37:25.681645Z"
    }
   },
   "outputs": [
    {
     "name": "stdout",
     "output_type": "stream",
     "text": [
      "{'0': {'form': '__0__'}, '1': {'Animacy': 'Hum', 'Case': 'Nom', 'Person': '2', 'PronType': 'Prs', '__RAW_MISC__': 'hov', 'form': 'du', 'lemma': 'du', 'textform': 'du', 'upos': 'PRON', 'wordform': 'du'}, '2': {'__RAW_MISC__': 'hov', 'form': 'aal_uio_0601', 'lemma': 'aal_uio_0601', 'textform': 'aal_uio_0601', 'upos': 'PROPN', 'wordform': 'aal_uio_0601'}, '3': {'__RAW_MISC__': 'led', 'form': '#', 'lemma': '#', 'textform': '#', 'upos': 'pause', 'wordform': '#'}, '4': {'__RAW_MISC__': 'led', 'form': 'som', 'lemma': 'som', 'textform': 'som', 'upos': 'SCONJ', 'wordform': 'som'}, '5': {'Mood': 'Ind', 'Tense': 'Pres', 'VerbForm': 'Fin', '__RAW_MISC__': 'led', 'form': 'er', 'lemma': 'vere', 'textform': 'er', 'upos': 'AUX', 'wordform': 'er'}, '6': {'VerbForm': 'Part', '__RAW_MISC__': 'led', 'form': 'fødd', 'lemma': 'føde', 'textform': 'fødd', 'upos': 'VERB', 'wordform': 'fødd'}, '7': {'__RAW_MISC__': 'led', 'form': 'i', 'lemma': 'i', 'textform': 'i', 'upos': 'ADP', 'wordform': 'i'}, '8': {'NumType': 'Card', 'Number': 'Plur', '__RAW_MISC__': 'led', 'form': 'attennittisju', 'lemma': 'attennittisju', 'textform': 'attennittisju', 'upos': 'NUM', 'wordform': 'attennittisju'}, '9': {'__RAW_MISC__': 'led', 'form': '#', 'lemma': '#', 'textform': '#', 'upos': 'pause', 'wordform': '#'}, '10': {'__RAW_MISC__': 'led', 'form': 'og', 'lemma': 'og', 'textform': 'og', 'upos': 'CCONJ', 'wordform': 'og'}, '11': {'Mood': 'Ind', 'Tense': 'Past', 'VerbForm': 'Fin', '__RAW_MISC__': 'led', 'form': 'var', 'lemma': 'vere', 'textform': 'var', 'upos': 'AUX', 'wordform': 'var'}, '12': {'Definite': 'Ind', 'Degree': 'Pos', '__RAW_MISC__': 'led', 'form': 'stølskjerring', 'lemma': 'stølskjerring', 'textform': 'stølskjerring', 'upos': 'NOUN', 'wordform': 'stølskjerring'}, '13': {'__RAW_MISC__': 'led', 'form': 'i', 'lemma': 'i', 'textform': 'i', 'upos': 'ADP', 'wordform': 'i'}, '14': {'NumType': 'Card', 'Number': 'Plur', '__RAW_MISC__': 'led', 'form': 'førtifem', 'lemma': 'førtifem', 'textform': 'førtifem', 'upos': 'NUM', 'wordform': 'førtifem'}, '15': {'Definite': 'Ind', 'Gender': 'Neut', 'Number': 'Plur', '__RAW_MISC__': 'led', 'form': 'år', 'lemma': 'år', 'textform': 'år', 'upos': 'NOUN', 'wordform': 'år'}, '16': {'__RAW_MISC__': 'hov', 'form': '#', 'lemma': '#', 'textform': '#', 'upos': 'pause', 'wordform': '#'}, '17': {'Mood': 'Ind', 'Tense': 'Pres', 'VerbForm': 'Fin', '__RAW_MISC__': 'hov', 'form': 'kan', 'lemma': 'kunne', 'textform': 'kan', 'upos': 'AUX', 'wordform': 'kan'}, '18': {'__RAW_MISC__': 'hov', 'form': 'nok', 'lemma': 'nok', 'textform': 'nok', 'upos': 'ADV', 'wordform': 'nok'}, '19': {'VerbForm': 'Inf', '__RAW_MISC__': 'hov', 'form': 'fortelje', 'lemma': 'fortelje', 'textform': 'fortelje', 'upos': 'VERB', 'wordform': 'fortelje'}, '20': {'Animacy': 'Hum', 'Case': 'Acc', 'Number': 'Plur', 'Person': '1', 'PronType': 'Prs', '__RAW_MISC__': 'hov', 'form': 'oss', 'lemma': 'vi', 'textform': 'oss', 'upos': 'PRON', 'wordform': 'oss'}, '21': {'__RAW_MISC__': 'hov', 'form': 'om', 'lemma': 'om', 'textform': 'om', 'upos': 'ADP', 'wordform': 'om'}, '22': {'Gender': 'Neut', 'Person': '3', 'PronType': 'Prs', '__RAW_MISC__': 'hov', 'form': 'det', 'lemma': 'det', 'textform': 'det', 'upos': 'PRON', 'wordform': 'det'}, '23': {'__RAW_MISC__': 'hov', 'form': '?', 'lemma': '?', 'textform': '?', 'upos': 'PUNCT', 'wordform': '?'}}\n",
      "['PRON', 'PROPN', 'pause', 'SCONJ', 'AUX', 'VERB', 'ADP', 'NUM', 'pause', 'CCONJ', 'AUX', 'NOUN', 'ADP', 'NUM', 'NOUN', 'pause', 'AUX', 'ADV', 'VERB', 'PRON', 'ADP', 'PRON', 'PUNCT']\n"
     ]
    }
   ],
   "source": [
    "# Token features, which make possible to access every token feature\n",
    "print(sentence.features)\n",
    "\n",
    "# e.g get all upos of the sentence\n",
    "print([sentence.features[id][\"upos\"] for id in sentence.features if id != \"0\"])"
   ]
  },
  {
   "cell_type": "code",
   "execution_count": 8,
   "metadata": {
    "execution": {
     "iopub.execute_input": "2024-11-17T17:37:25.683323Z",
     "iopub.status.busy": "2024-11-17T17:37:25.683228Z",
     "iopub.status.idle": "2024-11-17T17:37:25.684829Z",
     "shell.execute_reply": "2024-11-17T17:37:25.684567Z"
    }
   },
   "outputs": [
    {
     "name": "stdout",
     "output_type": "stream",
     "text": [
      "{'21': [('22', FsEdge({'1': 'PUTFYLL'}))], '19': [('21', FsEdge({'1': 'ADV'})), ('20', FsEdge({'1': 'DOBJ'})), ('18', FsEdge({'1': 'ADV'})), ('2', FsEdge({'1': 'SUBJ'}))], '17': [('23', FsEdge({'1': 'punct'})), ('19', FsEdge({'1': 'INFV'})), ('16', FsEdge({'1': 'IK'}))], '15': [('14', FsEdge({'1': 'ATR'}))], '13': [('15', FsEdge({'1': 'PUTFYLL'}))], '11': [('13', FsEdge({'1': 'ADV'})), ('12', FsEdge({'1': 'SPRED'})), ('10', FsEdge({'1': 'KONJ'}))], '10': [('9', FsEdge({'1': 'IK'}))], '7': [('8', FsEdge({'1': 'ADV'}))], '6': [('11', FsEdge({'1': 'KOORD'})), ('7', FsEdge({'1': 'ADV'}))], '5': [('6', FsEdge({'1': 'INFV'})), ('4', FsEdge({'1': 'SBU'}))], '4': [('3', FsEdge({'1': 'IK'}))], '2': [('5', FsEdge({'1': 'ATR'})), ('1', FsEdge({'1': 'DET'}))], '0': [('17', FsEdge({'1': 'root'}))]}\n"
     ]
    }
   ],
   "source": [
    "# It's possible to access to edges between nodes as successors\n",
    "print(sentence.sucs)"
   ]
  },
  {
   "cell_type": "markdown",
   "metadata": {},
   "source": [
    "## Modifying a corpus\n",
    "`Corpus` is an abstract object which cannot be modified directly:"
   ]
  },
  {
   "cell_type": "code",
   "execution_count": null,
   "metadata": {
    "execution": {
     "iopub.execute_input": "2024-11-17T17:37:25.686409Z",
     "iopub.status.busy": "2024-11-17T17:37:25.686308Z",
     "iopub.status.idle": "2024-11-17T17:37:25.689133Z",
     "shell.execute_reply": "2024-11-17T17:37:25.688815Z"
    }
   },
   "outputs": [],
   "source": [
    "try:\n",
    "    corpus[0] = corpus[1]\n",
    "except TypeError as error_message:\n",
    "    print(f\"{error_message}\")"
   ]
  },
  {
   "cell_type": "markdown",
   "metadata": {},
   "source": [
    "`CorpusDraft` is an object similar to `Corpus` but which is mutable.\n",
    "Below, we add the feature `Transitive=Yes` to all occurrences of verbs with a direct object.\n",
    "\n",
    "1. We make the search on `corpus` (an instance of `Corpus`).\n",
    "2. The modification is done on a `CorpusDraft` counterpart named `draft`.\n",
    "3. The `draft` should be transformed again into a `Corpus` (names `corpus2` below) in order to use the `count` method."
   ]
  },
  {
   "cell_type": "code",
   "execution_count": 12,
   "metadata": {
    "execution": {
     "iopub.execute_input": "2024-11-17T17:37:25.690709Z",
     "iopub.status.busy": "2024-11-17T17:37:25.690601Z",
     "iopub.status.idle": "2024-11-17T17:37:26.161304Z",
     "shell.execute_reply": "2024-11-17T17:37:26.161009Z"
    }
   },
   "outputs": [
    {
     "data": {
      "text/plain": [
       "[]"
      ]
     },
     "execution_count": 12,
     "metadata": {},
     "output_type": "execute_result"
    }
   ],
   "source": [
    "# step 1\n",
    "req7 = Request().pattern(\"X[upos=VERB]; Y[upos=NOUN|PROPN|PRON]; X-[obj]->Y\")\n",
    "occurrences = corpus.search(req7)\n",
    "\n",
    "occurrences"
   ]
  },
  {
   "cell_type": "code",
   "execution_count": null,
   "metadata": {},
   "outputs": [],
   "source": [
    "# step 2\n",
    "draft = CorpusDraft(corpus)\n",
    "for occ in occurrences:\n",
    "    sent_id = occ[\"sent_id\"]\n",
    "    verb_node_id = occ[\"matching\"][\"nodes\"][\"X\"]\n",
    "    draft[sent_id][verb_node_id].update({\"Transitive\": \"Yes\"})"
   ]
  },
  {
   "cell_type": "code",
   "execution_count": null,
   "metadata": {},
   "outputs": [],
   "source": [
    "# step 3\n",
    "corpus2 = Corpus(draft)\n",
    "corpus2.count(Request(\"pattern { X[Transitive=Yes] }\"))"
   ]
  },
  {
   "cell_type": "markdown",
   "metadata": {},
   "source": [
    "It's possible to modify a whole `CorpusDraft` with a function getting a graph as input."
   ]
  },
  {
   "cell_type": "code",
   "execution_count": null,
   "metadata": {
    "execution": {
     "iopub.execute_input": "2024-11-17T17:37:26.163057Z",
     "iopub.status.busy": "2024-11-17T17:37:26.162946Z",
     "iopub.status.idle": "2024-11-17T17:37:26.480619Z",
     "shell.execute_reply": "2024-11-17T17:37:26.480336Z"
    }
   },
   "outputs": [],
   "source": [
    "def relabel_noun(graph):\n",
    "    for node in graph:\n",
    "        if \"upos\" in graph[node] and graph[node][\"upos\"] == \"NOUN\":\n",
    "            graph[node][\"upos\"] = \"N\"\n",
    "    return graph\n",
    "\n",
    "\n",
    "draft3 = draft.map(relabel_noun)\n",
    "# Note that the map function has replaced the apply function which is deprecated in 0.6\n",
    "\n",
    "\n",
    "# Again, we need to turn the result into a `Corpus` before using the `count` method.\n",
    "corpus3 = Corpus(draft3)\n",
    "corpus3.count(Request(\"pattern { X[upos=N] }\"))"
   ]
  },
  {
   "cell_type": "markdown",
   "metadata": {},
   "source": [
    "## Modifying a corpus using a GRS (Graph Rewriting System)\n",
    "In many cases, it is not required to uses a `CorpusDraft` and the modification of a corpus can be encoded with graph rewriting rules.\n",
    "\n",
    "The example above (identifying transitive verbs) can be rephrased as below.\n",
    "See TODO link for an explanation of the `without` clause in this example."
   ]
  },
  {
   "cell_type": "code",
   "execution_count": null,
   "metadata": {
    "execution": {
     "iopub.execute_input": "2024-11-17T17:37:26.482407Z",
     "iopub.status.busy": "2024-11-17T17:37:26.482301Z",
     "iopub.status.idle": "2024-11-17T17:37:26.509511Z",
     "shell.execute_reply": "2024-11-17T17:37:26.509238Z"
    }
   },
   "outputs": [],
   "source": [
    "from grewpy import GRS\n",
    "\n",
    "s = \"\"\"\n",
    "strat main { Onf(tv) }\n",
    "\n",
    "rule tv {\n",
    "  pattern { X[upos=VERB]; Y[upos=NOUN|PROPN|PRON]; X-[obj]->Y }\n",
    "  without { X[Transitive = Yes] }\n",
    "  commands { X.Transitive = Yes }\n",
    "}\n",
    "\"\"\"\n",
    "grs = GRS(s)\n",
    "corpus2bis = grs.apply(corpus)\n",
    "corpus2bis.count(Request(\"pattern { X[Transitive=Yes] }\"))"
   ]
  },
  {
   "cell_type": "markdown",
   "metadata": {},
   "source": [
    "For the example, where the upos tag `NOUN` is changed to `N`, this can be done with a GRS:"
   ]
  },
  {
   "cell_type": "code",
   "execution_count": null,
   "metadata": {
    "execution": {
     "iopub.execute_input": "2024-11-17T17:37:26.511227Z",
     "iopub.status.busy": "2024-11-17T17:37:26.511124Z",
     "iopub.status.idle": "2024-11-17T17:37:26.557036Z",
     "shell.execute_reply": "2024-11-17T17:37:26.556765Z"
    }
   },
   "outputs": [],
   "source": [
    "from grewpy import GRS\n",
    "\n",
    "grs3 = GRS(\"\"\"\n",
    "strat main { Onf(noun2n) }\n",
    "\n",
    "rule noun2n {\n",
    "  pattern { X[upos=NOUN] }\n",
    "  commands { X.upos = N }\n",
    "}\n",
    "\"\"\")\n",
    "corpus3bis = grs3.apply(corpus)\n",
    "corpus3bis.count(Request(\"pattern { X[upos=N] }\"))"
   ]
  },
  {
   "cell_type": "markdown",
   "metadata": {},
   "source": [
    "Similarily to the `CorpusDraft` above, there is a module `GRSDraft` which can be inspected and which is mutable."
   ]
  },
  {
   "cell_type": "code",
   "execution_count": null,
   "metadata": {
    "execution": {
     "iopub.execute_input": "2024-11-17T17:37:26.558759Z",
     "iopub.status.busy": "2024-11-17T17:37:26.558648Z",
     "iopub.status.idle": "2024-11-17T17:37:26.561834Z",
     "shell.execute_reply": "2024-11-17T17:37:26.561555Z"
    }
   },
   "outputs": [],
   "source": [
    "from grewpy import GRSDraft\n",
    "\n",
    "s = \"\"\"\n",
    "strat main {Onf(cxns)}\n",
    "package cxns {\n",
    "    rule existential {\n",
    "        pattern {X-[cop]->Y; X[lemma=vere]}\n",
    "        without {X[Cxn=Existential]}\n",
    "        commands {X.Cxn=Existential}\n",
    "    }\n",
    "}\n",
    "\"\"\"\n",
    "\n",
    "grs_draft = GRSDraft(s)\n",
    "\n",
    "# for rule in grs_draft[\"cxns\"].rules():\n",
    "#    print(f\"{rule=}\")\n",
    "\n",
    "\n",
    "for k, v in grs_draft.items():\n",
    "    print(k, v)\n",
    "    print(\"_\")"
   ]
  },
  {
   "cell_type": "markdown",
   "metadata": {},
   "source": [
    "A `GRSDraft` cannot be applied to a corpus, it should be turned into a `GRS`:"
   ]
  },
  {
   "cell_type": "code",
   "execution_count": null,
   "metadata": {
    "execution": {
     "iopub.execute_input": "2024-11-17T17:37:26.563428Z",
     "iopub.status.busy": "2024-11-17T17:37:26.563349Z",
     "iopub.status.idle": "2024-11-17T17:37:26.580786Z",
     "shell.execute_reply": "2024-11-17T17:37:26.580498Z"
    }
   },
   "outputs": [],
   "source": [
    "grs = GRS(grs_draft)\n",
    "corpus.apply(grs)\n",
    "n_existentials = corpus.count(Request(\"pattern { X[Cxn=Existential] }\"))\n",
    "print(f\"{n_existentials=}\")"
   ]
  },
  {
   "cell_type": "code",
   "execution_count": null,
   "metadata": {},
   "outputs": [],
   "source": [
    "from pathlib import Path\n",
    "\n",
    "from grewpy import GRS, Request\n",
    "\n",
    "# apposition_nb = Path(\"../rules/appositions_nb.grs\").read_text()\n",
    "# apposition_nn = \"../rules/appositions_nn.grs\"\n",
    "\n",
    "ndt2ud = \"../rules/NDT_to_UD.grs\"\n",
    "\n",
    "grs = GRS(ndt2ud)\n",
    "\n",
    "corpus.apply(grs, strat=\"main_nn\")\n",
    "\n",
    "\n",
    "with Path(\"grewpy_output.conllu\").open(\"w\") as fp:\n",
    "    fp.write(corpus.to_conll())"
   ]
  },
  {
   "cell_type": "code",
   "execution_count": null,
   "metadata": {},
   "outputs": [],
   "source": [
    "len(corpus)"
   ]
  },
  {
   "cell_type": "code",
   "execution_count": null,
   "metadata": {},
   "outputs": [],
   "source": [
    "with Path(\"grewpy_output.conllu\").open(\"w\") as fp:\n",
    "    fp.write(corpus.to_conll())"
   ]
  },
  {
   "cell_type": "code",
   "execution_count": null,
   "metadata": {},
   "outputs": [],
   "source": []
  }
 ],
 "metadata": {
  "kernelspec": {
   "display_name": "grew_ndt2ud-3.13 (3.13.5)",
   "language": "python",
   "name": "python3"
  },
  "language_info": {
   "codemirror_mode": {
    "name": "ipython",
    "version": 3
   },
   "file_extension": ".py",
   "mimetype": "text/x-python",
   "name": "python",
   "nbconvert_exporter": "python",
   "pygments_lexer": "ipython3",
   "version": "3.13.5"
  }
 },
 "nbformat": 4,
 "nbformat_minor": 2
}
