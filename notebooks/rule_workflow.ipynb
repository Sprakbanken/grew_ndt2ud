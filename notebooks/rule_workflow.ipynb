{
 "cells": [
  {
   "cell_type": "markdown",
   "metadata": {},
   "source": [
    "# Arbeidsløype for grafkonversjon med Grew\n",
    "\n",
    "1. [Søk etter setningsmønster i trebanken](#1-søk-etter-setningsmønster-i-trebanken)\n",
    "2. [Skriv en konverteringsregel med mønsteret](#2-skriv-en-konverteringsregel-med-mønsteret)\n",
    "3. Hvis flere mønstre/regler kreves for å konvertere riktig, velg en strategi som gir én riktig graf per setning (vanligvis `Onf`)\n",
    "4. Visualiser en setningsgraf"
   ]
  },
  {
   "cell_type": "code",
   "execution_count": null,
   "metadata": {},
   "outputs": [],
   "source": [
    "# Fix PATH to include OPAM binaries where grewpy_backend is located\n",
    "import os\n",
    "\n",
    "os.environ[\"PATH\"] = os.environ[\"HOME\"] + \"/.opam/5.2.0/bin:\" + os.environ[\"PATH\"]\n",
    "\n",
    "# Check if a norwegian spacy model exists in the virtual environment\n",
    "try:\n",
    "    import nb_core_news_md\n",
    "except ModuleNotFoundError:\n",
    "    print(\"Download a Norwegian spacy model to visualise graphs with Displacy\")\n",
    "    !python -m spacy download nb_core_news_md"
   ]
  },
  {
   "cell_type": "code",
   "execution_count": null,
   "metadata": {},
   "outputs": [],
   "source": [
    "import grewpy\n",
    "from grewpy import Corpus, CorpusDraft, Request\n",
    "\n",
    "grewpy.set_config(\"ud\")  # ud or basic"
   ]
  },
  {
   "cell_type": "code",
   "execution_count": null,
   "metadata": {},
   "outputs": [],
   "source": [
    "from pathlib import Path\n",
    "\n",
    "# Load the NDT treebank\n",
    "treebank_file = \"../UD_output.conllu\"\n",
    "corpus = Corpus(treebank_file)\n",
    "draft = CorpusDraft(corpus)\n",
    "n_sentences = corpus.count(Request())  # Empty request will match all sentences\n",
    "\n",
    "print(\"Antall setninger i trebanken: \", n_sentences)"
   ]
  },
  {
   "cell_type": "markdown",
   "metadata": {},
   "source": [
    "## 1. Søk etter setningsmønster i trebanken\n",
    "\n",
    "- Finn ut hvor mange og hvilke setninger som matcher et bestemt mønster\n",
    "- Stram inn mønsteret etter behov for å bare matche ønskede setninger ut fra hvilken NDT-til-UD-regel man skal skrive\n",
    "\n",
    "Se Grew-dokumentasjonen for info om [`Request`](https://grew.fr/doc/request/) og syntaks for mønstrene (`pattern`-feltet i Request-objektet)."
   ]
  },
  {
   "cell_type": "code",
   "execution_count": null,
   "metadata": {},
   "outputs": [],
   "source": [
    "# Søk etter mønster\n",
    "testpattern = \"\"\"\n",
    "pattern {\n",
    "    V [ upos=VERB ];\n",
    "    N [ upos=NOUN ];\n",
    "    e: V -[ SUBJ ]-> N; \n",
    "}\n",
    "\"\"\"\n",
    "\"\"\"\n",
    "pattern {\n",
    "    HEAD -> N1;\n",
    "    e: HEAD -[conj]-> N2; \n",
    "  \n",
    "}\n",
    "\"\"\"\n",
    "\n",
    "# Antall matchende sentinger\n",
    "n_matches = grew.corpus_count(testpattern, corpus)\n",
    "print(n_matches, \"sentences match the pattern in the corpus \\n\")\n",
    "\n",
    "# Treff på noder og kanter\n",
    "corpus_results = grew.corpus_search(testpattern, corpus)\n",
    "print(\"5 first matches in the corpus: \", corpus_results[:5])\n",
    "\n",
    "# setningsID fra treffene\n",
    "match_ids = [match[\"sent_id\"] for match in corpus_results]\n",
    "\n",
    "# Se på grafen til et av treffene\n",
    "(sent_graph := grew.corpus_get(match_ids[0], corpus))\n",
    "\n",
    "sent_info = [sent_graph[token] for token in sorted(sent_graph, key=int)]\n",
    "words = [token[0][\"form\"] for token in sent_info[1:]]\n",
    "\n",
    "# Hent ut de matchede nodene og kantene fra setningen\n",
    "nodes = grew.search(testpattern, sent_graph)\n",
    "\n",
    "print(f\"\"\"\n",
    "Sentence: {sent_id}\n",
    "Text: {\" \".join(words)}\n",
    "\n",
    "Annotations: {sent_info}\n",
    "\n",
    "Matching nodes in the selected graph:\n",
    "{nodes}\n",
    "\"\"\")\n",
    "\n",
    "# Skriv grafen til en fil\n",
    "grew.save(sent_graph, \"graph_sample.json\")"
   ]
  },
  {
   "cell_type": "markdown",
   "metadata": {},
   "source": [
    "### Visuell mønstermatching\n",
    "\n",
    "Regelutikling kan også gjøres i Arborator, hvor vi har et privat prosjekt: [NDT_conversion_to_UD](https://arboratorgrew.elizia.net/#/projects/NDT_conversion_to_UD)\n",
    "\n",
    "\n",
    "Mønstersøk i eksisterende UD-versjon kan også gjøres i Grew Match: https://universal.grew.fr/?corpus=UD_Norwegian-Bokmaal@2.16"
   ]
  },
  {
   "cell_type": "markdown",
   "metadata": {},
   "source": [
    "## 2. Skriv en konverteringsregel med mønsteret\n",
    "\n",
    "Legge til enkle transformasjoner i regelen og kjøre mot én eksempelsetning.\n",
    "    - Spisse/stramme inn regelen for å redusere antallet resulterende grafer.\n",
    "    - Når en regel konverterer en setning til bare én graf, og grafen ser riktig ut (ifølge UDs retningslinjer), kjør regelen på andre setninger som matchet samme mønster og sjekk at disse også er riktige.\n"
   ]
  },
  {
   "cell_type": "code",
   "execution_count": null,
   "metadata": {},
   "outputs": [],
   "source": [
    "rule_name = \"nominal_subj\"\n",
    "# regel med sammensatt mønster og kommando\n",
    "test_rule = \"\"\"rule nominal_subj { \n",
    "pattern {\n",
    "    V [ upos=VERB ];\n",
    "    N [ upos=NOUN ];\n",
    "    e: V -[ SUBJ ]-> N; \n",
    "}\n",
    "commands {\n",
    "    del_edge e;\n",
    "    add_edge V -[ nsubj ]-> N;\n",
    "} }\"\"\"\n",
    "\n",
    "# Last inn regelen som et graph rewriting system\n",
    "grs_rule = grew.grs(test_rule)\n",
    "\n",
    "# Kjør regelen på den utvalgte setningen\n",
    "grew.run(grs_rule, sent_graph, rule_name)"
   ]
  },
  {
   "cell_type": "markdown",
   "metadata": {},
   "source": [
    "## Visualiser setningsgrafer"
   ]
  },
  {
   "cell_type": "code",
   "execution_count": null,
   "metadata": {},
   "outputs": [],
   "source": [
    "# Hent ut en bestemt setningsgraf med setnings-ID\n",
    "sent_ids = corpus.get_sent_ids()\n",
    "sent_id = sent_ids[0]  # type: ignore\n",
    "graph = corpus.get(sent_id)\n",
    "\n",
    "print(f\"Sentence ID: {sent_id}\")\n",
    "print(f\"Text: {graph.to_sentence()}\")"
   ]
  },
  {
   "cell_type": "code",
   "execution_count": null,
   "metadata": {},
   "outputs": [],
   "source": [
    "from IPython.display import HTML, SVG, display\n",
    "from spacy import displacy\n",
    "from spacy_conll import init_parser\n",
    "from spacy_conll.parser import ConllParser\n",
    "\n",
    "from ndt2ud.visualize import visualize_graph_displacy, visualize_graph_dot\n",
    "\n",
    "output_name = f\"graph_{sent_id}\"\n",
    "try:\n",
    "    # graph.to_svg() has a known issue with some grewpy installations, but may work in some environments\n",
    "    svg_result = graph.to_svg()\n",
    "    Path(f\"{output_name}.svg\").open(\"w\", encoding=\"utf-8\").write(svg_result)\n",
    "except Exception as e:\n",
    "    conllstr = graph.to_conll()\n",
    "\n",
    "    if \"nlp\" not in globals():\n",
    "        nlp = ConllParser(init_parser(\"nb_core_news_md\", \"spacy\"))\n",
    "\n",
    "    doc = nlp.parse_conll_text_as_spacy(conllstr)  # type:ignore\n",
    "    visual_graph = HTML(\n",
    "        displacy.render(\n",
    "            doc,\n",
    "            style=\"dep\",\n",
    "            jupyter=False,\n",
    "            options={\"compact\": False, \"color\": \"green\", \"distance\": 100.0},\n",
    "        )\n",
    "    )\n",
    "    # visual_graph = HTML(visualize_graph_displacy(graph, nlp, output_name=output_name))\n",
    "else:\n",
    "    print(f\"Using alternative visualization method with dot and graphviz\")\n",
    "    result = visualize_graph_dot(graph, output_name)\n",
    "    visual_graph = SVG(filename=result)\n",
    "\n",
    "display(visual_graph)"
   ]
  },
  {
   "cell_type": "markdown",
   "metadata": {},
   "source": [
    "## Lagre regler i filer \n",
    "\n",
    "Lagre reglene i GREW-format i en `grs`-fil, med valgt strategi. \n"
   ]
  },
  {
   "cell_type": "code",
   "execution_count": null,
   "metadata": {},
   "outputs": [],
   "source": []
  },
  {
   "cell_type": "markdown",
   "metadata": {},
   "source": [
    "## Konverter trebanken fra NDT til UD"
   ]
  },
  {
   "cell_type": "code",
   "execution_count": null,
   "metadata": {},
   "outputs": [],
   "source": []
  }
 ],
 "metadata": {
  "kernelspec": {
   "display_name": "grew_ndt2ud-3.13 (3.13.5)",
   "language": "python",
   "name": "python3"
  },
  "language_info": {
   "codemirror_mode": {
    "name": "ipython",
    "version": 3
   },
   "file_extension": ".py",
   "mimetype": "text/x-python",
   "name": "python",
   "nbconvert_exporter": "python",
   "pygments_lexer": "ipython3",
   "version": "3.13.5"
  }
 },
 "nbformat": 4,
 "nbformat_minor": 4
}
