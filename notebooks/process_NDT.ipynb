{
 "cells": [
  {
   "cell_type": "code",
   "execution_count": 1,
   "metadata": {
    "tags": []
   },
   "outputs": [],
   "source": [
    "import convert_morph as conv \n",
    "import parse_conllu as parser\n",
    "from pathlib import Path\n",
    "\n",
    "import pandas as pd\n",
    "import re \n"
   ]
  },
  {
   "cell_type": "markdown",
   "metadata": {},
   "source": [
    "## Konverter morfologiske trekk"
   ]
  },
  {
   "cell_type": "code",
   "execution_count": 2,
   "metadata": {
    "tags": []
   },
   "outputs": [],
   "source": [
    "# Definer datapartisjon\n",
    "lang = \"nb\"\n",
    "part = \"train\"\n",
    "ndt_file = f\"data/ndt_{lang}_{part}.conllu\"\n"
   ]
  },
  {
   "cell_type": "code",
   "execution_count": null,
   "metadata": {},
   "outputs": [],
   "source": [
    "# Last inn data \n",
    "data = parser.parse_conll_file(Path(ndt_file))"
   ]
  },
  {
   "cell_type": "code",
   "execution_count": null,
   "metadata": {},
   "outputs": [],
   "source": [
    "# Sjekk resultatet visuelt før de skrives til disk med parser.write_df_to_conll()\n",
    "\n",
    "# Konverter UPOS og FEATS til UD-standard\n",
    "morphdata = conv.convert_morphology(data)\n",
    "# Undersøk resultatet i pandas\n",
    "(df := parser.load_conll_to_df(morphdata))\n"
   ]
  },
  {
   "cell_type": "code",
   "execution_count": null,
   "metadata": {},
   "outputs": [],
   "source": [
    "# Konverter morfologiske trekk for alle splittene av retokenisert ndt data\n",
    "\n",
    "for part in [\"train\", \"test\", \"dev\"]: \n",
    "    for lang in [\"nb\", \"nn\"]: \n",
    "        fpath = Path(f\"data/ndt_{lang}_{part}.conllu\")\n",
    "        data = parser.parse_conll_file(fpath)  # Last inn data \n",
    "        morphdata = conv.convert_morphology(data)  # Konverter UPOS og FEATS til UD-standard\n",
    "        output = fpath.parent / f\"{fpath.stem}_udmorph{fpath.suffix}\"\n",
    "        parser.write_conll(morphdata, output, add_comments=True)  # Skriv CONLL-data til disk \n",
    "        # Legg til SpaceAfter=No i MISC-feltet\n",
    "        !udapy -s ud.SetSpaceAfterFromText < $output > out.conllu && mv out.conllu $output  "
   ]
  },
  {
   "cell_type": "code",
   "execution_count": null,
   "metadata": {},
   "outputs": [],
   "source": [
    "UDFILE=ndt_file\n",
    "\n",
    "# Fix punctuation and add spaceafter \n",
    "!cat $UDFILE | udapy -s ud.FixPunct > out.conllu\n",
    "\n",
    "!cat $UDFILE | udapy -TM \\\n",
    "    util.Mark node='node.lemma == \"som\"' > som.txt\n",
    "\n",
    "!udapy -HMAC \\\n",
    "    read.Conllu zone=old files=$UDFILE \\\n",
    "    read.Conllu zone=new files=out.conllu \\\n",
    "    util.MarkDiff gold_zone=old attributes='form,lemma,upos,xpos,deprel,feats,misc' add=True > diff.html"
   ]
  },
  {
   "cell_type": "markdown",
   "metadata": {},
   "source": [
    "---"
   ]
  },
  {
   "cell_type": "markdown",
   "metadata": {},
   "source": [
    "## Partisjoner data"
   ]
  },
  {
   "cell_type": "code",
   "execution_count": null,
   "metadata": {},
   "outputs": [],
   "source": [
    "# Partisjoner data i dev, train, og test-splittene som UD er delt inn i\n",
    "\n",
    "partitions = {\n",
    "    \"test\" : \"data/test_ids.txt\",\n",
    "    \"dev\" : \"data/dev_ids.txt\",\n",
    "    \"train\" : \"data/train_ids.txt\",\n",
    "}\n",
    "\n",
    "def partition_file(filepath):\n",
    "    fpath = Path(filepath)\n",
    "    for part, idfile in partitions.items():\n",
    "        outputfile = (fpath.parent / f\"{fpath.stem}_{part}{fpath.suffix}\")\n",
    "        part_ids =  parser.filereadlines(idfile)\n",
    "        part_df = df[df.sent_id.isin(part_ids)]\n",
    "        parser.write_df_to_conll(part_df, outputfile, add_comments=True)\n",
    "\n",
    "partition_file(\"data/gullkorpus/2023_gullkorpus_ud.conllu\")\n",
    "partition_file(\"data/gullkorpus/2019_gullkorpus_ud_før_annotasjon.conllu\")\n",
    "partition_file(\"data/gullkorpus/2019_gullkorpus_ndt.conllu\")"
   ]
  },
  {
   "cell_type": "markdown",
   "metadata": {},
   "source": [
    "## Hent eksempelsetninger"
   ]
  },
  {
   "cell_type": "code",
   "execution_count": null,
   "metadata": {},
   "outputs": [],
   "source": [
    "#Hent ut setningene som gir spesifikke feilmeldinger\n",
    "\n",
    "fpath = Path(\"validation-report_ndt2ud.txt\")\n",
    "etype = \"rel-upos-punct\"\n",
    "save_errorlines = False\n",
    "\n",
    "rows = Path(fpath).read_text(encoding=\"utf-8\").splitlines()\n",
    "\n",
    "error_info_regx = re.compile(r\"^\\[Line (\\d+)(?: Sent )?(\\d+)?(?: Node )?(\\d+)?\\]\\: \\[(L.*)\\] (.*)(\\[[0-9]*, [0-9]*\\])?(.*)?$\", flags=re.DOTALL)\n",
    "errors = []\n",
    "for row in rows:\n",
    "    m = error_info_regx.fullmatch(row)\n",
    "    if m is not None:\n",
    "        errors.append(m.groups())\n",
    "\n",
    "df = pd.DataFrame(errors, columns=[\"line\", \"sent\",\"node\", \"errortype\", \"message\", \"relevant_nodes\", \"message2\"])\n",
    "\n",
    "type_counts = df.errortype.value_counts()\n",
    "print(type_counts)\n",
    "\n",
    "if save_errorlines:\n",
    "    errorlines = df[df.errortype.str.contains(etype)]\n",
    "    errorlines.to_csv(f\"error_{etype}.csv\", index=False)\n",
    "\n",
    "    ndt_file = \"data/ndt_nb_train.conllu\"\n",
    "    data = parser.load_conll_to_df(\n",
    "        parser.parse_conll_file(ndt_file)\n",
    "    )\n",
    "    error_sents = data[data.sent_id.isin(errorlines[\"sent\"])]\n",
    "    parser.write_df_to_conll(\n",
    "        error_sents, f\"error_{etype}_sents.conllu\", add_comments=True)\n",
    "    error_sents.sent_id.nunique()\n"
   ]
  },
  {
   "cell_type": "code",
   "execution_count": 2,
   "metadata": {
    "tags": []
   },
   "outputs": [],
   "source": [
    "import json"
   ]
  },
  {
   "cell_type": "code",
   "execution_count": 3,
   "metadata": {
    "tags": []
   },
   "outputs": [
    {
     "data": {
      "text/plain": [
       "1171"
      ]
     },
     "execution_count": 3,
     "metadata": {},
     "output_type": "execute_result"
    }
   ],
   "source": [
    "filename = \"match_pattern.json\"\n",
    "\n",
    "with open(filename) as fp:\n",
    "    matches = json.load(fp)\n",
    "\n",
    "len(matches)"
   ]
  },
  {
   "cell_type": "code",
   "execution_count": 4,
   "metadata": {
    "tags": []
   },
   "outputs": [
    {
     "data": {
      "text/plain": [
       "1118"
      ]
     },
     "execution_count": 4,
     "metadata": {},
     "output_type": "execute_result"
    }
   ],
   "source": [
    "sents = {s[\"sent_id\"] for s in matches}\n",
    "len(sents)"
   ]
  },
  {
   "cell_type": "code",
   "execution_count": 39,
   "metadata": {
    "tags": []
   },
   "outputs": [
    {
     "data": {
      "text/plain": [
       "{'000026',\n",
       " '000433',\n",
       " '000904',\n",
       " '000975',\n",
       " '001014',\n",
       " '001337',\n",
       " '001353',\n",
       " '001439',\n",
       " '001641',\n",
       " '001752',\n",
       " '001840',\n",
       " '002023',\n",
       " '002315',\n",
       " '002414',\n",
       " '002776',\n",
       " '002839',\n",
       " '002966',\n",
       " '003230',\n",
       " '003251',\n",
       " '003411',\n",
       " '003560',\n",
       " '003705',\n",
       " '003747',\n",
       " '003912',\n",
       " '003985',\n",
       " '004143',\n",
       " '004183',\n",
       " '004378',\n",
       " '004784',\n",
       " '005143',\n",
       " '005547',\n",
       " '005610',\n",
       " '005630',\n",
       " '005763',\n",
       " '005767',\n",
       " '005894',\n",
       " '005967',\n",
       " '006121',\n",
       " '006174',\n",
       " '006293',\n",
       " '006387',\n",
       " '006392',\n",
       " '006534',\n",
       " '006656',\n",
       " '007036',\n",
       " '007294',\n",
       " '007432',\n",
       " '007500',\n",
       " '007632',\n",
       " '008018',\n",
       " '008089',\n",
       " '008148',\n",
       " '008255',\n",
       " '008497',\n",
       " '008700',\n",
       " '008980',\n",
       " '009084',\n",
       " '009428',\n",
       " '009451',\n",
       " '009727',\n",
       " '009744',\n",
       " '009856',\n",
       " '010036',\n",
       " '010039',\n",
       " '010277',\n",
       " '010355',\n",
       " '010780',\n",
       " '010795',\n",
       " '011057',\n",
       " '011120',\n",
       " '011246',\n",
       " '012088',\n",
       " '012425',\n",
       " '012669',\n",
       " '012861',\n",
       " '012887',\n",
       " '013297',\n",
       " '013323',\n",
       " '013616',\n",
       " '013795',\n",
       " '013903',\n",
       " '013978',\n",
       " '014010',\n",
       " '014104',\n",
       " '014284',\n",
       " '014390',\n",
       " '014508',\n",
       " '014546',\n",
       " '014599',\n",
       " '014705',\n",
       " '014721',\n",
       " '015071',\n",
       " '015337'}"
      ]
     },
     "execution_count": 39,
     "metadata": {},
     "output_type": "execute_result"
    }
   ],
   "source": [
    "sents"
   ]
  },
  {
   "cell_type": "code",
   "execution_count": 1,
   "metadata": {},
   "outputs": [],
   "source": [
    "from convert_morph import get_dependents, get_labels, parse_conll_file, convert_pos\n",
    "\n",
    "\n",
    "from pathlib import Path"
   ]
  },
  {
   "cell_type": "code",
   "execution_count": 2,
   "metadata": {},
   "outputs": [],
   "source": [
    "ndt = Path(\"data/ndt_nn_train.conllu\")\n",
    "ndt = parse_conll_file(ndt)"
   ]
  },
  {
   "cell_type": "code",
   "execution_count": null,
   "metadata": {},
   "outputs": [],
   "source": []
  }
 ],
 "metadata": {
  "kernelspec": {
   "display_name": "Python 3 (ipykernel)",
   "language": "python",
   "name": "python3"
  },
  "language_info": {
   "codemirror_mode": {
    "name": "ipython",
    "version": 3
   },
   "file_extension": ".py",
   "mimetype": "text/x-python",
   "name": "python",
   "nbconvert_exporter": "python",
   "pygments_lexer": "ipython3",
   "version": "3.11.0"
  }
 },
 "nbformat": 4,
 "nbformat_minor": 4
}
