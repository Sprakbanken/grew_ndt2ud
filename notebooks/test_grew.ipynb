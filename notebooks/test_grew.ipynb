{
 "cells": [
  {
   "cell_type": "markdown",
   "metadata": {},
   "source": [
    "# Test ut funksjonaliteten i Python-Grew\n",
    "Prøv ut funksjonene i [Python-grew-koden](https://gitlab.inria.fr/grew/python/-/tree/master/grew)"
   ]
  },
  {
   "cell_type": "markdown",
   "metadata": {},
   "source": [
    "## Test ut innlasting av korpus"
   ]
  },
  {
   "cell_type": "code",
   "execution_count": 110,
   "metadata": {},
   "outputs": [],
   "source": [
    "import grew\n",
    "import tk"
   ]
  },
  {
   "cell_type": "code",
   "execution_count": 111,
   "metadata": {},
   "outputs": [],
   "source": [
    "grew.init()"
   ]
  },
  {
   "cell_type": "code",
   "execution_count": 112,
   "metadata": {},
   "outputs": [],
   "source": [
    "#Load a corpus from a file of a string\n",
    "#:param data: a file, a list of files or a CoNLL string representation of a corpus\n",
    "corpus = grew.corpus('no_bokmaal-ud-train.conllu')"
   ]
  },
  {
   "cell_type": "code",
   "execution_count": 113,
   "metadata": {},
   "outputs": [
    {
     "data": {
      "text/plain": [
       "4"
      ]
     },
     "execution_count": 113,
     "metadata": {},
     "output_type": "execute_result"
    }
   ],
   "source": [
    "# :return: an integer index for latter reference to the corpus\n",
    "corpus"
   ]
  },
  {
   "cell_type": "code",
   "execution_count": 114,
   "metadata": {},
   "outputs": [
    {
     "data": {
      "text/plain": [
       "['000001',\n",
       " '000002',\n",
       " '000003',\n",
       " '000004',\n",
       " '000005',\n",
       " '000006',\n",
       " '000007',\n",
       " '000008',\n",
       " '000009',\n",
       " '000010']"
      ]
     },
     "execution_count": 114,
     "metadata": {},
     "output_type": "execute_result"
    }
   ],
   "source": [
    "grew.corpus_sent_ids(corpus)[:10]"
   ]
  },
  {
   "cell_type": "code",
   "execution_count": 115,
   "metadata": {},
   "outputs": [
    {
     "data": {
      "text/plain": [
       "15696"
      ]
     },
     "execution_count": 115,
     "metadata": {},
     "output_type": "execute_result"
    }
   ],
   "source": [
    "# Return the number of sentences in the corpus\n",
    "grew.corpus_size(corpus)"
   ]
  },
  {
   "cell_type": "markdown",
   "metadata": {},
   "source": [
    "## Test ut søking i korpus"
   ]
  },
  {
   "cell_type": "code",
   "execution_count": 116,
   "metadata": {},
   "outputs": [],
   "source": [
    "testpattern = '''pattern { GOV -[advcl]-> DEP }'''"
   ]
  },
  {
   "cell_type": "code",
   "execution_count": 117,
   "metadata": {},
   "outputs": [],
   "source": [
    "# Search for [pattern] into [corpus_index]\n",
    "corpus_results = grew.corpus_search(testpattern, corpus)"
   ]
  },
  {
   "cell_type": "code",
   "execution_count": 118,
   "metadata": {},
   "outputs": [
    {
     "data": {
      "text/plain": [
       "[{'sent_id': '015693',\n",
       "  'matching': {'nodes': {'GOV': '4', 'DEP': '9'}, 'edges': {}}},\n",
       " {'sent_id': '015690',\n",
       "  'matching': {'nodes': {'GOV': '6', 'DEP': '3'}, 'edges': {}}},\n",
       " {'sent_id': '015687',\n",
       "  'matching': {'nodes': {'GOV': '9', 'DEP': '1'}, 'edges': {}}}]"
      ]
     },
     "execution_count": 118,
     "metadata": {},
     "output_type": "execute_result"
    }
   ],
   "source": [
    "corpus_results[:3]"
   ]
  },
  {
   "cell_type": "code",
   "execution_count": 119,
   "metadata": {},
   "outputs": [
    {
     "data": {
      "text/plain": [
       "4197"
      ]
     },
     "execution_count": 119,
     "metadata": {},
     "output_type": "execute_result"
    }
   ],
   "source": [
    "# Count for [pattern] into [corpus_index]\n",
    "corpus_count = grew.corpus_count(testpattern, corpus)\n",
    "corpus_count"
   ]
  },
  {
   "cell_type": "code",
   "execution_count": 120,
   "metadata": {},
   "outputs": [],
   "source": [
    "# Search for [data] in previously loaded corpus\n",
    "#    :param data: a sent_id (type string) or a position (type int)\n",
    "#    :param corpus_index: an integer given by the [corpus] function\n",
    "#    :return: a graph\n",
    "mygraph = grew.corpus_get('015691', corpus)"
   ]
  },
  {
   "cell_type": "code",
   "execution_count": 121,
   "metadata": {},
   "outputs": [
    {
     "data": {
      "text/plain": [
       "[]"
      ]
     },
     "execution_count": 121,
     "metadata": {},
     "output_type": "execute_result"
    }
   ],
   "source": [
    "# Search for [pattern] into [gr]\n",
    "grew.search(testpattern, mygraph)"
   ]
  },
  {
   "cell_type": "markdown",
   "metadata": {},
   "source": [
    "## Test ut graftransformasjoner"
   ]
  },
  {
   "cell_type": "code",
   "execution_count": 142,
   "metadata": {},
   "outputs": [],
   "source": [
    "loaded_pattern = grew.grs('testrule.grs')"
   ]
  },
  {
   "cell_type": "code",
   "execution_count": 134,
   "metadata": {},
   "outputs": [],
   "source": [
    "r = \"\"\"rule passiveAgt {\n",
    "  pattern {\n",
    "    V [cat=V, m=pastp];\n",
    "    V -[aux.pass]-> AUX;\n",
    "    e: V -[suj]-> SUJ;\n",
    "    P [phon=par]; V -[p_obj.agt]-> P;\n",
    "    P -[obj.p]-> A;\n",
    "} commands {\n",
    "    del_node P;\n",
    "    del_node AUX;\n",
    "    add_edge V -[suj]-> A;\n",
    "    add_edge V -[obj]-> SUJ;\n",
    "    del_edge e;\n",
    "} }\"\"\""
   ]
  },
  {
   "cell_type": "code",
   "execution_count": 136,
   "metadata": {},
   "outputs": [
    {
     "data": {
      "text/plain": [
       "{'2': [{'form': ':',\n",
       "   'lemma': '$:',\n",
       "   'textform': ':',\n",
       "   'upos': 'PUNCT',\n",
       "   'wordform': ':'},\n",
       "  []],\n",
       " '1': [{'SpaceAfter': 'No',\n",
       "   'form': 'Når',\n",
       "   'lemma': 'når',\n",
       "   'textform': 'Når',\n",
       "   'upos': 'ADV',\n",
       "   'wordform': 'Når'},\n",
       "  [['punct', '2']]],\n",
       " '0': [{'form': '__0__'}, [['root', '1']]]}"
      ]
     },
     "execution_count": 136,
     "metadata": {},
     "output_type": "execute_result"
    }
   ],
   "source": [
    "mygraph"
   ]
  },
  {
   "cell_type": "code",
   "execution_count": 147,
   "metadata": {},
   "outputs": [
    {
     "data": {
      "text/plain": [
       "[]"
      ]
     },
     "execution_count": 147,
     "metadata": {},
     "output_type": "execute_result"
    }
   ],
   "source": [
    "#Apply rs or the last loaded one to [gr]\n",
    "#:param grs_data: a graph rewriting system or a Grew string representation of a grs\n",
    "#:param graph_data: the graph, either a str (in grew format) or a dict\n",
    "#:param strat: the strategy (by default \"main\")\n",
    "#:return: the list of rewritten graphs\n",
    "grew.run(r, mygraph, 'passiveAgt')"
   ]
  },
  {
   "cell_type": "code",
   "execution_count": 148,
   "metadata": {},
   "outputs": [],
   "source": [
    "# Forstår ikke hvordan man laster regler fra filer og bruker dem i run"
   ]
  },
  {
   "cell_type": "code",
   "execution_count": 146,
   "metadata": {},
   "outputs": [
    {
     "data": {
      "text/plain": [
       "{'filename': 'testrule.grs',\n",
       " 'decls': [{'rule_name': 'passiveAgt',\n",
       "   'pattern': {'graph': [{'id': 'Ker 4',\n",
       "      'node': {'node_name': 'V',\n",
       "       'fs': [{'feature_name': 'cat', '=': ['V']},\n",
       "        {'feature_name': 'm', '=': ['pastp']}],\n",
       "       'next': [{'id': 'Ker 3',\n",
       "         'label': {'edge_id': 'e', 'label_cst': {'pos': ['suj']}}},\n",
       "        {'id': 'Ker 2',\n",
       "         'label': {'edge_id': '__e_28__',\n",
       "          'label_cst': {'pos': ['p_obj.agt']}}},\n",
       "        {'id': 'Ker 1',\n",
       "         'label': {'edge_id': '__e_27__',\n",
       "          'label_cst': {'pos': ['aux.pass']}}}]}},\n",
       "     {'id': 'Ker 3', 'node': {'node_name': 'SUJ', 'fs': [], 'next': []}},\n",
       "     {'id': 'Ker 2',\n",
       "      'node': {'node_name': 'P',\n",
       "       'fs': [{'feature_name': 'phon', '=': ['par']}],\n",
       "       'next': [{'id': 'Ker 0',\n",
       "         'label': {'edge_id': '__e_29__', 'label_cst': {'pos': ['obj.p']}}}]}},\n",
       "     {'id': 'Ker 1', 'node': {'node_name': 'AUX', 'fs': [], 'next': []}},\n",
       "     {'id': 'Ker 0', 'node': {'node_name': 'A', 'fs': [], 'next': []}}],\n",
       "    'constraints': []},\n",
       "   'without': [],\n",
       "   'commands': [{'del_node': 'Ker 2'},\n",
       "    {'del_node': 'Ker 1'},\n",
       "    {'add_edge': {'src': 'Ker 4', 'tar': 'Ker 0', 'edge': 'suj'}},\n",
       "    {'add_edge': {'src': 'Ker 4', 'tar': 'Ker 3', 'edge': 'obj'}},\n",
       "    {'del_edge_name': 'e'}]}]}"
      ]
     },
     "execution_count": 146,
     "metadata": {},
     "output_type": "execute_result"
    }
   ],
   "source": [
    "grew.json_grs(loaded_pattern)"
   ]
  },
  {
   "cell_type": "code",
   "execution_count": null,
   "metadata": {},
   "outputs": [],
   "source": []
  }
 ],
 "metadata": {
  "kernelspec": {
   "display_name": "Python 3",
   "language": "python",
   "name": "python3"
  },
  "language_info": {
   "codemirror_mode": {
    "name": "ipython",
    "version": 3
   },
   "file_extension": ".py",
   "mimetype": "text/x-python",
   "name": "python",
   "nbconvert_exporter": "python",
   "pygments_lexer": "ipython3",
   "version": "3.8.10"
  }
 },
 "nbformat": 4,
 "nbformat_minor": 4
}
