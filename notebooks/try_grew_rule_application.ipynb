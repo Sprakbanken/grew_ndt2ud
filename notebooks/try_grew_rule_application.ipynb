{
 "cells": [
  {
   "cell_type": "markdown",
   "metadata": {},
   "source": [
    "# Arbeidsløype for grafkonversjon med Grew\n",
    "\n",
    "*Forslag til arbeidsløype i python:*\n",
    "\n",
    "1. Søke med mønster i korpuset (finn ut hvor mange og hvilke setninger som matcher mønsteret)\n",
    "    - Stramme inn mønsteret til å bare matche riktig type setninger (ut fra hvilken NDT-til-UD-regel man skal skrive).\n",
    "2. Legge til enkle transformasjoner i regelen og kjøre mot én eksempelsetning.\n",
    "    - Spisse/stramme inn regelen for å redusere antallet resulterende grafer.\n",
    "    - Når en regel konverterer en setning til bare én graf, og grafen ser riktig ut (ifølge UDs retningslinjer), kjør regelen på andre setninger som matchet samme mønster og sjekk at disse også er riktige.\n",
    "3. Hvis flere mønstre/regler kreves for å konvertere riktig, velg en strategi som gir én riktig graf per setning."
   ]
  },
  {
   "cell_type": "code",
   "execution_count": 9,
   "metadata": {},
   "outputs": [
    {
     "ename": "FileNotFoundError",
     "evalue": "[Errno 2] No such file or directory: 'grewpy_backend'",
     "output_type": "error",
     "traceback": [
      "\u001b[31m---------------------------------------------------------------------------\u001b[39m",
      "\u001b[31mFileNotFoundError\u001b[39m                         Traceback (most recent call last)",
      "\u001b[36mCell\u001b[39m\u001b[36m \u001b[39m\u001b[32mIn[9]\u001b[39m\u001b[32m, line 3\u001b[39m\n\u001b[32m      1\u001b[39m \u001b[38;5;28;01mfrom\u001b[39;00m\u001b[38;5;250m \u001b[39m\u001b[34;01mpathlib\u001b[39;00m\u001b[38;5;250m \u001b[39m\u001b[38;5;28;01mimport\u001b[39;00m Path\n\u001b[32m----> \u001b[39m\u001b[32m3\u001b[39m \u001b[38;5;28;01mimport\u001b[39;00m\u001b[38;5;250m \u001b[39m\u001b[34;01mgrewpy\u001b[39;00m\n",
      "\u001b[36mFile \u001b[39m\u001b[32m~/prosjekter/trebank/grew_ndt2ud/.venv/lib/python3.13/site-packages/grewpy/__init__.py:8\u001b[39m\n\u001b[32m      1\u001b[39m \u001b[33;03m\"\"\"\u001b[39;00m\n\u001b[32m      2\u001b[39m \u001b[33;03mGrew python library\u001b[39;00m\n\u001b[32m      3\u001b[39m \u001b[33;03mAll you need to use grew \u001b[39;00m\n\u001b[32m      4\u001b[39m \u001b[33;03mSee grew online documentation for global informations\u001b[39;00m\n\u001b[32m      5\u001b[39m \u001b[33;03m\"\"\"\u001b[39;00m\n\u001b[32m      7\u001b[39m \u001b[38;5;28;01mfrom\u001b[39;00m\u001b[38;5;250m \u001b[39m\u001b[34;01m.\u001b[39;00m\u001b[34;01mnetwork\u001b[39;00m\u001b[38;5;250m \u001b[39m\u001b[38;5;28;01mimport\u001b[39;00m init\n\u001b[32m----> \u001b[39m\u001b[32m8\u001b[39m \u001b[43minit\u001b[49m\u001b[43m(\u001b[49m\u001b[43m)\u001b[49m\n\u001b[32m     10\u001b[39m \u001b[38;5;28;01mfrom\u001b[39;00m\u001b[38;5;250m \u001b[39m\u001b[34;01m.\u001b[39;00m\u001b[34;01mcorpus\u001b[39;00m\u001b[38;5;250m \u001b[39m\u001b[38;5;28;01mimport\u001b[39;00m CorpusDraft, Corpus\n\u001b[32m     11\u001b[39m \u001b[38;5;28;01mfrom\u001b[39;00m\u001b[38;5;250m \u001b[39m\u001b[34;01m.\u001b[39;00m\u001b[34;01mgrs\u001b[39;00m\u001b[38;5;250m \u001b[39m\u001b[38;5;28;01mimport\u001b[39;00m Request, GRSDraft, Package, Rule, Commands, GRS, Add_edge, Delete_edge, Delete_feature, Command\n",
      "\u001b[36mFile \u001b[39m\u001b[32m~/prosjekter/trebank/grew_ndt2ud/.venv/lib/python3.13/site-packages/grewpy/network.py:39\u001b[39m, in \u001b[36minit\u001b[39m\u001b[34m()\u001b[39m\n\u001b[32m     37\u001b[39m \u001b[38;5;28;01melse\u001b[39;00m:\n\u001b[32m     38\u001b[39m     python_pid = os.getpid()\n\u001b[32m---> \u001b[39m\u001b[32m39\u001b[39m     caml = \u001b[43mPopen\u001b[49m\u001b[43m(\u001b[49m\n\u001b[32m     40\u001b[39m \u001b[43m        \u001b[49m\u001b[43m[\u001b[49m\u001b[43mgrewpy\u001b[49m\u001b[43m,\u001b[49m\u001b[43m \u001b[49m\u001b[33;43m\"\u001b[39;49m\u001b[33;43m--caller\u001b[39;49m\u001b[33;43m\"\u001b[39;49m\u001b[43m,\u001b[49m\u001b[43m \u001b[49m\u001b[38;5;28;43mstr\u001b[39;49m\u001b[43m(\u001b[49m\u001b[43mpython_pid\u001b[49m\u001b[43m)\u001b[49m\u001b[43m]\u001b[49m\u001b[43m,\u001b[49m\n\u001b[32m     41\u001b[39m \u001b[43m        \u001b[49m\u001b[43mpreexec_fn\u001b[49m\u001b[43m=\u001b[49m\u001b[43mpreexec_function\u001b[49m\u001b[43m,\u001b[49m\n\u001b[32m     42\u001b[39m \u001b[43m        \u001b[49m\u001b[43mstdout\u001b[49m\u001b[43m=\u001b[49m\u001b[43mPIPE\u001b[49m\n\u001b[32m     43\u001b[39m \u001b[43m    \u001b[49m\u001b[43m)\u001b[49m\n\u001b[32m     44\u001b[39m     port = \u001b[38;5;28mint\u001b[39m(caml.stdout.readline().strip())\n\u001b[32m     45\u001b[39m     caml_pid = caml.pid\n",
      "\u001b[36mFile \u001b[39m\u001b[32m~/.local/share/uv/python/cpython-3.13.1-linux-x86_64-gnu/lib/python3.13/subprocess.py:1036\u001b[39m, in \u001b[36mPopen.__init__\u001b[39m\u001b[34m(self, args, bufsize, executable, stdin, stdout, stderr, preexec_fn, close_fds, shell, cwd, env, universal_newlines, startupinfo, creationflags, restore_signals, start_new_session, pass_fds, user, group, extra_groups, encoding, errors, text, umask, pipesize, process_group)\u001b[39m\n\u001b[32m   1032\u001b[39m         \u001b[38;5;28;01mif\u001b[39;00m \u001b[38;5;28mself\u001b[39m.text_mode:\n\u001b[32m   1033\u001b[39m             \u001b[38;5;28mself\u001b[39m.stderr = io.TextIOWrapper(\u001b[38;5;28mself\u001b[39m.stderr,\n\u001b[32m   1034\u001b[39m                     encoding=encoding, errors=errors)\n\u001b[32m-> \u001b[39m\u001b[32m1036\u001b[39m     \u001b[38;5;28;43mself\u001b[39;49m\u001b[43m.\u001b[49m\u001b[43m_execute_child\u001b[49m\u001b[43m(\u001b[49m\u001b[43margs\u001b[49m\u001b[43m,\u001b[49m\u001b[43m \u001b[49m\u001b[43mexecutable\u001b[49m\u001b[43m,\u001b[49m\u001b[43m \u001b[49m\u001b[43mpreexec_fn\u001b[49m\u001b[43m,\u001b[49m\u001b[43m \u001b[49m\u001b[43mclose_fds\u001b[49m\u001b[43m,\u001b[49m\n\u001b[32m   1037\u001b[39m \u001b[43m                        \u001b[49m\u001b[43mpass_fds\u001b[49m\u001b[43m,\u001b[49m\u001b[43m \u001b[49m\u001b[43mcwd\u001b[49m\u001b[43m,\u001b[49m\u001b[43m \u001b[49m\u001b[43menv\u001b[49m\u001b[43m,\u001b[49m\n\u001b[32m   1038\u001b[39m \u001b[43m                        \u001b[49m\u001b[43mstartupinfo\u001b[49m\u001b[43m,\u001b[49m\u001b[43m \u001b[49m\u001b[43mcreationflags\u001b[49m\u001b[43m,\u001b[49m\u001b[43m \u001b[49m\u001b[43mshell\u001b[49m\u001b[43m,\u001b[49m\n\u001b[32m   1039\u001b[39m \u001b[43m                        \u001b[49m\u001b[43mp2cread\u001b[49m\u001b[43m,\u001b[49m\u001b[43m \u001b[49m\u001b[43mp2cwrite\u001b[49m\u001b[43m,\u001b[49m\n\u001b[32m   1040\u001b[39m \u001b[43m                        \u001b[49m\u001b[43mc2pread\u001b[49m\u001b[43m,\u001b[49m\u001b[43m \u001b[49m\u001b[43mc2pwrite\u001b[49m\u001b[43m,\u001b[49m\n\u001b[32m   1041\u001b[39m \u001b[43m                        \u001b[49m\u001b[43merrread\u001b[49m\u001b[43m,\u001b[49m\u001b[43m \u001b[49m\u001b[43merrwrite\u001b[49m\u001b[43m,\u001b[49m\n\u001b[32m   1042\u001b[39m \u001b[43m                        \u001b[49m\u001b[43mrestore_signals\u001b[49m\u001b[43m,\u001b[49m\n\u001b[32m   1043\u001b[39m \u001b[43m                        \u001b[49m\u001b[43mgid\u001b[49m\u001b[43m,\u001b[49m\u001b[43m \u001b[49m\u001b[43mgids\u001b[49m\u001b[43m,\u001b[49m\u001b[43m \u001b[49m\u001b[43muid\u001b[49m\u001b[43m,\u001b[49m\u001b[43m \u001b[49m\u001b[43mumask\u001b[49m\u001b[43m,\u001b[49m\n\u001b[32m   1044\u001b[39m \u001b[43m                        \u001b[49m\u001b[43mstart_new_session\u001b[49m\u001b[43m,\u001b[49m\u001b[43m \u001b[49m\u001b[43mprocess_group\u001b[49m\u001b[43m)\u001b[49m\n\u001b[32m   1045\u001b[39m \u001b[38;5;28;01mexcept\u001b[39;00m:\n\u001b[32m   1046\u001b[39m     \u001b[38;5;66;03m# Cleanup if the child failed starting.\u001b[39;00m\n\u001b[32m   1047\u001b[39m     \u001b[38;5;28;01mfor\u001b[39;00m f \u001b[38;5;129;01min\u001b[39;00m \u001b[38;5;28mfilter\u001b[39m(\u001b[38;5;28;01mNone\u001b[39;00m, (\u001b[38;5;28mself\u001b[39m.stdin, \u001b[38;5;28mself\u001b[39m.stdout, \u001b[38;5;28mself\u001b[39m.stderr)):\n",
      "\u001b[36mFile \u001b[39m\u001b[32m~/.local/share/uv/python/cpython-3.13.1-linux-x86_64-gnu/lib/python3.13/subprocess.py:1966\u001b[39m, in \u001b[36mPopen._execute_child\u001b[39m\u001b[34m(self, args, executable, preexec_fn, close_fds, pass_fds, cwd, env, startupinfo, creationflags, shell, p2cread, p2cwrite, c2pread, c2pwrite, errread, errwrite, restore_signals, gid, gids, uid, umask, start_new_session, process_group)\u001b[39m\n\u001b[32m   1964\u001b[39m     err_msg = os.strerror(errno_num)\n\u001b[32m   1965\u001b[39m \u001b[38;5;28;01mif\u001b[39;00m err_filename \u001b[38;5;129;01mis\u001b[39;00m \u001b[38;5;129;01mnot\u001b[39;00m \u001b[38;5;28;01mNone\u001b[39;00m:\n\u001b[32m-> \u001b[39m\u001b[32m1966\u001b[39m     \u001b[38;5;28;01mraise\u001b[39;00m child_exception_type(errno_num, err_msg, err_filename)\n\u001b[32m   1967\u001b[39m \u001b[38;5;28;01melse\u001b[39;00m:\n\u001b[32m   1968\u001b[39m     \u001b[38;5;28;01mraise\u001b[39;00m child_exception_type(errno_num, err_msg)\n",
      "\u001b[31mFileNotFoundError\u001b[39m: [Errno 2] No such file or directory: 'grewpy_backend'"
     ]
    }
   ],
   "source": [
    "from pathlib import Path"
   ]
  },
  {
   "cell_type": "code",
   "execution_count": 13,
   "metadata": {},
   "outputs": [
    {
     "name": "stdout",
     "output_type": "stream",
     "text": [
      "Welcome to Python 3.13's help utility! If this is your first time using\n",
      "Python, you should definitely check out the tutorial at\n",
      "https://docs.python.org/3.13/tutorial/.\n",
      "\n",
      "Enter the name of any module, keyword, or topic to get help on writing\n",
      "Python programs and using Python modules.  To get a list of available\n",
      "modules, keywords, symbols, or topics, enter \"modules\", \"keywords\",\n",
      "\"symbols\", or \"topics\".\n",
      "\n",
      "Each module also comes with a one-line summary of what it does; to list\n",
      "the modules whose name or summary contain a given string such as \"spam\",\n",
      "enter \"modules spam\".\n",
      "\n",
      "To quit this help utility and return to the interpreter,\n",
      "enter \"q\", \"quit\" or \"exit\".\n",
      "\n",
      "Help on package venv:\n",
      "\n",
      "NAME\n",
      "    venv - Virtual environment (venv) package for Python. Based on PEP 405.\n",
      "\n",
      "MODULE REFERENCE\n",
      "    https://docs.python.org/3.13/library/venv.html\n",
      "\n",
      "    The following documentation is automatically generated from the Python\n",
      "    source files.  It may be incomplete, incorrect or include features that\n",
      "    are considered implementation detail and may vary between Python\n",
      "    implementations.  When in doubt, consult the module reference at the\n",
      "    location listed above.\n",
      "\n",
      "DESCRIPTION\n",
      "    Copyright (C) 2011-2014 Vinay Sajip.\n",
      "    Licensed to the PSF under a contributor agreement.\n",
      "\n",
      "PACKAGE CONTENTS\n",
      "    __main__\n",
      "\n",
      "CLASSES\n",
      "    builtins.object\n",
      "        EnvBuilder\n",
      "\n",
      "    class EnvBuilder(builtins.object)\n",
      "     |  EnvBuilder(\n",
      "     |      system_site_packages=False,\n",
      "     |      clear=False,\n",
      "     |      symlinks=False,\n",
      "     |      upgrade=False,\n",
      "     |      with_pip=False,\n",
      "     |      prompt=None,\n",
      "     |      upgrade_deps=False,\n",
      "     |      *,\n",
      "     |      scm_ignore_files=frozenset()\n",
      "     |  )\n",
      "     |\n",
      "     |  This class exists to allow virtual environment creation to be\n",
      "     |  customized. The constructor parameters determine the builder's\n",
      "     |  behaviour when called upon to create a virtual environment.\n",
      "     |\n",
      "     |  By default, the builder makes the system (global) site-packages dir\n",
      "     |  *un*available to the created environment.\n",
      "     |\n",
      "     |  If invoked using the Python -m option, the default is to use copying\n",
      "     |  on Windows platforms but symlinks elsewhere. If instantiated some\n",
      "     |  other way, the default is to *not* use symlinks.\n",
      "     |\n",
      "     |  :param system_site_packages: If True, the system (global) site-packages\n",
      "     |                               dir is available to created environments.\n",
      "     |  :param clear: If True, delete the contents of the environment directory if\n",
      "     |                it already exists, before environment creation.\n",
      "     |  :param symlinks: If True, attempt to symlink rather than copy files into\n",
      "     |                   virtual environment.\n",
      "     |  :param upgrade: If True, upgrade an existing virtual environment.\n",
      "     |  :param with_pip: If True, ensure pip is installed in the virtual\n",
      "     |                   environment\n",
      "     |  :param prompt: Alternative terminal prefix for the environment.\n",
      "     |  :param upgrade_deps: Update the base venv modules to the latest on PyPI\n",
      "     |  :param scm_ignore_files: Create ignore files for the SCMs specified by the\n",
      "     |                           iterable.\n",
      "     |\n",
      "     |  Methods defined here:\n",
      "     |\n",
      "     |  __init__(\n",
      "     |      self,\n",
      "     |      system_site_packages=False,\n",
      "     |      clear=False,\n",
      "     |      symlinks=False,\n",
      "     |      upgrade=False,\n",
      "     |      with_pip=False,\n",
      "     |      prompt=None,\n",
      "     |      upgrade_deps=False,\n",
      "     |      *,\n",
      "     |      scm_ignore_files=frozenset()\n",
      "     |  )\n",
      "     |      Initialize self.  See help(type(self)) for accurate signature.\n",
      "     |\n",
      "     |  clear_directory(self, path)\n",
      "     |\n",
      "     |  create(self, env_dir)\n",
      "     |      Create a virtual environment in a directory.\n",
      "     |\n",
      "     |      :param env_dir: The target directory to create an environment in.\n",
      "     |\n",
      "     |  create_configuration(self, context)\n",
      "     |      Create a configuration file indicating where the environment's Python\n",
      "     |      was copied from, and whether the system site-packages should be made\n",
      "     |      available in the environment.\n",
      "     |\n",
      "     |      :param context: The information for the environment creation request\n",
      "     |                      being processed.\n",
      "     |\n",
      "     |  create_git_ignore_file(self, context)\n",
      "     |      Create a .gitignore file in the environment directory.\n",
      "     |\n",
      "     |      The contents of the file cause the entire environment directory to be\n",
      "     |      ignored by git.\n",
      "     |\n",
      "     |  ensure_directories(self, env_dir)\n",
      "     |      Create the directories for the environment.\n",
      "     |\n",
      "     |      Returns a context object which holds paths in the environment,\n",
      "     |      for use by subsequent logic.\n",
      "     |\n",
      "     |  install_scripts(self, context, path)\n",
      "     |      Install scripts into the created environment from a directory.\n",
      "     |\n",
      "     |      :param context: The information for the environment creation request\n",
      "     |                      being processed.\n",
      "     |      :param path:    Absolute pathname of a directory containing script.\n",
      "     |                      Scripts in the 'common' subdirectory of this directory,\n",
      "     |                      and those in the directory named for the platform\n",
      "     |                      being run on, are installed in the created environment.\n",
      "     |                      Placeholder variables are replaced with environment-\n",
      "     |                      specific values.\n",
      "     |\n",
      "     |  post_setup(self, context)\n",
      "     |      Hook for post-setup modification of the venv. Subclasses may install\n",
      "     |      additional packages or scripts here, add activation shell scripts, etc.\n",
      "     |\n",
      "     |      :param context: The information for the environment creation request\n",
      "     |                      being processed.\n",
      "     |\n",
      "     |  replace_variables(self, text, context)\n",
      "     |      Replace variable placeholders in script text with context-specific\n",
      "     |      variables.\n",
      "     |\n",
      "     |      Return the text passed in , but with variables replaced.\n",
      "     |\n",
      "     |      :param text: The text in which to replace placeholder variables.\n",
      "     |      :param context: The information for the environment creation request\n",
      "     |                      being processed.\n",
      "     |\n",
      "     |  setup_python(self, context)\n",
      "     |      Set up a Python executable in the environment.\n",
      "     |\n",
      "     |      :param context: The information for the environment creation request\n",
      "     |                      being processed.\n",
      "     |\n",
      "     |  setup_scripts(self, context)\n",
      "     |      Set up scripts into the created environment from a directory.\n",
      "     |\n",
      "     |      This method installs the default scripts into the environment\n",
      "     |      being created. You can prevent the default installation by overriding\n",
      "     |      this method if you really need to, or if you need to specify\n",
      "     |      a different location for the scripts to install. By default, the\n",
      "     |      'scripts' directory in the venv package is used as the source of\n",
      "     |      scripts to install.\n",
      "     |\n",
      "     |  symlink_or_copy(self, src, dst, relative_symlinks_ok=False)\n",
      "     |      Try symlinking a file, and if that fails, fall back to copying.\n",
      "     |      (Unused on Windows, because we can't just copy a failed symlink file: we\n",
      "     |      switch to a different set of files instead.)\n",
      "     |\n",
      "     |  upgrade_dependencies(self, context)\n",
      "     |\n",
      "     |  ----------------------------------------------------------------------\n",
      "     |  Data descriptors defined here:\n",
      "     |\n",
      "     |  __dict__\n",
      "     |      dictionary for instance variables\n",
      "     |\n",
      "     |  __weakref__\n",
      "     |      list of weak references to the object\n",
      "\n",
      "FUNCTIONS\n",
      "    create(\n",
      "        env_dir,\n",
      "        system_site_packages=False,\n",
      "        clear=False,\n",
      "        symlinks=False,\n",
      "        with_pip=False,\n",
      "        prompt=None,\n",
      "        upgrade_deps=False,\n",
      "        *,\n",
      "        scm_ignore_files=frozenset()\n",
      "    )\n",
      "        Create a virtual environment in a directory.\n",
      "\n",
      "    main(args=None)\n",
      "\n",
      "DATA\n",
      "    CORE_VENV_DEPS = ('pip',)\n",
      "    logger = <Logger venv (WARNING)>\n",
      "\n",
      "FILE\n",
      "    /home/ingeridd/.local/share/uv/python/cpython-3.13.1-linux-x86_64-gnu/lib/python3.13/venv/__init__.py\n",
      "\n",
      "\n",
      "\n",
      "You are now leaving help and returning to the Python interpreter.\n",
      "If you want to ask for help on a particular object directly from the\n",
      "interpreter, you can type \"help(object)\".  Executing \"help('string')\"\n",
      "has the same effect as typing a particular string at the help> prompt.\n"
     ]
    }
   ],
   "source": [
    "help()"
   ]
  },
  {
   "cell_type": "markdown",
   "metadata": {},
   "source": [
    "## 1. Søk etter mønstre i korpus\n",
    "\n",
    "Stram inn mønsteret etter behov for å bare matche ønskede setninger. "
   ]
  },
  {
   "cell_type": "code",
   "execution_count": 12,
   "metadata": {},
   "outputs": [],
   "source": [
    "# Load a corpus from a file or a string\n",
    "\n",
    "filename = \"data/dev_fixed_UDfeats.conll\"\n",
    "corpus = grew.corpus(filename)"
   ]
  },
  {
   "cell_type": "code",
   "execution_count": 19,
   "metadata": {},
   "outputs": [
    {
     "data": {
      "text/plain": [
       "2409"
      ]
     },
     "execution_count": 19,
     "metadata": {},
     "output_type": "execute_result"
    }
   ],
   "source": [
    "grew.corpus_size(corpus)"
   ]
  },
  {
   "cell_type": "code",
   "execution_count": 13,
   "metadata": {},
   "outputs": [
    {
     "data": {
      "text/plain": [
       "['dev_fixed_UDfeats.conll_00001',\n",
       " 'dev_fixed_UDfeats.conll_00002',\n",
       " 'dev_fixed_UDfeats.conll_00003',\n",
       " 'dev_fixed_UDfeats.conll_00004',\n",
       " 'dev_fixed_UDfeats.conll_00005',\n",
       " 'dev_fixed_UDfeats.conll_00006',\n",
       " 'dev_fixed_UDfeats.conll_00007',\n",
       " 'dev_fixed_UDfeats.conll_00008',\n",
       " 'dev_fixed_UDfeats.conll_00009',\n",
       " 'dev_fixed_UDfeats.conll_00010']"
      ]
     },
     "execution_count": 13,
     "metadata": {},
     "output_type": "execute_result"
    }
   ],
   "source": [
    "(sent_ids := grew.corpus_sent_ids(corpus)[:10])"
   ]
  },
  {
   "cell_type": "code",
   "execution_count": 29,
   "metadata": {},
   "outputs": [
    {
     "name": "stdout",
     "output_type": "stream",
     "text": [
      "\n",
      "Sentence: dev_fixed_UDfeats.conll_00001\n",
      "['__0__', 'Dommer', 'Finn', 'Eilertsen', 'avstår', ',', 'selvfølgelig', 'bevisst', ',', 'fra', 'å', '«', 'sette', 'ord', 'på', '»', 'det', 'inntrykk', 'retten', 'for', 'sitt', 'vedkommende', 'måtte', 'ha', 'dannet', 'seg', 'av', 'de', 'handlinger', 'retten', 'finner', 'bevist', 'og', 'av', 'lovovertrederen', '.']\n",
      "\n"
     ]
    }
   ],
   "source": [
    "# Hent ut en gitt setningsgraf\n",
    "\n",
    "sent_id = sent_ids[0]\n",
    "(sent_graph := grew.corpus_get(sent_id, corpus))\n",
    "\n",
    "sent_info = [sent_graph[token] for token in sorted(sent_graph, key=int)]\n",
    "words = [token[0][\"form\"] for token in sent_info]\n",
    "\n",
    "print(f\"\"\"\n",
    "Sentence: {sent_id}\n",
    "{words}\n",
    "\"\"\")"
   ]
  },
  {
   "cell_type": "code",
   "execution_count": 48,
   "metadata": {},
   "outputs": [
    {
     "name": "stdout",
     "output_type": "stream",
     "text": [
      "501 sentences match the pattern in the corpus \n",
      "\n",
      "5 first matches in the corpus:  [{'sent_id': 'dev_fixed_UDfeats.conll_02408', 'matching': {'nodes': {'V': '3', 'N': '2'}, 'edges': {'e': {'source': '3', 'label': 'SUBJ', 'target': '2'}}}}, {'sent_id': 'dev_fixed_UDfeats.conll_02406', 'matching': {'nodes': {'V': '2', 'N': '1'}, 'edges': {'e': {'source': '2', 'label': 'SUBJ', 'target': '1'}}}}, {'sent_id': 'dev_fixed_UDfeats.conll_02404', 'matching': {'nodes': {'V': '11', 'N': '10'}, 'edges': {'e': {'source': '11', 'label': 'SUBJ', 'target': '10'}}}}, {'sent_id': 'dev_fixed_UDfeats.conll_02402', 'matching': {'nodes': {'V': '6', 'N': '5'}, 'edges': {'e': {'source': '6', 'label': 'SUBJ', 'target': '5'}}}}, {'sent_id': 'dev_fixed_UDfeats.conll_02398', 'matching': {'nodes': {'V': '2', 'N': '1'}, 'edges': {'e': {'source': '2', 'label': 'SUBJ', 'target': '1'}}}}]\n",
      "\n",
      "Sentence: dev_fixed_UDfeats.conll_00001\n",
      "Text: Fire vindmøller sørger for strøm .\n",
      "\n",
      "Annotations: [[{'form': '__0__'}, [['FINV', '3']]], [{'Number': 'Plur', 'form': 'Fire', 'lemma': 'fire', 'textform': 'Fire', 'upos': 'NUM', 'wordform': 'Fire'}, []], [{'Definite': 'Ind', 'Gender': 'Fem', 'Number': 'Plur', 'form': 'vindmøller', 'lemma': 'vindmølle', 'textform': 'vindmøller', 'upos': 'NOUN', 'wordform': 'vindmøller'}, [['DET', '1']]], [{'Mood': 'Ind', 'Tense': 'Pres', 'VerbForm': 'Fin', 'form': 'sørger', 'lemma': 'sørge', 'textform': 'sørger', 'upos': 'VERB', 'wordform': 'sørger'}, [['IP', '6'], ['ADV', '4'], ['SUBJ', '2']]], [{'form': 'for', 'lemma': 'for', 'textform': 'for', 'upos': 'ADP', 'wordform': 'for'}, [['PUTFYLL', '5']]], [{'Definite': 'Ind', 'Gender': 'Masc', 'Number': 'Sing', 'form': 'strøm', 'lemma': 'strøm', 'textform': 'strøm', 'upos': 'NOUN', 'wordform': 'strøm'}, []], [{'form': '.', 'lemma': '$.', 'textform': '.', 'upos': 'PUNCT', 'wordform': '.'}, []]]\n",
      "\n",
      "Matching nodes in the selected graph:\n",
      "[{'nodes': {'V': '3', 'N': '2'}, 'edges': {'e': {'source': '3', 'label': 'SUBJ', 'target': '2'}}}]\n",
      "\n"
     ]
    }
   ],
   "source": [
    "# Søk etter mønster\n",
    "testpattern = \"\"\"\n",
    "pattern {\n",
    "    V [ upos=VERB ];\n",
    "    N [ upos=NOUN ];\n",
    "    e: V -[ SUBJ ]-> N; \n",
    "}\n",
    "\"\"\"\n",
    "\n",
    "# Antall matchende sentinger\n",
    "n_matches = grew.corpus_count(testpattern, corpus)\n",
    "print(n_matches, \"sentences match the pattern in the corpus \\n\")\n",
    "\n",
    "# Treff på noder og kanter\n",
    "corpus_results = grew.corpus_search(testpattern, corpus)\n",
    "print(\"5 first matches in the corpus: \", corpus_results[:5])\n",
    "\n",
    "# setningsID fra treffene\n",
    "match_ids = [match[\"sent_id\"] for match in corpus_results]\n",
    "\n",
    "# Se på grafen til et av treffene\n",
    "(sent_graph := grew.corpus_get(match_ids[0], corpus))\n",
    "\n",
    "sent_info = [sent_graph[token] for token in sorted(sent_graph, key=int)]\n",
    "words = [token[0][\"form\"] for token in sent_info[1:]]\n",
    "\n",
    "# Hent ut de matchede nodene og kantene fra setningen\n",
    "nodes = grew.search(testpattern, sent_graph)\n",
    "\n",
    "print(f\"\"\"\n",
    "Sentence: {sent_id}\n",
    "Text: {\" \".join(words)}\n",
    "\n",
    "Annotations: {sent_info}\n",
    "\n",
    "Matching nodes in the selected graph:\n",
    "{nodes}\n",
    "\"\"\")\n",
    "\n",
    "# Skriv grafen til en fil\n",
    "grew.save(sent_graph, \"graph_sample.json\")"
   ]
  },
  {
   "cell_type": "markdown",
   "metadata": {},
   "source": [
    "### Visuell mønstermatching\n",
    "\n",
    "Regelutikling anbefales å gjøres i Arborator, hvor vi har et privat prosjekt: [NDT_conversion_to_UD](https://arboratorgrew.elizia.net/#/projects/NDT_conversion_to_UD)\n",
    "\n",
    "\n",
    "Mønstersøk i eksisterende UD-versjon kan også gjøres i Grew Match: http://universal.grew.fr/?corpus=UD_Norwegian-Bokmaal@2.9"
   ]
  },
  {
   "cell_type": "markdown",
   "metadata": {},
   "source": [
    "## 2. Skriv en konverteringsregel med mønsteret\n",
    "\n"
   ]
  },
  {
   "cell_type": "code",
   "execution_count": 49,
   "metadata": {},
   "outputs": [
    {
     "data": {
      "text/plain": [
       "[{'0': [{'form': '__0__'}, [['FINV', '3']]],\n",
       "  '1': [{'Number': 'Plur',\n",
       "    'form': 'Fire',\n",
       "    'lemma': 'fire',\n",
       "    'textform': 'Fire',\n",
       "    'upos': 'NUM',\n",
       "    'wordform': 'Fire'},\n",
       "   []],\n",
       "  '2': [{'Definite': 'Ind',\n",
       "    'Gender': 'Fem',\n",
       "    'Number': 'Plur',\n",
       "    'form': 'vindmøller',\n",
       "    'lemma': 'vindmølle',\n",
       "    'textform': 'vindmøller',\n",
       "    'upos': 'NOUN',\n",
       "    'wordform': 'vindmøller'},\n",
       "   [['DET', '1']]],\n",
       "  '3': [{'Mood': 'Ind',\n",
       "    'Tense': 'Pres',\n",
       "    'VerbForm': 'Fin',\n",
       "    'form': 'sørger',\n",
       "    'lemma': 'sørge',\n",
       "    'textform': 'sørger',\n",
       "    'upos': 'VERB',\n",
       "    'wordform': 'sørger'},\n",
       "   [['nsubj', '2'], ['ADV', '4'], ['IP', '6']]],\n",
       "  '4': [{'form': 'for',\n",
       "    'lemma': 'for',\n",
       "    'textform': 'for',\n",
       "    'upos': 'ADP',\n",
       "    'wordform': 'for'},\n",
       "   [['PUTFYLL', '5']]],\n",
       "  '5': [{'Definite': 'Ind',\n",
       "    'Gender': 'Masc',\n",
       "    'Number': 'Sing',\n",
       "    'form': 'strøm',\n",
       "    'lemma': 'strøm',\n",
       "    'textform': 'strøm',\n",
       "    'upos': 'NOUN',\n",
       "    'wordform': 'strøm'},\n",
       "   []],\n",
       "  '6': [{'form': '.',\n",
       "    'lemma': '$.',\n",
       "    'textform': '.',\n",
       "    'upos': 'PUNCT',\n",
       "    'wordform': '.'},\n",
       "   []]}]"
      ]
     },
     "execution_count": 49,
     "metadata": {},
     "output_type": "execute_result"
    }
   ],
   "source": [
    "rule_name = \"nominal_subj\"\n",
    "# regel med sammensatt mønster og kommando\n",
    "test_rule = \"\"\"rule nominal_subj { \n",
    "pattern {\n",
    "    V [ upos=VERB ];\n",
    "    N [ upos=NOUN ];\n",
    "    e: V -[ SUBJ ]-> N; \n",
    "}\n",
    "commands {\n",
    "    del_edge e;\n",
    "    add_edge V -[ nsubj ]-> N;\n",
    "} }\"\"\"\n",
    "\n",
    "# Last inn regelen som et graph rewriting system\n",
    "grs_rule = grew.grs(test_rule)\n",
    "\n",
    "# Kjør regelen på den utvalgte setningen\n",
    "grew.run(grs_rule, sent_graph, rule_name)"
   ]
  },
  {
   "cell_type": "markdown",
   "metadata": {},
   "source": [
    "## 3. Stram inn regelen slik at den terminerer i én graf \n",
    "Hvis flere mønstre/regler kreves for å konvertere riktig, velg en strategi som gir én riktig graf per setning"
   ]
  },
  {
   "cell_type": "markdown",
   "metadata": {},
   "source": [
    "## Lagre regler i filer \n",
    "\n",
    "Lagre reglene i GREW-format i en `grs`-fil, med valgt strategi. \n"
   ]
  },
  {
   "cell_type": "code",
   "execution_count": 146,
   "metadata": {},
   "outputs": [
    {
     "data": {
      "text/plain": [
       "238"
      ]
     },
     "execution_count": 146,
     "metadata": {},
     "output_type": "execute_result"
    }
   ],
   "source": [
    "new_rule_file = \"dummy_rule.grs\"\n",
    "Path(new_rule_file).write_text(rule)"
   ]
  },
  {
   "cell_type": "code",
   "execution_count": 157,
   "metadata": {},
   "outputs": [
    {
     "data": {
      "text/plain": [
       "223"
      ]
     },
     "execution_count": 157,
     "metadata": {},
     "output_type": "execute_result"
    }
   ],
   "source": [
    "strategy_file = Path(\"teststrategy.grs\")\n",
    "strategy = strategy_file.read_text()\n",
    "\n",
    "strategy += f\"\"\"\n",
    "\n",
    "import \"{new_rule_file}\"\n",
    "\n",
    "strat {rule_name} {{ {rule_name} }}\n",
    "\n",
    "\"\"\"\n",
    "\n",
    "strategy_file.write_text(strategy)"
   ]
  },
  {
   "cell_type": "markdown",
   "metadata": {},
   "source": [
    "## Konverter korpuset \n"
   ]
  },
  {
   "cell_type": "code",
   "execution_count": 158,
   "metadata": {},
   "outputs": [
    {
     "name": "stdout",
     "output_type": "stream",
     "text": [
      "0.00% (000001)                                                                                      ^C\n"
     ]
    }
   ],
   "source": [
    "# fra kommandolinjen\n",
    "!grew transform -grs teststrategy.grs -strat {rule_name} -i no_bokmaal-ud-train.conllu -o grew_output.conllu "
   ]
  },
  {
   "cell_type": "markdown",
   "metadata": {},
   "source": [
    "## Visualiser resulterende grafer\n",
    "\n",
    "Under arbeid ....\n",
    "\n",
    "1. Last opp conllu-filen med de(n) resulterende grafen(e): https://universaldependencies.org/conllu_viewer.html \n",
    "2. Konverter grafene fra grew-dict-format til displacy-dict-format : "
   ]
  },
  {
   "cell_type": "code",
   "execution_count": 50,
   "metadata": {},
   "outputs": [
    {
     "ename": "NameError",
     "evalue": "name 'graphs' is not defined",
     "output_type": "error",
     "traceback": [
      "\u001b[0;31m---------------------------------------------------------------------------\u001b[0m",
      "\u001b[0;31mNameError\u001b[0m                                 Traceback (most recent call last)",
      "\u001b[1;32m/home/ingeridd/Prosjekter/grew-testing/test_grew_rule_application.ipynb Cell 20'\u001b[0m in \u001b[0;36m<cell line: 32>\u001b[0;34m()\u001b[0m\n\u001b[1;32m     <a href='vscode-notebook-cell:/home/ingeridd/Prosjekter/grew-testing/test_grew_rule_application.ipynb#ch0000025?line=28'>29</a>\u001b[0m     \u001b[39m# TODO: Implement functionality\u001b[39;00m\n\u001b[1;32m     <a href='vscode-notebook-cell:/home/ingeridd/Prosjekter/grew-testing/test_grew_rule_application.ipynb#ch0000025?line=29'>30</a>\u001b[0m     \u001b[39mpass\u001b[39;00m \n\u001b[0;32m---> <a href='vscode-notebook-cell:/home/ingeridd/Prosjekter/grew-testing/test_grew_rule_application.ipynb#ch0000025?line=31'>32</a>\u001b[0m displacy_dicts \u001b[39m=\u001b[39m grew_to_displacy(graphs)\n\u001b[1;32m     <a href='vscode-notebook-cell:/home/ingeridd/Prosjekter/grew-testing/test_grew_rule_application.ipynb#ch0000025?line=33'>34</a>\u001b[0m displacy\u001b[39m.\u001b[39mrender(docs\u001b[39m=\u001b[39mdisplacy_dicts, manual\u001b[39m=\u001b[39m\u001b[39mTrue\u001b[39;00m)\n",
      "\u001b[0;31mNameError\u001b[0m: name 'graphs' is not defined"
     ]
    }
   ],
   "source": [
    "from typing import List\n",
    "\n",
    "from spacy import displacy\n",
    "\n",
    "# displacy.parse_deps()   # Lag en spacy-dependency parse av en setning\n",
    "\n",
    "\n",
    "# Format the grah in displacy format\n",
    "def grew_to_displacy(graphs: List[dict]) -> List[dict]:\n",
    "    \"\"\"Displacy format:\n",
    "\n",
    "    .. code-block:: python\n",
    "\n",
    "        {\n",
    "            \"words\": [\n",
    "                {\"text\": \"This\", \"tag\": \"DT\"},\n",
    "                {\"text\": \"is\", \"tag\": \"VBZ\"},\n",
    "                {\"text\": \"a\", \"tag\": \"DT\"},\n",
    "                {\"text\": \"sentence\", \"tag\": \"NN\"}\n",
    "            ],\n",
    "            \"arcs\": [\n",
    "                {\"start\": 0, \"end\": 1, \"label\": \"nsubj\", \"dir\": \"left\"},\n",
    "                {\"start\": 2, \"end\": 3, \"label\": \"det\", \"dir\": \"left\"},\n",
    "                {\"start\": 1, \"end\": 3, \"label\": \"attr\", \"dir\": \"right\"}\n",
    "            ]\n",
    "        }\n",
    "\n",
    "    Source: https://spacy.io/usage/visualizers#manual-usage\n",
    "    \"\"\"\n",
    "    # TODO: Implement functionality\n",
    "    pass\n",
    "\n",
    "\n",
    "displacy_dicts = grew_to_displacy(graphs)\n",
    "\n",
    "displacy.render(docs=displacy_dicts, manual=True)"
   ]
  },
  {
   "cell_type": "code",
   "execution_count": null,
   "metadata": {},
   "outputs": [],
   "source": []
  }
 ],
 "metadata": {
  "kernelspec": {
   "display_name": ".venv",
   "language": "python",
   "name": "python3"
  },
  "language_info": {
   "codemirror_mode": {
    "name": "ipython",
    "version": 3
   },
   "file_extension": ".py",
   "mimetype": "text/x-python",
   "name": "python",
   "nbconvert_exporter": "python",
   "pygments_lexer": "ipython3",
   "version": "3.13.1"
  }
 },
 "nbformat": 4,
 "nbformat_minor": 4
}
