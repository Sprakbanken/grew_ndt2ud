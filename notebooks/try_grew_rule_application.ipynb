{
 "cells": [
  {
   "cell_type": "markdown",
   "metadata": {},
   "source": [
    "# Arbeidsløype for grafkonversjon med Grew\n",
    "\n",
    "*Forslag til arbeidsløype i python:*\n",
    "\n",
    "1. Søke med mønster i korpuset (finn ut hvor mange og hvilke setninger som matcher mønsteret)\n",
    "    - Stramme inn mønsteret til å bare matche riktig type setninger (ut fra hvilken NDT-til-UD-regel man skal skrive).\n",
    "2. Legge til enkle transformasjoner i regelen og kjøre mot én eksempelsetning.\n",
    "    - Spisse/stramme inn regelen for å redusere antallet resulterende grafer.\n",
    "    - Når en regel konverterer en setning til bare én graf, og grafen ser riktig ut (ifølge UDs retningslinjer), kjør regelen på andre setninger som matchet samme mønster og sjekk at disse også er riktige.\n",
    "3. Hvis flere mønstre/regler kreves for å konvertere riktig, velg en strategi som gir én riktig graf per setning."
   ]
  },
  {
   "cell_type": "code",
   "execution_count": null,
   "metadata": {},
   "outputs": [],
   "source": [
    "from pathlib import Path"
   ]
  },
  {
   "cell_type": "code",
   "execution_count": null,
   "metadata": {},
   "outputs": [],
   "source": [
    "help()"
   ]
  },
  {
   "cell_type": "markdown",
   "metadata": {},
   "source": [
    "## 1. Søk etter mønstre i korpus\n",
    "\n",
    "Stram inn mønsteret etter behov for å bare matche ønskede setninger. "
   ]
  },
  {
   "cell_type": "code",
   "execution_count": null,
   "metadata": {},
   "outputs": [],
   "source": [
    "# Load a corpus from a file or a string\n",
    "\n",
    "filename = \"data/dev_fixed_UDfeats.conll\"\n",
    "corpus = grew.corpus(filename)"
   ]
  },
  {
   "cell_type": "code",
   "execution_count": null,
   "metadata": {},
   "outputs": [],
   "source": [
    "grew.corpus_size(corpus)"
   ]
  },
  {
   "cell_type": "code",
   "execution_count": null,
   "metadata": {},
   "outputs": [],
   "source": [
    "(sent_ids := grew.corpus_sent_ids(corpus)[:10])"
   ]
  },
  {
   "cell_type": "code",
   "execution_count": null,
   "metadata": {},
   "outputs": [],
   "source": [
    "# Hent ut en gitt setningsgraf\n",
    "\n",
    "sent_id = sent_ids[0]\n",
    "(sent_graph := grew.corpus_get(sent_id, corpus))\n",
    "\n",
    "sent_info = [sent_graph[token] for token in sorted(sent_graph, key=int)]\n",
    "words = [token[0][\"form\"] for token in sent_info]\n",
    "\n",
    "print(f\"\"\"\n",
    "Sentence: {sent_id}\n",
    "{words}\n",
    "\"\"\")"
   ]
  },
  {
   "cell_type": "code",
   "execution_count": null,
   "metadata": {},
   "outputs": [],
   "source": [
    "# Søk etter mønster\n",
    "testpattern = \"\"\"\n",
    "pattern {\n",
    "    V [ upos=VERB ];\n",
    "    N [ upos=NOUN ];\n",
    "    e: V -[ SUBJ ]-> N; \n",
    "}\n",
    "\"\"\"\n",
    "\n",
    "# Antall matchende sentinger\n",
    "n_matches = grew.corpus_count(testpattern, corpus)\n",
    "print(n_matches, \"sentences match the pattern in the corpus \\n\")\n",
    "\n",
    "# Treff på noder og kanter\n",
    "corpus_results = grew.corpus_search(testpattern, corpus)\n",
    "print(\"5 first matches in the corpus: \", corpus_results[:5])\n",
    "\n",
    "# setningsID fra treffene\n",
    "match_ids = [match[\"sent_id\"] for match in corpus_results]\n",
    "\n",
    "# Se på grafen til et av treffene\n",
    "(sent_graph := grew.corpus_get(match_ids[0], corpus))\n",
    "\n",
    "sent_info = [sent_graph[token] for token in sorted(sent_graph, key=int)]\n",
    "words = [token[0][\"form\"] for token in sent_info[1:]]\n",
    "\n",
    "# Hent ut de matchede nodene og kantene fra setningen\n",
    "nodes = grew.search(testpattern, sent_graph)\n",
    "\n",
    "print(f\"\"\"\n",
    "Sentence: {sent_id}\n",
    "Text: {\" \".join(words)}\n",
    "\n",
    "Annotations: {sent_info}\n",
    "\n",
    "Matching nodes in the selected graph:\n",
    "{nodes}\n",
    "\"\"\")\n",
    "\n",
    "# Skriv grafen til en fil\n",
    "grew.save(sent_graph, \"graph_sample.json\")"
   ]
  },
  {
   "cell_type": "markdown",
   "metadata": {},
   "source": [
    "### Visuell mønstermatching\n",
    "\n",
    "Regelutikling anbefales å gjøres i Arborator, hvor vi har et privat prosjekt: [NDT_conversion_to_UD](https://arboratorgrew.elizia.net/#/projects/NDT_conversion_to_UD)\n",
    "\n",
    "\n",
    "Mønstersøk i eksisterende UD-versjon kan også gjøres i Grew Match: http://universal.grew.fr/?corpus=UD_Norwegian-Bokmaal@2.9"
   ]
  },
  {
   "cell_type": "markdown",
   "metadata": {},
   "source": [
    "## 2. Skriv en konverteringsregel med mønsteret\n",
    "\n"
   ]
  },
  {
   "cell_type": "code",
   "execution_count": null,
   "metadata": {},
   "outputs": [],
   "source": [
    "rule_name = \"nominal_subj\"\n",
    "# regel med sammensatt mønster og kommando\n",
    "test_rule = \"\"\"rule nominal_subj { \n",
    "pattern {\n",
    "    V [ upos=VERB ];\n",
    "    N [ upos=NOUN ];\n",
    "    e: V -[ SUBJ ]-> N; \n",
    "}\n",
    "commands {\n",
    "    del_edge e;\n",
    "    add_edge V -[ nsubj ]-> N;\n",
    "} }\"\"\"\n",
    "\n",
    "# Last inn regelen som et graph rewriting system\n",
    "grs_rule = grew.grs(test_rule)\n",
    "\n",
    "# Kjør regelen på den utvalgte setningen\n",
    "grew.run(grs_rule, sent_graph, rule_name)"
   ]
  },
  {
   "cell_type": "markdown",
   "metadata": {},
   "source": [
    "## 3. Stram inn regelen slik at den terminerer i én graf \n",
    "Hvis flere mønstre/regler kreves for å konvertere riktig, velg en strategi som gir én riktig graf per setning"
   ]
  },
  {
   "cell_type": "markdown",
   "metadata": {},
   "source": [
    "## Lagre regler i filer \n",
    "\n",
    "Lagre reglene i GREW-format i en `grs`-fil, med valgt strategi. \n"
   ]
  },
  {
   "cell_type": "code",
   "execution_count": null,
   "metadata": {},
   "outputs": [],
   "source": [
    "new_rule_file = \"dummy_rule.grs\"\n",
    "Path(new_rule_file).write_text(rule)"
   ]
  },
  {
   "cell_type": "code",
   "execution_count": null,
   "metadata": {},
   "outputs": [],
   "source": [
    "strategy_file = Path(\"teststrategy.grs\")\n",
    "strategy = strategy_file.read_text()\n",
    "\n",
    "strategy += f\"\"\"\n",
    "\n",
    "import \"{new_rule_file}\"\n",
    "\n",
    "strat {rule_name} {{ {rule_name} }}\n",
    "\n",
    "\"\"\"\n",
    "\n",
    "strategy_file.write_text(strategy)"
   ]
  },
  {
   "cell_type": "markdown",
   "metadata": {},
   "source": [
    "## Konverter korpuset \n"
   ]
  },
  {
   "cell_type": "code",
   "execution_count": null,
   "metadata": {},
   "outputs": [],
   "source": [
    "# fra kommandolinjen\n",
    "!grew transform -grs teststrategy.grs -strat {rule_name} -i no_bokmaal-ud-train.conllu -o grew_output.conllu "
   ]
  },
  {
   "cell_type": "markdown",
   "metadata": {},
   "source": [
    "## Visualiser resulterende grafer\n",
    "\n",
    "Under arbeid ....\n",
    "\n",
    "1. Last opp conllu-filen med de(n) resulterende grafen(e): https://universaldependencies.org/conllu_viewer.html \n",
    "2. Konverter grafene fra grew-dict-format til displacy-dict-format : "
   ]
  },
  {
   "cell_type": "code",
   "execution_count": null,
   "metadata": {},
   "outputs": [],
   "source": [
    "from typing import List\n",
    "\n",
    "from spacy import displacy\n",
    "\n",
    "# displacy.parse_deps()   # Lag en spacy-dependency parse av en setning\n",
    "\n",
    "\n",
    "# Format the grah in displacy format\n",
    "def grew_to_displacy(graphs: List[dict]) -> List[dict]:\n",
    "    \"\"\"Displacy format:\n",
    "\n",
    "    .. code-block:: python\n",
    "\n",
    "        {\n",
    "            \"words\": [\n",
    "                {\"text\": \"This\", \"tag\": \"DT\"},\n",
    "                {\"text\": \"is\", \"tag\": \"VBZ\"},\n",
    "                {\"text\": \"a\", \"tag\": \"DT\"},\n",
    "                {\"text\": \"sentence\", \"tag\": \"NN\"}\n",
    "            ],\n",
    "            \"arcs\": [\n",
    "                {\"start\": 0, \"end\": 1, \"label\": \"nsubj\", \"dir\": \"left\"},\n",
    "                {\"start\": 2, \"end\": 3, \"label\": \"det\", \"dir\": \"left\"},\n",
    "                {\"start\": 1, \"end\": 3, \"label\": \"attr\", \"dir\": \"right\"}\n",
    "            ]\n",
    "        }\n",
    "\n",
    "    Source: https://spacy.io/usage/visualizers#manual-usage\n",
    "    \"\"\"\n",
    "    # TODO: Implement functionality\n",
    "    pass\n",
    "\n",
    "\n",
    "displacy_dicts = grew_to_displacy(graphs)\n",
    "\n",
    "displacy.render(docs=displacy_dicts, manual=True)"
   ]
  },
  {
   "cell_type": "code",
   "execution_count": null,
   "metadata": {},
   "outputs": [],
   "source": []
  }
 ],
 "metadata": {
  "kernelspec": {
   "display_name": ".venv",
   "language": "python",
   "name": "python3"
  },
  "language_info": {
   "codemirror_mode": {
    "name": "ipython",
    "version": 3
   },
   "file_extension": ".py",
   "mimetype": "text/x-python",
   "name": "python",
   "nbconvert_exporter": "python",
   "pygments_lexer": "ipython3",
   "version": "3.13.1"
  }
 },
 "nbformat": 4,
 "nbformat_minor": 4
}
