{
 "cells": [
  {
   "cell_type": "code",
   "execution_count": 1,
   "metadata": {
    "tags": []
   },
   "outputs": [],
   "source": [
    "import convert_morph as conv \n",
    "import parse_conllu as parser\n",
    "from pathlib import Path\n",
    "\n",
    "import pandas as pd\n",
    "import re \n"
   ]
  },
  {
   "cell_type": "markdown",
   "metadata": {},
   "source": [
    "## Konverter morfologiske trekk"
   ]
  },
  {
   "cell_type": "code",
   "execution_count": 2,
   "metadata": {
    "tags": []
   },
   "outputs": [],
   "source": [
    "# Definer datapartisjon\n",
    "lang = \"nb\"\n",
    "part = \"train\"\n",
    "ndt_file = f\"data/ndt_{lang}_{part}.conllu\"\n"
   ]
  },
  {
   "cell_type": "code",
   "execution_count": null,
   "metadata": {},
   "outputs": [],
   "source": [
    "# Last inn data \n",
    "data = parser.parse_conll_file(Path(ndt_file))"
   ]
  },
  {
   "cell_type": "code",
   "execution_count": null,
   "metadata": {},
   "outputs": [],
   "source": [
    "# Sjekk resultatet visuelt før de skrives til disk med parser.write_df_to_conll()\n",
    "\n",
    "# Konverter UPOS og FEATS til UD-standard\n",
    "morphdata = conv.convert_morphology(data)\n",
    "# Undersøk resultatet i pandas\n",
    "(df := parser.load_conll_to_df(morphdata))\n"
   ]
  },
  {
   "cell_type": "code",
   "execution_count": null,
   "metadata": {},
   "outputs": [],
   "source": [
    "# Konverter morfologiske trekk for alle splittene av retokenisert ndt data\n",
    "\n",
    "for part in [\"train\", \"test\", \"dev\"]: \n",
    "    for lang in [\"nb\", \"nn\"]: \n",
    "        fpath = Path(f\"data/ndt_{lang}_{part}.conllu\")\n",
    "        data = parser.parse_conll_file(fpath)  # Last inn data \n",
    "        morphdata = conv.convert_morphology(data)  # Konverter UPOS og FEATS til UD-standard\n",
    "        output = fpath.parent / f\"{fpath.stem}_udmorph{fpath.suffix}\"\n",
    "        parser.write_conll(morphdata, output, add_comments=True)  # Skriv CONLL-data til disk \n",
    "        # Legg til SpaceAfter=No i MISC-feltet\n",
    "        !udapy -s ud.SetSpaceAfterFromText < $output > out.conllu && mv out.conllu $output  "
   ]
  },
  {
   "cell_type": "code",
   "execution_count": null,
   "metadata": {},
   "outputs": [],
   "source": [
    "UDFILE=ndt_file\n",
    "\n",
    "# Fix punctuation and add spaceafter \n",
    "!cat $UDFILE | udapy -s ud.FixPunct > out.conllu\n",
    "\n",
    "!cat $UDFILE | udapy -TM \\\n",
    "    util.Mark node='node.lemma == \"som\"' > som.txt\n",
    "\n",
    "!udapy -HMAC \\\n",
    "    read.Conllu zone=old files=$UDFILE \\\n",
    "    read.Conllu zone=new files=out.conllu \\\n",
    "    util.MarkDiff gold_zone=old attributes='form,lemma,upos,xpos,deprel,feats,misc' add=True > diff.html"
   ]
  },
  {
   "cell_type": "markdown",
   "metadata": {},
   "source": [
    "---"
   ]
  },
  {
   "cell_type": "markdown",
   "metadata": {},
   "source": [
    "## Partisjoner data"
   ]
  },
  {
   "cell_type": "code",
   "execution_count": null,
   "metadata": {},
   "outputs": [],
   "source": [
    "# Partisjoner data i dev, train, og test-splittene som UD er delt inn i\n",
    "\n",
    "partitions = {\n",
    "    \"test\" : \"data/test_ids.txt\",\n",
    "    \"dev\" : \"data/dev_ids.txt\",\n",
    "    \"train\" : \"data/train_ids.txt\",\n",
    "}\n",
    "\n",
    "def partition_file(filepath):\n",
    "    fpath = Path(filepath)\n",
    "    for part, idfile in partitions.items():\n",
    "        outputfile = (fpath.parent / f\"{fpath.stem}_{part}{fpath.suffix}\")\n",
    "        part_ids =  parser.filereadlines(idfile)\n",
    "        part_df = df[df.sent_id.isin(part_ids)]\n",
    "        parser.write_df_to_conll(part_df, outputfile, add_comments=True)\n",
    "\n",
    "partition_file(\"data/gullkorpus/2023_gullkorpus_ud.conllu\")\n",
    "partition_file(\"data/gullkorpus/2019_gullkorpus_ud_før_annotasjon.conllu\")\n",
    "partition_file(\"data/gullkorpus/2019_gullkorpus_ndt.conllu\")"
   ]
  },
  {
   "cell_type": "markdown",
   "metadata": {},
   "source": [
    "## Hent eksempelsetninger"
   ]
  },
  {
   "cell_type": "code",
   "execution_count": null,
   "metadata": {},
   "outputs": [],
   "source": [
    "#Hent ut setningene som gir spesifikke feilmeldinger\n",
    "\n",
    "fpath = Path(\"validation-report_ndt2ud.txt\")\n",
    "etype = \"rel-upos-punct\"\n",
    "save_errorlines = False\n",
    "\n",
    "rows = Path(fpath).read_text(encoding=\"utf-8\").splitlines()\n",
    "\n",
    "error_info_regx = re.compile(r\"^\\[Line (\\d+)(?: Sent )?(\\d+)?(?: Node )?(\\d+)?\\]\\: \\[(L.*)\\] (.*)(\\[[0-9]*, [0-9]*\\])?(.*)?$\", flags=re.DOTALL)\n",
    "errors = []\n",
    "for row in rows:\n",
    "    m = error_info_regx.fullmatch(row)\n",
    "    if m is not None:\n",
    "        errors.append(m.groups())\n",
    "\n",
    "df = pd.DataFrame(errors, columns=[\"line\", \"sent\",\"node\", \"errortype\", \"message\", \"relevant_nodes\", \"message2\"])\n",
    "\n",
    "type_counts = df.errortype.value_counts()\n",
    "print(type_counts)\n",
    "\n",
    "if save_errorlines:\n",
    "    errorlines = df[df.errortype.str.contains(etype)]\n",
    "    errorlines.to_csv(f\"error_{etype}.csv\", index=False)\n",
    "\n",
    "    ndt_file = \"data/ndt_nb_train.conllu\"\n",
    "    data = parser.load_conll_to_df(\n",
    "        parser.parse_conll_file(ndt_file)\n",
    "    )\n",
    "    error_sents = data[data.sent_id.isin(errorlines[\"sent\"])]\n",
    "    parser.write_df_to_conll(\n",
    "        error_sents, f\"error_{etype}_sents.conllu\", add_comments=True)\n",
    "    error_sents.sent_id.nunique()\n"
   ]
  },
  {
   "cell_type": "code",
   "execution_count": 1,
   "metadata": {},
   "outputs": [],
   "source": [
    "import json"
   ]
  },
  {
   "cell_type": "code",
   "execution_count": 11,
   "metadata": {},
   "outputs": [
    {
     "data": {
      "text/plain": [
       "99"
      ]
     },
     "execution_count": 11,
     "metadata": {},
     "output_type": "execute_result"
    }
   ],
   "source": [
    "filename = \"match_dev.json\"\n",
    "\n",
    "with open(filename) as fp:\n",
    "    matches = json.load(fp)\n",
    "\n",
    "len(matches)"
   ]
  },
  {
   "cell_type": "code",
   "execution_count": 12,
   "metadata": {},
   "outputs": [
    {
     "data": {
      "text/plain": [
       "99"
      ]
     },
     "execution_count": 12,
     "metadata": {},
     "output_type": "execute_result"
    }
   ],
   "source": [
    "sents = {s[\"sent_id\"] for s in matches}\n",
    "len(sents)"
   ]
  },
  {
   "cell_type": "code",
   "execution_count": 13,
   "metadata": {},
   "outputs": [
    {
     "data": {
      "text/plain": [
       "{'015728',\n",
       " '015731',\n",
       " '015732',\n",
       " '015752',\n",
       " '015836',\n",
       " '015840',\n",
       " '015842',\n",
       " '015847',\n",
       " '015848',\n",
       " '015849',\n",
       " '015859',\n",
       " '015924',\n",
       " '015935',\n",
       " '015974',\n",
       " '015990',\n",
       " '015994',\n",
       " '016046',\n",
       " '016047',\n",
       " '016048',\n",
       " '016084',\n",
       " '016099',\n",
       " '016118',\n",
       " '016128',\n",
       " '016136',\n",
       " '016160',\n",
       " '016167',\n",
       " '016174',\n",
       " '016257',\n",
       " '016298',\n",
       " '016301',\n",
       " '016302',\n",
       " '016313',\n",
       " '016314',\n",
       " '016331',\n",
       " '016443',\n",
       " '016585',\n",
       " '016717',\n",
       " '016855',\n",
       " '016888',\n",
       " '016889',\n",
       " '016925',\n",
       " '016933',\n",
       " '016952',\n",
       " '016953',\n",
       " '016993',\n",
       " '016999',\n",
       " '017020',\n",
       " '017024',\n",
       " '017027',\n",
       " '017046',\n",
       " '017059',\n",
       " '017063',\n",
       " '017065',\n",
       " '017068',\n",
       " '017086',\n",
       " '017115',\n",
       " '017136',\n",
       " '017144',\n",
       " '017146',\n",
       " '017170',\n",
       " '017178',\n",
       " '017265',\n",
       " '017270',\n",
       " '017387',\n",
       " '017417',\n",
       " '017419',\n",
       " '017427',\n",
       " '017438',\n",
       " '017442',\n",
       " '017443',\n",
       " '017455',\n",
       " '017460',\n",
       " '017513',\n",
       " '017558',\n",
       " '017577',\n",
       " '017582',\n",
       " '017586',\n",
       " '017614',\n",
       " '017616',\n",
       " '017653',\n",
       " '017658',\n",
       " '017659',\n",
       " '017661',\n",
       " '017687',\n",
       " '017750',\n",
       " '017754',\n",
       " '017764',\n",
       " '017780',\n",
       " '017783',\n",
       " '017794',\n",
       " '017800',\n",
       " '017840',\n",
       " '017855',\n",
       " '017942',\n",
       " '018052',\n",
       " '018069',\n",
       " '018095',\n",
       " '018096',\n",
       " '018100'}"
      ]
     },
     "execution_count": 13,
     "metadata": {},
     "output_type": "execute_result"
    }
   ],
   "source": [
    "sents"
   ]
  },
  {
   "cell_type": "code",
   "execution_count": null,
   "metadata": {},
   "outputs": [],
   "source": []
  }
 ],
 "metadata": {
  "kernelspec": {
   "display_name": "Python 3 (ipykernel)",
   "language": "python",
   "name": "python3"
  },
  "language_info": {
   "codemirror_mode": {
    "name": "ipython",
    "version": 3
   },
   "file_extension": ".py",
   "mimetype": "text/x-python",
   "name": "python",
   "nbconvert_exporter": "python",
   "pygments_lexer": "ipython3",
   "version": "3.11.0"
  }
 },
 "nbformat": 4,
 "nbformat_minor": 4
}
