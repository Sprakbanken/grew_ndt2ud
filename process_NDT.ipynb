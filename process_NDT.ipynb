{
 "cells": [
  {
   "cell_type": "code",
   "execution_count": null,
   "metadata": {},
   "outputs": [],
   "source": [
    "import convert_morph as conv \n",
    "import parse_conllu as parser\n",
    "from pathlib import Path\n",
    "\n",
    "import pandas as pd\n",
    "import re \n",
    "\n"
   ]
  },
  {
   "cell_type": "code",
   "execution_count": null,
   "metadata": {},
   "outputs": [],
   "source": [
    "# Konverter alle splittene av retokenisert ndt data\n",
    "\n",
    "for part in [\"train\", \"test\", \"dev\"]: \n",
    "    for lang in [\"nb\", \"nn\"]: \n",
    "        fpath = Path(f\"data/ndt_{lang}_{part}.conllu\")\n",
    "        data = parser.parse_conll_file(fpath)\n",
    "        morphdata = conv.convert_morphology(data)\n",
    "        output = fpath.parent / f\"{fpath.stem}_udmorph{fpath.suffix}\"\n",
    "        parser.write_conll(morphdata, output, add_comments=True)\n",
    "        !udapy -s ud.SetSpaceAfterFromText < $output > out.conllu && mv out.conllu $output"
   ]
  },
  {
   "attachments": {},
   "cell_type": "markdown",
   "metadata": {},
   "source": [
    "---"
   ]
  },
  {
   "cell_type": "code",
   "execution_count": null,
   "metadata": {},
   "outputs": [],
   "source": [
    "# Datautvalg\n",
    "gullfil = Path(\"data/gullkorpus/2023_gullkorpus_ud.conllu\")\n",
    "ud_pregullfil = Path(\"data/gullkorpus/2019_gullkorpus_ud_før_annotasjon.conllu\")\n",
    "ndt_gullfil = Path(\"data/gullkorpus/2019_gullkorpus_ndt.conllu\")\n",
    "\n",
    "part = \"dev\" \n",
    "#part = \"train\"\n",
    "#part = \"test\"\n",
    "lang=\"nb\"\n",
    "#lang=\"nn\"\n",
    "ndt_fil = Path(f\"data/ndt_{lang}_{part}.conllu\")\n",
    "\n"
   ]
  },
  {
   "cell_type": "code",
   "execution_count": null,
   "metadata": {},
   "outputs": [],
   "source": [
    "# Last inn data \n",
    "fpath = ndt_fil\n",
    "data = parser.parse_conll_file(fpath)"
   ]
  },
  {
   "cell_type": "code",
   "execution_count": null,
   "metadata": {},
   "outputs": [],
   "source": [
    "# Konverter UPOS og FEATS til UD-standard\n",
    "morphdata = conv.convert_morphology(data)"
   ]
  },
  {
   "cell_type": "code",
   "execution_count": null,
   "metadata": {},
   "outputs": [],
   "source": [
    "# Undersøk resultatet i pandas\n",
    "df = parser.load_conll_to_df(morphdata)"
   ]
  },
  {
   "cell_type": "code",
   "execution_count": null,
   "metadata": {},
   "outputs": [],
   "source": [
    "df"
   ]
  },
  {
   "cell_type": "code",
   "execution_count": null,
   "metadata": {},
   "outputs": [],
   "source": [
    "\n",
    "outputfile = (fpath.parent / f\"{fpath.stem}_udmorph{fpath.suffix}\")\n",
    "parser.write_df_to_conll(df, outputfile, add_comments=True)"
   ]
  },
  {
   "attachments": {},
   "cell_type": "markdown",
   "metadata": {},
   "source": [
    "---"
   ]
  },
  {
   "cell_type": "code",
   "execution_count": null,
   "metadata": {},
   "outputs": [],
   "source": [
    "# Partisjoner data i dev, train, og test-splittene som UD er delt inn i\n",
    "partitions = {\n",
    "    \"test\" :  parser.filereadlines(\"data/test_ids.txt\"),\n",
    "    \"dev\" : parser.filereadlines(\"data/dev_ids.txt\"),\n",
    "    \"train\" : parser.filereadlines(\"data/train_ids.txt\"),\n",
    "}\n",
    "\n",
    "for part, part_ids in partitions.items():\n",
    "    outputfile = (fpath.parent / f\"{fpath.stem}_{part}{fpath.suffix}\")\n",
    "    part_df = df[df.sent_id.isin(part_ids)]\n",
    "    parser.write_df_to_conll(part_df, outputfile, add_comments=True)"
   ]
  },
  {
   "cell_type": "code",
   "execution_count": null,
   "metadata": {},
   "outputs": [],
   "source": [
    "#Hent ut setningene som gir feilmelding \n",
    "\n",
    "fpath = Path(\"validation-report_ndt2ud.txt\")\n",
    "etype = \"rel-upos-punct\"\n",
    "\n",
    "rows = Path(fpath).read_text(encoding=\"utf-8\").splitlines()\n",
    "\n",
    "error_info_regx = re.compile(r\"^\\[Line (\\d+)(?: Sent )?(\\d+)?(?: Node )?(\\d+)?\\]\\: \\[(L.*)\\] (.*)(\\[[0-9]*, [0-9]*\\])?(.*)?$\", flags=re.DOTALL)\n",
    "errors = []\n",
    "for row in rows:\n",
    "    m = error_info_regx.fullmatch(row)\n",
    "    if m is not None:\n",
    "        errors.append(m.groups())\n",
    "\n",
    "df = pd.DataFrame(errors, columns=[\"line\", \"sent\",\"node\", \"errortype\", \"message\", \"relevant_nodes\", \"message2\"])\n",
    "\n",
    "errorlines = df[df.errortype.str.contains(etype)]\n",
    "\n",
    "type_counts = df.errortype.value_counts()\n",
    "print(type_counts)\n",
    "\n"
   ]
  },
  {
   "cell_type": "markdown",
   "metadata": {},
   "source": []
  },
  {
   "cell_type": "code",
   "execution_count": null,
   "metadata": {},
   "outputs": [],
   "source": [
    "ndt = Path(\"data/ndt_nb_train_udmorph.conllu\")\n",
    "\n",
    "data = parser.load_conll_to_df(parser.parse_conll_file(ndt))\n",
    "error_sents = data[data.sent_id.isin(errorlines[\"sent\"])]\n",
    "\n",
    "parser.write_df_to_conll(error_sents, f\"error_{etype}_sents.conllu\", \n",
    "                         add_comments=True)\n"
   ]
  },
  {
   "cell_type": "code",
   "execution_count": null,
   "metadata": {},
   "outputs": [],
   "source": [
    "error_sents.sent_id.nunique()"
   ]
  }
 ],
 "metadata": {
  "kernelspec": {
   "display_name": "grew_env",
   "language": "python",
   "name": "python3"
  },
  "language_info": {
   "codemirror_mode": {
    "name": "ipython",
    "version": 3
   },
   "file_extension": ".py",
   "mimetype": "text/x-python",
   "name": "python",
   "nbconvert_exporter": "python",
   "pygments_lexer": "ipython3",
   "version": "3.11.0"
  },
  "orig_nbformat": 4
 },
 "nbformat": 4,
 "nbformat_minor": 2
}
