{
 "cells": [
  {
   "cell_type": "markdown",
   "id": "2c57b50a-f832-4c8b-847d-8d6d7944648a",
   "metadata": {},
   "source": [
    "# Application of Graph Rewriting to Natural Language Processing\n",
    "\n",
    "## Kapittel 1: Programming with graphs\n",
    "\n",
    "### 1.1. creating a graph\n"
   ]
  },
  {
   "cell_type": "code",
   "execution_count": 1,
   "id": "f55817f9-482e-48e2-9d7f-80ca32ef3964",
   "metadata": {},
   "outputs": [
    {
     "name": "stderr",
     "output_type": "stream",
     "text": [
      "[nltk_data] Downloading package punkt to /home/ingeridd/nltk_data...\n",
      "[nltk_data]   Package punkt is already up-to-date!\n",
      "[nltk_data] Downloading package averaged_perceptron_tagger to\n",
      "[nltk_data]     /home/ingeridd/nltk_data...\n",
      "[nltk_data]   Package averaged_perceptron_tagger is already up-to-\n",
      "[nltk_data]       date!\n"
     ]
    },
    {
     "data": {
      "text/plain": [
       "True"
      ]
     },
     "execution_count": 1,
     "metadata": {},
     "output_type": "execute_result"
    }
   ],
   "source": [
    "import nltk\n",
    "nltk.download('punkt')\n",
    "nltk.download('averaged_perceptron_tagger')"
   ]
  },
  {
   "cell_type": "code",
   "execution_count": 2,
   "id": "28a72a78-0a03-48e4-a4c2-4a49f7cd8129",
   "metadata": {},
   "outputs": [],
   "source": [
    "g = dict()"
   ]
  },
  {
   "cell_type": "code",
   "execution_count": 3,
   "id": "a7fde794-43c6-4ec3-a5d7-301229c90595",
   "metadata": {},
   "outputs": [],
   "source": [
    "g[\"W1\"] = (\"the\", [])"
   ]
  },
  {
   "cell_type": "code",
   "execution_count": 4,
   "id": "17bf4136-25f4-4ef5-8982-4ab6707f5d3e",
   "metadata": {},
   "outputs": [],
   "source": [
    "g [ 'W2'] = ( 'child' , [ ] )\n",
    "g [ 'W3'] = ( 'plays' , [ ] )\n",
    "g [ 'W3'] [ 1 ] . append (( 'suj' , 'W2') )\n",
    "g [ 'W2'] [ 1 ] . append (( 'det' , 'W1') )"
   ]
  },
  {
   "cell_type": "code",
   "execution_count": 5,
   "id": "94a41f26-1b78-48d9-a72f-d4403647b285",
   "metadata": {},
   "outputs": [
    {
     "data": {
      "text/plain": [
       "'child'"
      ]
     },
     "execution_count": 5,
     "metadata": {},
     "output_type": "execute_result"
    }
   ],
   "source": [
    "g[\"W2\"][0]\n"
   ]
  },
  {
   "cell_type": "code",
   "execution_count": 6,
   "id": "3cbf9d23-a00c-4e98-a8d3-f8282a7c2ce4",
   "metadata": {},
   "outputs": [],
   "source": [
    "def add_node(graph, node, label): \n",
    "    graph[node] = (label, [])\n",
    "\n",
    "def add_edge(graph, node, edge, head):\n",
    "    if (edge, head) not in graph[node][1]:\n",
    "        graph[node][1].append((edge, head))"
   ]
  },
  {
   "cell_type": "code",
   "execution_count": 7,
   "id": "c7f4c00c-ff31-4d0a-bfb4-d29300ed10b6",
   "metadata": {},
   "outputs": [],
   "source": [
    "add_node(g, \"W4\", \"the\")\n",
    "add_node(g, \"W5\", \"fool\")\n",
    "add_edge(g, \"W3\", \"obj\", \"W5\")\n",
    "add_edge(g, \"W5\", \"det\", \"W4\")\n"
   ]
  },
  {
   "cell_type": "code",
   "execution_count": 8,
   "id": "b01c6517-8b4c-4734-9cee-5e3a1a1c574b",
   "metadata": {},
   "outputs": [
    {
     "data": {
      "text/plain": [
       "{'W1': ('the', []),\n",
       " 'W2': ('child', [('det', 'W1')]),\n",
       " 'W3': ('plays', [('suj', 'W2'), ('obj', 'W5')]),\n",
       " 'W4': ('the', []),\n",
       " 'W5': ('fool', [('det', 'W4')])}"
      ]
     },
     "execution_count": 8,
     "metadata": {},
     "output_type": "execute_result"
    }
   ],
   "source": [
    "g"
   ]
  },
  {
   "cell_type": "code",
   "execution_count": 9,
   "id": "53ec7125-fbde-4947-96a5-94979200ebb7",
   "metadata": {},
   "outputs": [
    {
     "data": {
      "text/plain": [
       "{'W0': ('She', [('SUC', 'W1')]),\n",
       " 'W1': ('takes', [('SUC', 'W2')]),\n",
       " 'W2': ('a', [('SUC', 'W3')]),\n",
       " 'W3': ('glass', [])}"
      ]
     },
     "execution_count": 9,
     "metadata": {},
     "output_type": "execute_result"
    }
   ],
   "source": [
    "def construct_flat_graph(sentence):\n",
    "    word_list = nltk.word_tokenize(sentence)\n",
    "    word_graph = dict()\n",
    "    for i in range(len(word_list)):\n",
    "        add_node(word_graph, f'W{i}', word_list[i]) \n",
    "    for i in range(len(word_list) - 1): \n",
    "        add_edge(word_graph, f'W{i}', 'SUC', f'W{i+1}')\n",
    "    return word_graph\n",
    "\n",
    "word_graph = construct_flat_graph(\"She takes a glass\")\n",
    "word_graph"
   ]
  },
  {
   "cell_type": "markdown",
   "id": "3614ece4-53f8-4d94-a1b4-d849781086c0",
   "metadata": {},
   "source": [
    "### Excerise 1.1\n",
    "Finish constructing the following ﬂat graph so that there is a\n",
    "'SUC*' edge between each word and one of its distant successors. "
   ]
  },
  {
   "cell_type": "code",
   "execution_count": 10,
   "id": "515304a9-99c4-4007-9196-91b7e1a6e25d",
   "metadata": {},
   "outputs": [
    {
     "data": {
      "text/plain": [
       "{'W0': ('She', [('SUC', 'W1'), ('SUC*', 'W2'), ('SUC*', 'W3')]),\n",
       " 'W1': ('takes', [('SUC', 'W2'), ('SUC*', 'W3')]),\n",
       " 'W2': ('a', [('SUC', 'W3')]),\n",
       " 'W3': ('glass', [])}"
      ]
     },
     "execution_count": 10,
     "metadata": {},
     "output_type": "execute_result"
    }
   ],
   "source": [
    "for i in range(len(word_graph)-1): \n",
    "    for j in range(i+2, len(word_graph)): \n",
    "        add_edge(word_graph, f\"W{i}\", 'SUC*',  f\"W{j}\")\n",
    "word_graph"
   ]
  },
  {
   "cell_type": "markdown",
   "id": "8b25545e-3d45-41ab-892a-c17f0d39741d",
   "metadata": {},
   "source": [
    "\n",
    "### EXERCISE 1.2.\n",
    "Write a function to compute a graph in which all of the edges\n",
    "have been reversed. "
   ]
  },
  {
   "cell_type": "code",
   "execution_count": 11,
   "id": "ecde98cf-7ad4-4451-90f4-1275f8460c01",
   "metadata": {},
   "outputs": [
    {
     "data": {
      "text/plain": [
       "{'W1': ('the', [('det', 'W2')]),\n",
       " 'W2': ('child', [('suj', 'W3')]),\n",
       " 'W3': ('plays', []),\n",
       " 'W4': ('the', [('det', 'W5')]),\n",
       " 'W5': ('fool', [('obj', 'W3')])}"
      ]
     },
     "execution_count": 11,
     "metadata": {},
     "output_type": "execute_result"
    }
   ],
   "source": [
    "def reverse_edges(graph):\n",
    "    rev_g = dict()\n",
    "    [add_node(rev_g,node,labels[0]) for node, labels in graph.items()]\n",
    "\n",
    "    for node, (label, edges) in graph.items(): \n",
    "        if not edges:\n",
    "            continue\n",
    "        for pos, head in edges:\n",
    "            add_edge(rev_g, head, pos, node)\n",
    "    return rev_g\n",
    "    \n",
    "rev_g = reverse_edges(g)\n",
    "rev_g"
   ]
  },
  {
   "cell_type": "code",
   "execution_count": 12,
   "id": "9e607543-524d-47ee-86aa-973790ecb50d",
   "metadata": {},
   "outputs": [
    {
     "data": {
      "text/plain": [
       "{'W1': ('the', []),\n",
       " 'W2': ('child', [('det', 'W1')]),\n",
       " 'W3': ('plays', [('suj', 'W2'), ('obj', 'W5')]),\n",
       " 'W4': ('the', []),\n",
       " 'W5': ('fool', [('det', 'W4')])}"
      ]
     },
     "execution_count": 12,
     "metadata": {},
     "output_type": "execute_result"
    }
   ],
   "source": [
    "g"
   ]
  },
  {
   "cell_type": "markdown",
   "id": "3b7644e4-1c10-4ae1-8fd2-e25a1e4f1ae0",
   "metadata": {},
   "source": [
    "## 1.2 Feature structures"
   ]
  },
  {
   "cell_type": "code",
   "execution_count": 13,
   "id": "dbb8a2a6-77cd-41e2-8043-16f84bcced04",
   "metadata": {},
   "outputs": [],
   "source": [
    "features_plays = {'phon': 'plays','cat':'V'}"
   ]
  },
  {
   "cell_type": "code",
   "execution_count": 14,
   "id": "e9b95642-4944-4f20-89e9-32124ebbfa10",
   "metadata": {},
   "outputs": [
    {
     "data": {
      "text/plain": [
       "'V'"
      ]
     },
     "execution_count": 14,
     "metadata": {},
     "output_type": "execute_result"
    }
   ],
   "source": [
    "features_plays['cat']\n"
   ]
  },
  {
   "cell_type": "code",
   "execution_count": 15,
   "id": "5c99b4b0-4558-41d2-a7bc-4ba35a44f574",
   "metadata": {},
   "outputs": [],
   "source": [
    "g = dict()\n",
    "\n",
    "add_node(g, 'W1', {'phon':'the','cat':'DET'})\n",
    "add_node(g, 'W2', {'phon':'child','cat':'N'})\n",
    "add_node(g, 'W3', {'phon':'plays','cat':'V'})\n",
    "add_node(g, 'W4', {'phon':'the','cat':'DET'})\n",
    "add_node(g, 'W5', {'phon':'fool','cat':'N'})\n",
    "add_edge(g, 'W2', 'det', 'W1')\n",
    "add_edge(g, 'W3', 'suj', 'W2')\n",
    "add_edge(g, 'W3', 'obj', 'W5')\n",
    "add_edge(g, 'W4', 'det', 'W4')"
   ]
  },
  {
   "cell_type": "code",
   "execution_count": 16,
   "id": "61e04097-620b-4059-8f33-5beac469fbfd",
   "metadata": {},
   "outputs": [
    {
     "data": {
      "text/plain": [
       "{'W1': ({'phon': 'the', 'cat': 'DET'}, []),\n",
       " 'W2': ({'phon': 'child', 'cat': 'N'}, [('det', 'W1')]),\n",
       " 'W3': ({'phon': 'plays', 'cat': 'V'}, [('suj', 'W2'), ('obj', 'W5')]),\n",
       " 'W4': ({'phon': 'the', 'cat': 'DET'}, [('det', 'W4')]),\n",
       " 'W5': ({'phon': 'fool', 'cat': 'N'}, [])}"
      ]
     },
     "execution_count": 16,
     "metadata": {},
     "output_type": "execute_result"
    }
   ],
   "source": [
    "g\n"
   ]
  },
  {
   "cell_type": "code",
   "execution_count": 17,
   "id": "ba630b59-7cb8-45b6-84e2-4e81ce556b95",
   "metadata": {},
   "outputs": [
    {
     "data": {
      "text/plain": [
       "{'W0': ({'phon': 'She', 'cat': 'PRP'}, [('SUC', 'W1')]),\n",
       " 'W1': ({'phon': 'takes', 'cat': 'VBZ'}, [('SUC', 'W2')]),\n",
       " 'W2': ({'phon': 'a', 'cat': 'DT'}, [('SUC', 'W3')]),\n",
       " 'W3': ({'phon': 'glass', 'cat': 'NN'}, [])}"
      ]
     },
     "execution_count": 17,
     "metadata": {},
     "output_type": "execute_result"
    }
   ],
   "source": [
    "def construct_rich_graph(sentence):\n",
    "    word_list = nltk.word_tokenize(sentence)\n",
    "    tag_list = nltk.pos_tag(word_list)\n",
    "    feat_list = [{'phon': n[0], 'cat':n[1]} for n in tag_list]\n",
    "    t_graph = {f'W{i}': (feat_list[i], []) for i in range(len(tag_list))}\n",
    "    \n",
    "    for i in range( len(word_list) - 1): \n",
    "        add_edge(t_graph, f'W{i}', 'SUC', f'W{i+1}')\n",
    "    return t_graph\n",
    "\n",
    "t_graph = construct_rich_graph(\"She takes a glass\")\n",
    "t_graph"
   ]
  },
  {
   "cell_type": "markdown",
   "id": "5c6cbaae-16b1-470a-b1ae-77f9fe5cca4f",
   "metadata": {},
   "source": [
    "### 1.3. Information searches"
   ]
  },
  {
   "cell_type": "code",
   "execution_count": 18,
   "id": "fdeb1fc1-5c7d-4a6b-b1ac-3877078c0adf",
   "metadata": {},
   "outputs": [
    {
     "data": {
      "text/plain": [
       "{'phon': 'the', 'cat': 'DET'}"
      ]
     },
     "execution_count": 18,
     "metadata": {},
     "output_type": "execute_result"
    }
   ],
   "source": [
    "g['W4'][0]"
   ]
  },
  {
   "cell_type": "code",
   "execution_count": 19,
   "id": "e51b472f-d32f-4074-914a-1a53e846fe17",
   "metadata": {},
   "outputs": [],
   "source": [
    "def get_label(graph, node): \n",
    "    return graph[node][0]"
   ]
  },
  {
   "cell_type": "code",
   "execution_count": 20,
   "id": "467a3e4a-bbfd-474a-95ba-727e0ef250ee",
   "metadata": {},
   "outputs": [],
   "source": [
    "def get_sucs(graph, node):\n",
    "    return graph[node][1]"
   ]
  },
  {
   "cell_type": "markdown",
   "id": "046f28ca-b154-4f4a-803b-95cd3f5811ae",
   "metadata": {},
   "source": [
    "#### 1.3.1. Access to nodes"
   ]
  },
  {
   "cell_type": "code",
   "execution_count": 21,
   "id": "fd943a44-7e20-4546-9425-36297d3bedd0",
   "metadata": {},
   "outputs": [],
   "source": [
    "nodes = g.keys()"
   ]
  },
  {
   "cell_type": "code",
   "execution_count": 22,
   "id": "46f27f86-a12b-4cf0-8126-7db8b959a031",
   "metadata": {},
   "outputs": [],
   "source": [
    "verbs = [node for node in nodes if get_label(g, node)['cat'] == \"V\"]\n"
   ]
  },
  {
   "cell_type": "markdown",
   "id": "dec905c2-d711-4b62-9512-6632bfad3a87",
   "metadata": {},
   "source": [
    "### EXERCISE 1.3\n",
    "Find the list of node identiﬁers corresponding to the word\n",
    "\"the\" in the graph of \"the child plays the fool\"."
   ]
  },
  {
   "cell_type": "code",
   "execution_count": 23,
   "id": "2c49d605-d83f-44cf-ac7a-b1e0122d41ca",
   "metadata": {},
   "outputs": [
    {
     "data": {
      "text/plain": [
       "['W0', 'W3']"
      ]
     },
     "execution_count": 23,
     "metadata": {},
     "output_type": "execute_result"
    }
   ],
   "source": [
    "p = construct_rich_graph(\"the child plays the fool\")\n",
    "\n",
    "the = [node for node in p if get_label(p, node)['phon'] == \"the\"]\n",
    "\n",
    "the"
   ]
  },
  {
   "cell_type": "markdown",
   "id": "637ca04a-6a87-4fc6-947b-22a290141eca",
   "metadata": {},
   "source": [
    "### EXERCISE 1.4. \n",
    "How can we ﬁnd out if the same word occurs twice in a\n",
    "graph?"
   ]
  },
  {
   "cell_type": "code",
   "execution_count": 24,
   "id": "c9249c9c-45b9-4a6b-ad59-7f44871a9c73",
   "metadata": {},
   "outputs": [
    {
     "data": {
      "text/plain": [
       "['the']"
      ]
     },
     "execution_count": 24,
     "metadata": {},
     "output_type": "execute_result"
    }
   ],
   "source": [
    "from collections import Counter\n",
    "\n",
    "word_freq = Counter([get_label(p, node)['phon'] for node in p])\n",
    "\n",
    "[c for c in word_freq if word_freq[c] ==2]"
   ]
  },
  {
   "cell_type": "markdown",
   "id": "bed56e3a-b2ce-4678-a331-44ac28353f76",
   "metadata": {},
   "source": [
    "#### 1.3.1. Extracting edges"
   ]
  },
  {
   "cell_type": "code",
   "execution_count": 25,
   "id": "8dbb8161-b955-4b80-83c7-e0291c04e0db",
   "metadata": {},
   "outputs": [],
   "source": [
    "def make_triplets(g): \n",
    "    return [(s,e,t) for s in g for (e,t) in get_sucs(g,s)]"
   ]
  },
  {
   "cell_type": "code",
   "execution_count": 28,
   "id": "0f2a75e8-2d2f-40b5-9e72-bd806645db25",
   "metadata": {},
   "outputs": [
    {
     "data": {
      "text/plain": [
       "[('W2', 'det', 'W1'),\n",
       " ('W3', 'suj', 'W2'),\n",
       " ('W3', 'obj', 'W5'),\n",
       " ('W4', 'det', 'W4')]"
      ]
     },
     "execution_count": 28,
     "metadata": {},
     "output_type": "execute_result"
    }
   ],
   "source": [
    "triplets = make_triplets(g)\n",
    "triplets\n"
   ]
  },
  {
   "cell_type": "code",
   "execution_count": null,
   "id": "03c7f338-579d-4c4c-a376-73eebb4a110d",
   "metadata": {},
   "outputs": [],
   "source": [
    "subject_verbs = [ (s , v ) for (v , e , s ) in triplets if e == 'suj']"
   ]
  },
  {
   "cell_type": "code",
   "execution_count": null,
   "id": "e73c1744-a101-46ca-902f-09d5da819dbd",
   "metadata": {},
   "outputs": [],
   "source": [
    "def are_related(g,u,v):\n",
    "    triplets = make_triplets(g)\n",
    "    for (s,e,t) in triplets:\n",
    "        print((s,t), (u,v))\n",
    "        if (s, t) == (u, v): \n",
    "            return True\n",
    "    return False\n"
   ]
  },
  {
   "cell_type": "code",
   "execution_count": 27,
   "id": "986c88a8-b7d5-4534-9dad-83d020db7629",
   "metadata": {},
   "outputs": [],
   "source": [
    "def is_root(g , u ):\n",
    "    triplets = make_triplets(g)\n",
    "\n",
    "    for (s , e , t ) in triplets:\n",
    "        if t == u:\n",
    "            return False\n",
    "    return True"
   ]
  },
  {
   "cell_type": "markdown",
   "id": "66d3e448-d62d-469b-9fa3-ee2619bf9fc8",
   "metadata": {},
   "source": [
    "### EXERCISE 1.5.\n",
    "Rewrite the functions are_related and is_root without\n",
    "using triplets."
   ]
  },
  {
   "cell_type": "code",
   "execution_count": 75,
   "id": "c76e5dfe-626c-4987-ae04-09a3bf5d2200",
   "metadata": {},
   "outputs": [],
   "source": [
    "def are_related(graph,u,v):\n",
    "    for node in graph: \n",
    "        sucs = get_sucs(graph, node)\n",
    "        for suc in sucs: \n",
    "            if (node ==u and suc[1] == v) or (node == v and suc[1] == u): \n",
    "                return True\n",
    "    return False \n"
   ]
  },
  {
   "cell_type": "code",
   "execution_count": 76,
   "id": "61232e1e-8143-4440-ac8e-dd03c96e38b2",
   "metadata": {},
   "outputs": [],
   "source": [
    "def is_root(graph , u ):\n",
    "    for node in graph: \n",
    "        sucs = get_sucs(graph, node)\n",
    "        for suc in sucs: \n",
    "            if suc[1] == u: \n",
    "                return False\n",
    "    return True\n"
   ]
  },
  {
   "cell_type": "code",
   "execution_count": 77,
   "id": "068d2ac8-3712-444e-bcb0-a3b4285eebc6",
   "metadata": {},
   "outputs": [
    {
     "name": "stdout",
     "output_type": "stream",
     "text": [
      "False\n",
      "False\n",
      "True\n",
      "False\n",
      "False\n"
     ]
    }
   ],
   "source": [
    "u = \"W3\"\n",
    "v= \"W2\"\n",
    "are_related(g, u, v)\n",
    "for node in g: \n",
    "    print(is_root(g, node))"
   ]
  },
  {
   "cell_type": "markdown",
   "id": "46e887ed-5141-443e-ac79-03d9320c8d88",
   "metadata": {},
   "source": [
    "### EXERCISE 1.6.\n",
    "A node is known as a leaf if it has no children. Write a\n",
    "function to ﬁnd out whether a node in a graph is a leaf. Deﬁne a function with\n",
    "the proﬁle: def is_leaf(g, u)."
   ]
  },
  {
   "cell_type": "code",
   "execution_count": 78,
   "id": "bea0d461-c34a-41ea-b0ee-980d43acbcc9",
   "metadata": {},
   "outputs": [],
   "source": [
    "def is_leaf(g, u): \n",
    "    sucs = get_sucs(g, u) \n",
    "    print(u, sucs)\n",
    "    if not sucs: \n",
    "        return True\n",
    "    return False"
   ]
  },
  {
   "cell_type": "code",
   "execution_count": 79,
   "id": "15225805-6a23-47fe-b1be-ca00f617f0c2",
   "metadata": {},
   "outputs": [
    {
     "name": "stdout",
     "output_type": "stream",
     "text": [
      "W1 []\n",
      "True\n",
      "W2 [('det', 'W1')]\n",
      "False\n",
      "W3 [('suj', 'W2'), ('obj', 'W5')]\n",
      "False\n",
      "W4 [('det', 'W4')]\n",
      "False\n",
      "W5 []\n",
      "True\n"
     ]
    }
   ],
   "source": [
    "for i in range(1, 6): \n",
    "    print(is_leaf(g, f\"W{i}\"))"
   ]
  },
  {
   "cell_type": "markdown",
   "id": "b115e3f9-ca27-4cba-bf79-7158512d2b80",
   "metadata": {},
   "source": [
    "### EXERCISE 1.7.\n",
    "\n",
    "Write a function to select node triplets (s, v, o)\n",
    "corresponding to the subject-verb-object conﬁguration:"
   ]
  },
  {
   "cell_type": "code",
   "execution_count": 80,
   "id": "e244ab8f-3244-4e2d-b7c7-d2d2e2e76015",
   "metadata": {},
   "outputs": [],
   "source": [
    "\n",
    "def get_svo(g):\n",
    "    for node, labels in g.items():\n",
    "        if is_verb(g, node) and is_root(g, node): \n",
    "            suj, obj = get_subj_obj(g, node)\n",
    "            return suj, node, obj\n",
    "            \n",
    "def get_subj_obj(g, v): \n",
    "    s, o = \"\", \"\"\n",
    "    for (e, t) in get_sucs(g, v): \n",
    "        if e == \"suj\": \n",
    "            s = t\n",
    "        if e == \"obj\": \n",
    "            o = t\n",
    "    return s, o\n",
    "    \n",
    "def is_verb(g, u): \n",
    "    return True if g[u][0]['cat'] == 'V' else False"
   ]
  },
  {
   "cell_type": "code",
   "execution_count": 82,
   "id": "79813ef9-c8ed-4b7f-84ba-203d4a23eb4e",
   "metadata": {},
   "outputs": [
    {
     "data": {
      "text/plain": [
       "('W2', 'W3', 'W5')"
      ]
     },
     "execution_count": 82,
     "metadata": {},
     "output_type": "execute_result"
    }
   ],
   "source": [
    "get_svo(g)"
   ]
  },
  {
   "cell_type": "markdown",
   "id": "784ba281-e662-4707-bc5d-cbfce8741f78",
   "metadata": {},
   "source": [
    "### EXERCISE 1.8.\n",
    "A graph is said to be linear if it has a root node that only has\n",
    "one child, which only has one child, and so on up to a leaf node. An example\n",
    "can be found in exercise 1.1. Write a function to show if a graph is linear."
   ]
  },
  {
   "cell_type": "code",
   "execution_count": 60,
   "id": "1a6b9bd8-df4e-42b1-8557-bb7f802a1fdc",
   "metadata": {},
   "outputs": [],
   "source": [
    "def get_root(g): \n",
    "    for node in g: \n",
    "        if is_root(g, node): \n",
    "            return node\n",
    "\n",
    "        \n",
    "def traverse(g, node):\n",
    "    children = get_sucs(g, node)\n",
    "    if len(children) == 1: \n",
    "        child = children[0][1]\n",
    "        if is_leaf(g, child): \n",
    "            return True\n",
    "        else: \n",
    "            return traverse(g, child)\n",
    "    return False\n",
    "\n",
    "\n",
    "def is_linear(g): \n",
    "    root = get_root(g)\n",
    "    return traverse(g, root)\n",
    "    "
   ]
  },
  {
   "cell_type": "code",
   "execution_count": 62,
   "id": "b93d2a24-f706-47a8-91a2-4431b22bcc5a",
   "metadata": {},
   "outputs": [],
   "source": [
    "linear_graph = construct_flat_graph(\"She takes a glass\")"
   ]
  },
  {
   "cell_type": "code",
   "execution_count": 63,
   "id": "fd3ce722-ffb2-4182-a085-e62615ca125c",
   "metadata": {},
   "outputs": [
    {
     "name": "stdout",
     "output_type": "stream",
     "text": [
      "W1 [('SUC', 'W2')]\n",
      "W2 [('SUC', 'W3')]\n",
      "W3 []\n"
     ]
    },
    {
     "data": {
      "text/plain": [
       "True"
      ]
     },
     "execution_count": 63,
     "metadata": {},
     "output_type": "execute_result"
    }
   ],
   "source": [
    "is_linear(linear_graph)\n"
   ]
  },
  {
   "cell_type": "markdown",
   "id": "1f31487e-bd47-4fd2-9707-f36d55954ed7",
   "metadata": {},
   "source": [
    "### 1.4 Recreating an order\n"
   ]
  },
  {
   "cell_type": "code",
   "execution_count": 67,
   "id": "fc1a06f3-485d-4bed-84b2-18bf6aa8eae5",
   "metadata": {},
   "outputs": [
    {
     "data": {
      "text/plain": [
       "'the child plays the fool'"
      ]
     },
     "execution_count": 67,
     "metadata": {},
     "output_type": "execute_result"
    }
   ],
   "source": [
    "def get_phonology(g):\n",
    "    def get_idx ( node ) : # gets the float after 'W ' in node if any\n",
    "        import re # for regular expressions\n",
    "        word_id = re.search( r'W(\\d+(\\.\\d+)?)', node )\n",
    "        return word_id.group(1) if word_id else None\n",
    "    words = { get_idx(node): get_label(g , node )[ 'phon']\n",
    "             for node in g if get_idx ( node ) }\n",
    "    return ' '.join([ words [ idx ] for idx in sorted ( words ) ])\n",
    "\n",
    "get_phonology ( g )"
   ]
  },
  {
   "cell_type": "markdown",
   "id": "b264d883-3dff-4b8b-af0f-5d7b58f185e6",
   "metadata": {},
   "source": [
    "### EXERCISE 1.9.\n",
    "\n",
    "Write a function to ﬁnd subject/verb patterns as described\n",
    "above, but which only retains cases in which the subject occurs before the\n",
    "verb. For this exercise, we presume that word identiﬁers are arranged in a\n",
    "way that is compatible with the order of the words themselves (alphabetical\n",
    "order). The exercise may also be carried out without this presumption,\n",
    "supposing each node to be connected to its successor by a 'SUC' connection."
   ]
  },
  {
   "cell_type": "code",
   "execution_count": 90,
   "id": "c7d352cf-2ce9-48ba-924d-d03150b5d751",
   "metadata": {},
   "outputs": [],
   "source": [
    "def get_idx ( node ) : # gets the float after 'W ' in node if any\n",
    "    import re # for regular expressions\n",
    "    word_id = re.search( r'W(\\d+(\\.\\d+)?)', node )\n",
    "    return word_id.group(1) if word_id else None\n",
    "\n",
    "def are_ordered(g, first, second): \n",
    "    try: \n",
    "        return True if get_idx(first) < get_idx(second) else False \n",
    "    except NoneType: \n",
    "        if ('SUC', second) in get_sucs(g, first): \n",
    "            return True\n",
    "        return False\n",
    "    \n",
    "def get_suj_verb_order(g): \n",
    "    triplets = make_triplets(g) \n",
    "    \n",
    "    for (s,e,t) in triplets: \n",
    "        if is_verb(g, s) and e == \"suj\" and are_ordered(g, t,s):\n",
    "            return (t,s)"
   ]
  },
  {
   "cell_type": "code",
   "execution_count": 91,
   "id": "23256dac-b2c1-41b5-873b-d206961e32ee",
   "metadata": {},
   "outputs": [
    {
     "data": {
      "text/plain": [
       "('W2', 'W3')"
      ]
     },
     "execution_count": 91,
     "metadata": {},
     "output_type": "execute_result"
    }
   ],
   "source": [
    "get_suj_verb_order(g)"
   ]
  },
  {
   "cell_type": "markdown",
   "id": "edf7780a-0443-49bc-93a3-c8b245f72429",
   "metadata": {},
   "source": [
    "### 1.5. Using patterns with the GREW library"
   ]
  },
  {
   "cell_type": "code",
   "execution_count": 3,
   "id": "d5213b24-a737-49c2-af9e-7dfd2a50c9e4",
   "metadata": {},
   "outputs": [
    {
     "name": "stdout",
     "output_type": "stream",
     "text": [
      "[Grewpy] Port 8888 already used, failed to open socket\n",
      "[Grewpy] Port 8889 already used, failed to open socket\n",
      "connected to port: 8890\n"
     ]
    },
    {
     "data": {
      "text/plain": [
       "<Popen: returncode: None args: ['grewpy', '--caller', '11352', '--port', '88...>"
      ]
     },
     "execution_count": 3,
     "metadata": {},
     "output_type": "execute_result"
    }
   ],
   "source": [
    "import grew\n",
    "grew.init()\n"
   ]
  },
  {
   "cell_type": "code",
   "execution_count": 4,
   "id": "98019690-f802-41f2-9a68-dcdabde4701d",
   "metadata": {},
   "outputs": [],
   "source": [
    "g = grew.graph('''graph {\n",
    "  W1 [phon=\"the\", cat=DET];\n",
    "  W2 [phon=\"child\", cat=N];\n",
    "  W3 [phon=\"plays\", cat=V];\n",
    "  W4 [phon=\"the\", cat=DET];\n",
    "  W5 [phon=\"fool\", cat=N];\n",
    "  W2 -[det]->W1;\n",
    "  W3 -[suj]->W2;\n",
    "  W3 -[obj]->W5;\n",
    "  W5 -[det]->W4;\n",
    "}''')"
   ]
  },
  {
   "cell_type": "code",
   "execution_count": 30,
   "id": "69db6a64-8522-4c60-9877-5ec56c9704d1",
   "metadata": {},
   "outputs": [
    {
     "data": {
      "text/plain": [
       "[{'nodes': {'N': 'W3', 'M': 'W5', 'D': 'W4'}, 'edges': {}},\n",
       " {'nodes': {'N': 'W3', 'M': 'W2', 'D': 'W1'}, 'edges': {}}]"
      ]
     },
     "execution_count": 30,
     "metadata": {},
     "output_type": "execute_result"
    }
   ],
   "source": [
    "grew.search(\n",
    "\"\"\"\n",
    "pattern {\n",
    "    N [cat=V ]; M[cat=N]; M -[det]-> D;\n",
    "} commands {\n",
    "    \n",
    "}\n",
    "\"\"\",g\n",
    ")"
   ]
  },
  {
   "cell_type": "code",
   "execution_count": 5,
   "id": "d9ec7afe-3ce6-4e33-96c9-348c257234bc",
   "metadata": {},
   "outputs": [
    {
     "data": {
      "text/plain": [
       "[{'nodes': {'X': 'W3'}, 'edges': {}}]"
      ]
     },
     "execution_count": 5,
     "metadata": {},
     "output_type": "execute_result"
    }
   ],
   "source": [
    "grew.search(\"pattern { X [cat=V] }\", g )"
   ]
  },
  {
   "cell_type": "markdown",
   "id": "228f630d-fce1-4d57-82cf-79363d1bd751",
   "metadata": {},
   "source": [
    "####  1.5.1 pattern syntax\n",
    "\n",
    "```python\n",
    "pattern {\n",
    "C_1; ... ; C_k;\n",
    "}\n",
    "without {\n",
    "C'_1; ... ; C'_m\n",
    "}\n",
    "```\n",
    "\n",
    "C_x are clauses. There are three types of\n",
    "clauses: node declarations, edge declarations and additional pattern\n",
    "constraints.\n",
    "\n",
    "Node declaration: \n",
    "```\n",
    "N [cat=V, m=ind|subj, t<>fut, n=*, !p, lemma=\"être\"];\n",
    "``` \n",
    "\n",
    "Edge syntax: \n",
    "```\n",
    "N -> M;\n",
    "N -[suj]-> M;\n",
    "N -[suj|obj]-> M;\n",
    "N -[^suj|obj]-> M;\n",
    "N -[re\"aux.*\"]-> M;\n",
    "```\n",
    "\n",
    "Syntax of regex: https://ocaml.org/api/Str.html"
   ]
  },
  {
   "cell_type": "markdown",
   "id": "8575b1fe-99b2-4c82-b7a5-40c301ad5414",
   "metadata": {},
   "source": [
    "### 1.6 Graph rewriting"
   ]
  },
  {
   "cell_type": "code",
   "execution_count": 32,
   "id": "9e62968e-e3be-41c1-9eb6-f782747e1b09",
   "metadata": {},
   "outputs": [],
   "source": [
    "r = \"\"\"rule passiveAgt {\n",
    "  pattern {\n",
    "    V [cat=V, m=pastp];\n",
    "    V -[aux.pass]-> AUX;\n",
    "    e: V -[suj]-> SUJ;\n",
    "    P [phon=par]; V -[p_obj.agt]-> P;\n",
    "    P -[obj.p]-> A;\n",
    "} commands {\n",
    "    del_node P;\n",
    "    del_node AUX;\n",
    "    add_edge V -[suj]-> A;\n",
    "    add_edge V -[obj]-> SUJ;\n",
    "    del_edge e;\n",
    "} }\"\"\""
   ]
  },
  {
   "cell_type": "code",
   "execution_count": 33,
   "id": "54e57fec-cf12-41b2-b95e-b209a8364236",
   "metadata": {},
   "outputs": [],
   "source": [
    "g = grew.graph('''graph{\n",
    "  W1 [phon=\"John\",cat=NP];\n",
    "  W2 [phon=\"est\",cat=V ];\n",
    "  W3 [phon=\"mordu\", cat=V, m=pastp];\n",
    "  W4 [phon=\"par\",cat=P ];\n",
    "  W5 [phon=\"le\", cat=D];\n",
    "  W6 [word=\"chien\",cat=NP];\n",
    "\n",
    "  W3 -[suj]-> W1;\n",
    "  W3 -[aux.pass]-> W2;\n",
    "  W3 -[p_obj.agt]-> W4;\n",
    "  W6 -[det]-> W5;\n",
    "  W4 -[obj.p]-> W6;\n",
    "}''')"
   ]
  },
  {
   "cell_type": "code",
   "execution_count": 34,
   "id": "10de7cd3-354c-4bf0-b1fa-e0e55f1c83e2",
   "metadata": {},
   "outputs": [
    {
     "data": {
      "text/plain": [
       "[{'W6': [{'cat': 'NP', 'word': 'chien'}, [['det', 'W5']]],\n",
       "  'W5': [{'cat': 'D', 'phon': 'le'}, []],\n",
       "  'W3': [{'cat': 'V', 'm': 'pastp', 'phon': 'mordu'},\n",
       "   [['suj', 'W6'], ['obj', 'W1']]],\n",
       "  'W1': [{'cat': 'NP', 'phon': 'John'}, []]}]"
      ]
     },
     "execution_count": 34,
     "metadata": {},
     "output_type": "execute_result"
    }
   ],
   "source": [
    "grew.run(r, g, 'passiveAgt')"
   ]
  },
  {
   "cell_type": "code",
   "execution_count": 51,
   "id": "3abde3f0-3979-4618-acad-6bcdb4cafdd4",
   "metadata": {},
   "outputs": [
    {
     "data": {
      "text/plain": [
       "[]"
      ]
     },
     "execution_count": 51,
     "metadata": {},
     "output_type": "execute_result"
    }
   ],
   "source": [
    "rule = \"\"\"\n",
    "rule du2dele {\n",
    "  pattern {\n",
    "    A [cat=\"P+D\", phon=\"du\"]; \n",
    "    N [cat=N];\n",
    "    A -[obj.p]-> N;\n",
    "    }\n",
    "  commands {\n",
    "    add_node D:> A; D.cat=D ; D.phon=\"le\" ;\n",
    "    A.cat=P; A.phon=\"de\";\n",
    "    add_edge N -[det]-> D;\n",
    "  }\n",
    "}\n",
    "\"\"\"\n",
    "grew.run(rule, g, 'du2dele') "
   ]
  },
  {
   "cell_type": "markdown",
   "id": "e72cee70-47df-47b7-bc9e-07b7fc7cbd99",
   "metadata": {},
   "source": [
    "### 1.6.1. Commands\n",
    "* feature modification (reassignment, using `=`)\n",
    "* Node deletion (`del_node`) \n",
    "* Node creation ( `add_node` + `:<` or `:>` operators to specify order of new nodes in relation to existing nodes) \n",
    "* Edge deletion (`del_edge` + `Node1-[edge_label]->Node2`)\n",
    "* Edge creation (`add_edge`)\n",
    "* Edge shifting\n",
    "    - `shift_in`:Redirect edges that arrive in one node to arrive in another node, \n",
    "    - `shift_out`:Redirect eges leaving one node to leave from another node, \n",
    "    - `shift` + `Node1 ==> Node2`: modify all edges leaving or entering Node1, shift them onto Node2. \n"
   ]
  },
  {
   "cell_type": "markdown",
   "id": "b4a48344-c784-4a73-a222-6c869b32a788",
   "metadata": {},
   "source": [
    "### 1.6.2 Strategies\n",
    "A way to specify the order in which rules are applied"
   ]
  },
  {
   "cell_type": "code",
   "execution_count": 59,
   "id": "0223233c-a21a-4607-98c9-1623a739c851",
   "metadata": {},
   "outputs": [],
   "source": [
    "sentence1_1 = \"La porte du jardin du voisin\"\n",
    "\n",
    "sent_1_1 = grew.graph('''graph{\n",
    "  W1 [phon=La, cat=D];\n",
    "  W2 [phon=porte, cat=N];\n",
    "  W3 [phon=du, cat=\"P+D\"];\n",
    "  W4 [phon=jardin, cat=N];\n",
    "  W5 [phon=du, cat=\"P+D\"];\n",
    "  W6 [phon=voisin, cat=N];\n",
    "  W2 -[det]-> W1;\n",
    "  W2 -[dep]-> W3;\n",
    "  W3 -[obj.p]-> W4;\n",
    "  W4 -[dep]-> W5;\n",
    "  W5 -[obj.p]-> W6;\n",
    "}''')\n",
    "\n",
    "sentence1_2 = \"Le chien du voisin est pris par John\"\n",
    "\n",
    "sent_1_2 = grew.graph('''graph{\n",
    "  W1 [phon=Le, cat=D];\n",
    "  W2 [phon=chien, cat=N];\n",
    "  W3 [phon=du, cat=\"P+D\"];\n",
    "  W4 [phon=voisin, cat=N];\n",
    "  W5 [phon=est, cat=V];\n",
    "  W6 [phon=pris, cat=V, m=pastp];\n",
    "  W7 [phon=par, cat=P];\n",
    "  W8 [phon=John, cat=N];\n",
    "  W2 -[det]-> W1;\n",
    "  W2 -[dep]-> W3;\n",
    "  W3 -[obj.p]-> W4;\n",
    "  W6 -[suj]-> W2;\n",
    "  W6 -[aux.pass]-> W5;\n",
    "  W6 -[p_obj.agt]-> W7;\n",
    "  W7 -[obj.p]-> W8;\n",
    "}''')"
   ]
  },
  {
   "cell_type": "code",
   "execution_count": 57,
   "id": "7452026c-5f73-4146-8c9e-91b36809cd9e",
   "metadata": {},
   "outputs": [
    {
     "name": "stdout",
     "output_type": "stream",
     "text": [
      "9\n"
     ]
    }
   ],
   "source": [
    "rs =grew.grs(\"\"\"\n",
    "\n",
    "\"\"\".join([r, rule, \"strat S1 { du2dele }\"])\n",
    ")\n",
    "\n",
    "print(rs)\n"
   ]
  },
  {
   "cell_type": "code",
   "execution_count": 64,
   "id": "72d020f4-8987-474c-b805-92f3967ae912",
   "metadata": {},
   "outputs": [
    {
     "data": {
      "text/plain": [
       "[{'_6_': [{'cat': 'D', 'phon': 'le'}, []],\n",
       "  'W6': [{'cat': 'N', 'phon': 'voisin'}, []],\n",
       "  'W5': [{'cat': 'P+D', 'phon': 'du'}, [['obj.p', 'W6']]],\n",
       "  'W4': [{'cat': 'N', 'phon': 'jardin'}, [['det', '_6_'], ['dep', 'W5']]],\n",
       "  'W3': [{'cat': 'P', 'phon': 'de'}, [['obj.p', 'W4']]],\n",
       "  'W2': [{'cat': 'N', 'phon': 'porte'}, [['dep', 'W3'], ['det', 'W1']]],\n",
       "  'W1': [{'cat': 'D', 'phon': 'La'}, []]},\n",
       " {'_6_': [{'cat': 'D', 'phon': 'le'}, []],\n",
       "  'W6': [{'cat': 'N', 'phon': 'voisin'}, [['det', '_6_']]],\n",
       "  'W5': [{'cat': 'P', 'phon': 'de'}, [['obj.p', 'W6']]],\n",
       "  'W4': [{'cat': 'N', 'phon': 'jardin'}, [['dep', 'W5']]],\n",
       "  'W3': [{'cat': 'P+D', 'phon': 'du'}, [['obj.p', 'W4']]],\n",
       "  'W2': [{'cat': 'N', 'phon': 'porte'}, [['dep', 'W3'], ['det', 'W1']]],\n",
       "  'W1': [{'cat': 'D', 'phon': 'La'}, []]}]"
      ]
     },
     "execution_count": 64,
     "metadata": {},
     "output_type": "execute_result"
    }
   ],
   "source": [
    "grew.run(rs,sent_1_1,\"S1\")"
   ]
  },
  {
   "cell_type": "markdown",
   "id": "380c1dad-5682-4257-b3c4-17903d33f1fc",
   "metadata": {},
   "source": [
    "### 1.6.2.1. Alternative\n",
    "\n",
    "`Alt(S1, S2)`  where S1 and S2 are two previously defined strategies(or rules). Makes a union of the graph sets obtained by applying S1 or S2. "
   ]
  },
  {
   "cell_type": "code",
   "execution_count": 66,
   "id": "2cbb22df-1f98-4cff-9a73-980ee6f9034a",
   "metadata": {},
   "outputs": [
    {
     "data": {
      "text/plain": [
       "[{'_8_': [{'cat': 'D', 'phon': 'le'}, []],\n",
       "  'W8': [{'cat': 'N', 'phon': 'John'}, []],\n",
       "  'W7': [{'cat': 'P', 'phon': 'par'}, [['obj.p', 'W8']]],\n",
       "  'W6': [{'cat': 'V', 'm': 'pastp', 'phon': 'pris'},\n",
       "   [['p_obj.agt', 'W7'], ['aux.pass', 'W5'], ['suj', 'W2']]],\n",
       "  'W5': [{'cat': 'V', 'phon': 'est'}, []],\n",
       "  'W4': [{'cat': 'N', 'phon': 'voisin'}, [['det', '_8_']]],\n",
       "  'W3': [{'cat': 'P', 'phon': 'de'}, [['obj.p', 'W4']]],\n",
       "  'W2': [{'cat': 'N', 'phon': 'chien'}, [['dep', 'W3'], ['det', 'W1']]],\n",
       "  'W1': [{'cat': 'D', 'phon': 'Le'}, []]},\n",
       " {'W8': [{'cat': 'N', 'phon': 'John'}, []],\n",
       "  'W6': [{'cat': 'V', 'm': 'pastp', 'phon': 'pris'},\n",
       "   [['suj', 'W8'], ['obj', 'W2']]],\n",
       "  'W4': [{'cat': 'N', 'phon': 'voisin'}, []],\n",
       "  'W3': [{'cat': 'P+D', 'phon': 'du'}, [['obj.p', 'W4']]],\n",
       "  'W2': [{'cat': 'N', 'phon': 'chien'}, [['dep', 'W3'], ['det', 'W1']]],\n",
       "  'W1': [{'cat': 'D', 'phon': 'Le'}, []]}]"
      ]
     },
     "execution_count": 66,
     "metadata": {},
     "output_type": "execute_result"
    }
   ],
   "source": [
    "grew.run(rs, sent_1_2, 'Alt (passiveAgt, du2dele)')"
   ]
  },
  {
   "cell_type": "markdown",
   "id": "6fc080fe-b251-4ab8-a9ee-0ec0692029e2",
   "metadata": {},
   "source": [
    "### 1.6.2.2. Sequence\n",
    "`Seq(S1, S2)`: produces graphs obtained by successively\n",
    "applying S1 and S2."
   ]
  },
  {
   "cell_type": "markdown",
   "id": "8fd2dd4f-8646-4289-a296-301281d9d038",
   "metadata": {},
   "source": [
    "### 1.6.2.3. Pick\n",
    "`Pick(S1)`"
   ]
  },
  {
   "cell_type": "markdown",
   "id": "e373d220-5681-440c-9d39-d5e36f0c03fe",
   "metadata": {},
   "source": [
    "### 1.6.2.4. Iteration\n",
    "`Iter(S1)` applies S1 as long as it can be applied. Graphs from intermediary stages are omitted."
   ]
  },
  {
   "cell_type": "markdown",
   "id": "4577ff87-5bd2-47cb-ab5c-11615857c7fc",
   "metadata": {},
   "source": [
    "### 1.6.3. Using lexicons\n",
    "Assuming a lexicon file called \"verb_with_pobjo_noun.lp\": \n",
    "\n",
    "```\n",
    "verb prep\n",
    "...\n",
    "comparaître devant\n",
    "comploter contre\n",
    "compter parmi\n",
    "compter sur\n",
    "concorder avec\n",
    "consister en\n",
    "contraster avec\n",
    "...\n",
    "``` "
   ]
  },
  {
   "cell_type": "code",
   "execution_count": 69,
   "id": "266f3a70-67e1-4ad5-8c36-158a2976d1aa",
   "metadata": {},
   "outputs": [],
   "source": [
    "lex_rule =\"\"\"\n",
    "rule (lex from \"verb_with_pobjo_noun.lp\") {\n",
    "    pattern {\n",
    "        V [cat=V,lemma=lex.verb]; P [cat=P,lemma=lex.prep]; e: V -[mod]-> P\n",
    "    }\n",
    "    commands { del_edge e; add_edge V -[p_obj.o]-> P; }\n",
    "}\n",
    "\"\"\""
   ]
  },
  {
   "cell_type": "markdown",
   "id": "aaf3e00c-f89c-4056-aeb7-e2dab20d34a9",
   "metadata": {},
   "source": [
    "## Utprøving"
   ]
  },
  {
   "cell_type": "code",
   "execution_count": 70,
   "id": "efaf772d-8189-45e8-a701-da2f9e6add67",
   "metadata": {},
   "outputs": [],
   "source": [
    "# Match any node and give it the name N\n",
    "\n",
    "m1= \"pattern { N [] }\"\n",
    "\n",
    "# "
   ]
  },
  {
   "cell_type": "code",
   "execution_count": null,
   "id": "4573bf24-57b3-45bb-9f34-2e57850621cf",
   "metadata": {},
   "outputs": [],
   "source": []
  }
 ],
 "metadata": {
  "kernelspec": {
   "display_name": "Python 3 (ipykernel)",
   "language": "python",
   "name": "python3"
  },
  "language_info": {
   "codemirror_mode": {
    "name": "ipython",
    "version": 3
   },
   "file_extension": ".py",
   "mimetype": "text/x-python",
   "name": "python",
   "nbconvert_exporter": "python",
   "pygments_lexer": "ipython3",
   "version": "3.10.2"
  }
 },
 "nbformat": 4,
 "nbformat_minor": 5
}
