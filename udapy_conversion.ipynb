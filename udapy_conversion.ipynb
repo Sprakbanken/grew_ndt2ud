{
 "cells": [
  {
   "cell_type": "code",
   "execution_count": 5,
   "metadata": {},
   "outputs": [],
   "source": [
    "import pyconll\n",
    "import pyconll.util \n",
    "from pathlib import Path \n",
    "\n",
    "\n",
    "import udapi\n",
    "from udapi.core.node import Node \n",
    "\n",
    "import udapi\n",
    "from udapi.block.ud import fixpunct, fixleaf, fixchain, fixrightheaded\n"
   ]
  },
  {
   "cell_type": "code",
   "execution_count": 2,
   "metadata": {},
   "outputs": [],
   "source": [
    "UDFILE = \"data/grew_output_train.conllu\""
   ]
  },
  {
   "cell_type": "code",
   "execution_count": null,
   "metadata": {},
   "outputs": [],
   "source": [
    "#   cat $CONVERTED | udapy -s ud.FixPunct > tmp.conllu  && mv tmp.conllu $CONVERTED\n",
    "\n",
    "doc = udapi.Document(UDFILE)\n"
   ]
  },
  {
   "cell_type": "code",
   "execution_count": 9,
   "metadata": {},
   "outputs": [],
   "source": [
    "sent_id = 11055"
   ]
  },
  {
   "cell_type": "code",
   "execution_count": 10,
   "metadata": {},
   "outputs": [
    {
     "name": "stdout",
     "output_type": "stream",
     "text": [
      "# sent_id = 011056\n",
      "# text = Playstation har i mange år hatt stor suksess med «Singstar»-serien.\n",
      "─┮\n",
      " │ ╭─╼ Playstation PROPN nsubj\n",
      " │ ┢─╼ har AUX aux\n",
      " │ │ ╭─╼ i ADP case\n",
      " │ │ ┢─╼ mange ADJ amod\n",
      " │ ┢─┶ år NOUN obl\n",
      " ╰─┾ hatt VERB root\n",
      "   │ ╭─╼ stor ADJ amod\n",
      "   ┡─┾ suksess NOUN obj\n",
      "   │ │ ╭─╼ med ADP case\n",
      "   │ │ │ ╭─╼ « PUNCT compound\n",
      "   │ │ ┢─┾ Singstar PROPN compound\n",
      "   │ │ │ ╰─╼ » PUNCT compound\n",
      "   │ ╰─┶ -serien NOUN nmod\n",
      "   ╰─╼ . PUNCT punct\n",
      "\n"
     ]
    }
   ],
   "source": [
    "doc[sent_id].draw()\n"
   ]
  },
  {
   "cell_type": "code",
   "execution_count": 17,
   "metadata": {},
   "outputs": [
    {
     "name": "stdout",
     "output_type": "stream",
     "text": [
      "# sent_id = 000001\n",
      "# text = Lam og piggvar på bryllupsmenyen\n",
      "─┮\n",
      " ╰─┮ Lam NOUN root\n",
      "   │ ╭─╼ og CCONJ cc\n",
      "   ┡─┶ piggvar NOUN conj\n",
      "   │ ╭─╼ på ADP case\n",
      "   ╰─┶ bryllupsmenyen NOUN xcomp\n",
      "\n",
      "# sent_id = 000002\n",
      "# text = Kamskjell, piggvar og lammefilet sto på menyen under den kongelige gallamiddagen.\n",
      "─┮\n",
      " │ ╭─┮ Kamskjell NOUN nsubj\n",
      " │ │ │ ╭─╼ , PUNCT punct\n",
      " │ │ ┡─┶ piggvar NOUN conj\n",
      " │ │ │ ╭─╼ og CCONJ cc\n",
      " │ │ ╰─┶ lammefilet NOUN conj\n",
      " ╰─┾ sto VERB root\n",
      "   │ ╭─╼ på ADP case\n",
      "   ┡─┶ menyen NOUN obl\n",
      "   │ ╭─╼ under ADP case\n",
      "   │ ┢─╼ den DET det\n",
      "   │ ┢─╼ kongelige ADJ amod\n",
      "   ┡─┶ gallamiddagen NOUN obl\n",
      "   ╰─╼ . PUNCT punct\n",
      "\n",
      "# sent_id = 000003\n",
      "# text = Og til dessert: Parfait à la Mette-Marit.\n",
      "─┮\n",
      " │ ╭─╼ Og CCONJ cc\n",
      " │ │ ╭─╼ til ADP case\n",
      " │ ┢─┾ dessert NOUN obl\n",
      " │ │ ╰─╼ : PUNCT punct\n",
      " ╰─┾ Parfait PROPN root\n",
      "   ┡─╼ à X flat:name\n",
      "   ┡─╼ la X flat:name\n",
      "   ┡─╼ Mette-Marit PROPN flat:name\n",
      "   ╰─╼ . PUNCT punct\n",
      "\n",
      "# sent_id = 000004\n",
      "# text = Forretten lyder navnet \"Coquilles St. Jacques Prince de Norvege\", som er grillet kamskjell på norsk spekeskinke - med trøffelhonningvinaigrette, ruccolasalat og ristede gresskarkjerner.\n",
      "─┮\n",
      " │ ╭─╼ Forretten NOUN nsubj\n",
      " ╰─┾ lyder VERB root\n",
      "   │ ╭─╼ navnet NOUN appos\n",
      "   │ ┢─╼ \" PUNCT punct\n",
      "   ┡─┾ Coquilles PROPN obj\n",
      "   │ ┡─╼ St. PROPN flat:name\n",
      "   │ ┡─╼ Jacques PROPN flat:name\n",
      "   │ ┡─╼ Prince PROPN flat:name\n",
      "   │ ┡─╼ de X flat:name\n",
      "   │ ┡─╼ Norvege PROPN flat:name\n",
      "   │ ┡─╼ \" PUNCT punct\n",
      "   │ │ ╭─╼ , PUNCT punct\n",
      "   │ │ ┢─╼ som SCONJ mark\n",
      "   │ │ ┢─╼ er AUX cop\n",
      "   │ │ ┢─╼ grillet ADJ amod\n",
      "   │ ╰─┾ kamskjell NOUN nmod\n",
      "   │   │ ╭─╼ på ADP case\n",
      "   │   │ ┢─╼ norsk ADJ amod\n",
      "   │   ┡─┶ spekeskinke NOUN nmod\n",
      "   │   │ ╭─╼ - PUNCT punct\n",
      "   │   │ ┢─╼ med ADP case\n",
      "   │   ╰─┾ trøffelhonningvinaigrette NOUN nmod\n",
      "   │     │ ╭─╼ , PUNCT punct\n",
      "   │     ┡─┶ ruccolasalat NOUN conj\n",
      "   │     │ ╭─╼ og CCONJ cc\n",
      "   │     │ ┢─╼ ristede ADJ amod\n",
      "   │     ╰─┶ gresskarkjerner NOUN conj\n",
      "   ╰─╼ . PUNCT punct\n",
      "\n",
      "# sent_id = 000005\n",
      "# text = Deretter fulgte \"Turbot au Four - purée de chou-fleur\".\n",
      "─┮\n",
      " │ ╭─╼ Deretter ADV advmod\n",
      " ╰─┾ fulgte VERB root\n",
      "   │ ╭─╼ \" PUNCT punct\n",
      "   ┡─┾ Turbot PROPN nsubj\n",
      "   │ ┡─╼ au X flat:name\n",
      "   │ ┡─╼ Four PROPN flat:name\n",
      "   │ │ ╭─╼ - PUNCT punct\n",
      "   │ ┡─┶ purée X flat:name\n",
      "   │ ┡─╼ de X flat:name\n",
      "   │ ┡─╼ chou-fleur X flat:name\n",
      "   │ ╰─╼ \" PUNCT punct\n",
      "   ╰─╼ . PUNCT punct\n",
      "\n"
     ]
    }
   ],
   "source": [
    "i = 0 \n",
    "for sent in doc.bundles: \n",
    "    i +=1\n",
    "    if i > 5: \n",
    "        break\n",
    "    sent.draw()"
   ]
  },
  {
   "cell_type": "code",
   "execution_count": 20,
   "metadata": {},
   "outputs": [],
   "source": [
    "sent = doc.bundles[sent_id]"
   ]
  },
  {
   "cell_type": "code",
   "execution_count": 36,
   "metadata": {},
   "outputs": [
    {
     "name": "stdout",
     "output_type": "stream",
     "text": [
      "# sent_id = 011056\n",
      "# text = Playstation har i mange år hatt stor suksess med «Singstar»-serien.\n",
      "─┮\n",
      " │ ╭─╼ Playstation PROPN nsubj\n",
      " │ ┢─╼ har AUX aux\n",
      " │ │ ╭─╼ i ADP case\n",
      " │ │ ┢─╼ mange ADJ amod\n",
      " │ ┢─┶ år NOUN obl\n",
      " ╰─┾ hatt VERB root\n",
      "   │ ╭─╼ stor ADJ amod\n",
      "   ┡─┾ suksess NOUN obj\n",
      "   │ │ ╭─╼ med ADP case\n",
      "   │ │ │ ╭─╼ « PUNCT compound\n",
      "   │ │ ┢─┾ Singstar PROPN compound\n",
      "   │ │ │ ╰─╼ » PUNCT compound\n",
      "   │ ╰─┶ -serien NOUN nmod\n",
      "   ╰─╼ . PUNCT punct\n",
      "\n"
     ]
    }
   ],
   "source": [
    "sent.draw()"
   ]
  },
  {
   "cell_type": "code",
   "execution_count": 32,
   "metadata": {},
   "outputs": [],
   "source": [
    "root = sent.get_tree().root.children[0]"
   ]
  },
  {
   "cell_type": "code",
   "execution_count": 35,
   "metadata": {},
   "outputs": [
    {
     "data": {
      "text/plain": [
       "[Node<011056#1, Playstation>,\n",
       " Node<011056#2, har>,\n",
       " Node<011056#5, år>,\n",
       " Node<011056#8, suksess>,\n",
       " Node<011056#14, .>]"
      ]
     },
     "execution_count": 35,
     "metadata": {},
     "output_type": "execute_result"
    }
   ],
   "source": [
    "root.children"
   ]
  },
  {
   "cell_type": "code",
   "execution_count": 37,
   "metadata": {},
   "outputs": [],
   "source": [
    "fixer = fixpunct.FixPunct()"
   ]
  },
  {
   "cell_type": "code",
   "execution_count": 39,
   "metadata": {},
   "outputs": [],
   "source": [
    "fixer.process_tree(sent.get_tree().root)"
   ]
  },
  {
   "cell_type": "code",
   "execution_count": 43,
   "metadata": {},
   "outputs": [],
   "source": [
    "fixer.process_document(doc)"
   ]
  },
  {
   "attachments": {},
   "cell_type": "markdown",
   "metadata": {},
   "source": [
    "---"
   ]
  },
  {
   "cell_type": "code",
   "execution_count": 4,
   "metadata": {},
   "outputs": [],
   "source": [
    "NGRAM = 'Sangen om den Røde Rubin'.split()"
   ]
  },
  {
   "cell_type": "code",
   "execution_count": 2,
   "metadata": {},
   "outputs": [],
   "source": [
    "train = pyconll.load_from_file('tmp.conllu')"
   ]
  },
  {
   "cell_type": "code",
   "execution_count": null,
   "metadata": {},
   "outputs": [],
   "source": [
    "# Fix punctuation and add spaceafter \n",
    "!cat $UDFILE | udapy -s ud.FixPunct ud.SetSpaceAfterFromText > out.conllu\n",
    "\n",
    "!cat $UDFILE | udapy -TM util.Mark node='node.lemma == \"som\"' > som.txt\n",
    "\n",
    "!udapy -HMAC read.Conllu zone=old files=$UDFILE read.Conllu zone=new files=out.conllu util.MarkDiff gold_zone=old attributes='form,lemma,upos,xpos,deprel,feats,misc' add=True > diff.html"
   ]
  },
  {
   "cell_type": "code",
   "execution_count": 27,
   "metadata": {},
   "outputs": [
    {
     "name": "stdout",
     "output_type": "stream",
     "text": [
      "Return multiple attributes or pseudo-attributes, possibly substituting empty ones.\n",
      "\n",
      "        Pseudo-attributes:\n",
      "        p_xy is the (pseudo) attribute xy of the parent node.\n",
      "        c_xy is a list of the (pseudo) attributes xy of the children nodes.\n",
      "        l_xy is the (pseudo) attribute xy of the previous (left in LTR langs) node.\n",
      "        r_xy is the (pseudo) attribute xy of the following (right in LTR langs) node.\n",
      "        dir: 'left' = the node is a left child of its parent,\n",
      "             'right' = the node is a rigth child of its parent,\n",
      "             'root' = the node's parent is the technical root.\n",
      "        edge: length of the edge to parent (`node.ord - node.parent.ord`) or 0 if parent is root\n",
      "        children: number of children nodes.\n",
      "        siblings: number of siblings nodes.\n",
      "        depth: depth in the dependency tree (technical root has depth=0, highest word has depth=1).\n",
      "        feats_split: list of name=value formatted strings of the FEATS.\n",
      "\n",
      "        Args:\n",
      "        attrs: A list of attribute names, e.g. ``['form', 'lemma', 'p_upos']``.\n",
      "        undefs: A value to be used instead of None for empty (undefined) values.\n",
      "        stringify: Apply `str()` on each value (except for None)\n",
      "        \n"
     ]
    }
   ],
   "source": [
    "n = list(doc.nodes)[0]\n",
    "\n",
    "print(n.get_attrs.__doc__)"
   ]
  },
  {
   "cell_type": "code",
   "execution_count": null,
   "metadata": {},
   "outputs": [],
   "source": []
  }
 ],
 "metadata": {
  "kernelspec": {
   "display_name": "grew_env",
   "language": "python",
   "name": "python3"
  },
  "language_info": {
   "codemirror_mode": {
    "name": "ipython",
    "version": 3
   },
   "file_extension": ".py",
   "mimetype": "text/x-python",
   "name": "python",
   "nbconvert_exporter": "python",
   "pygments_lexer": "ipython3",
   "version": "3.11.0"
  },
  "orig_nbformat": 4
 },
 "nbformat": 4,
 "nbformat_minor": 2
}
