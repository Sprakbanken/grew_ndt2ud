{
 "cells": [
  {
   "cell_type": "markdown",
   "metadata": {},
   "source": [
    "# Koden i Grew-boka kapittel 1\n",
    "Henta [herfra]"
   ]
  },
  {
   "cell_type": "code",
   "execution_count": 1,
   "metadata": {},
   "outputs": [
    {
     "name": "stdout",
     "output_type": "stream",
     "text": [
      "connected to port: 8889\n"
     ]
    },
    {
     "data": {
      "text/plain": [
       "<subprocess.Popen at 0x7feb00252d00>"
      ]
     },
     "execution_count": 1,
     "metadata": {},
     "output_type": "execute_result"
    }
   ],
   "source": [
    "import grew\n",
    "grew.init()"
   ]
  },
  {
   "cell_type": "code",
   "execution_count": 2,
   "metadata": {},
   "outputs": [],
   "source": [
    "g = grew.graph('''graph {\n",
    "  W1 [phon=\"the\", cat=DET];\n",
    "  W2 [phon=\"child\", cat=N];\n",
    "  W3 [phon=\"plays\", cat=V];\n",
    "  W4 [phon=\"the\", cat=DET];\n",
    "  W5 [phon=\"fool\", cat=N];\n",
    "  W2 -[det]->W1;\n",
    "  W3 -[suj]->W2;\n",
    "  W3 -[obj]->W5;\n",
    "  W5 -[det]->W4;\n",
    "}''')\n"
   ]
  },
  {
   "cell_type": "code",
   "execution_count": 3,
   "metadata": {},
   "outputs": [
    {
     "data": {
      "text/plain": [
       "[{'nodes': {'X': 'W3'}, 'edges': {}}]"
      ]
     },
     "execution_count": 3,
     "metadata": {},
     "output_type": "execute_result"
    }
   ],
   "source": [
    "grew.search (\"pattern { X[cat=V] }\", g)"
   ]
  },
  {
   "cell_type": "code",
   "execution_count": 5,
   "metadata": {},
   "outputs": [
    {
     "data": {
      "text/plain": [
       "[{'nodes': {'X': 'W4'}, 'edges': {}}, {'nodes': {'X': 'W1'}, 'edges': {}}]"
      ]
     },
     "execution_count": 5,
     "metadata": {},
     "output_type": "execute_result"
    }
   ],
   "source": [
    "grew.search (\"pattern { X[cat=DET] }\", g)"
   ]
  },
  {
   "cell_type": "code",
   "execution_count": 6,
   "metadata": {},
   "outputs": [
    {
     "data": {
      "text/plain": [
       "[]"
      ]
     },
     "execution_count": 6,
     "metadata": {},
     "output_type": "execute_result"
    }
   ],
   "source": [
    "grew.search (\"pattern { X[cat=ADJ] }\", g)"
   ]
  },
  {
   "cell_type": "code",
   "execution_count": 7,
   "metadata": {},
   "outputs": [
    {
     "data": {
      "text/plain": [
       "[{'nodes': {'Y': 'W2', 'X': 'W3'}, 'edges': {}}]"
      ]
     },
     "execution_count": 7,
     "metadata": {},
     "output_type": "execute_result"
    }
   ],
   "source": [
    "grew.search (\"pattern { X[cat=V]; Y[]; X -[suj]-> Y }\", g)"
   ]
  },
  {
   "cell_type": "code",
   "execution_count": 8,
   "metadata": {},
   "outputs": [
    {
     "data": {
      "text/plain": [
       "[{'nodes': {'Y': 'W2', 'X': 'W3'}, 'edges': {}}]"
      ]
     },
     "execution_count": 8,
     "metadata": {},
     "output_type": "execute_result"
    }
   ],
   "source": [
    "grew.search (\"pattern { X[cat=V]; X -[suj]-> Y }\", g)"
   ]
  },
  {
   "cell_type": "code",
   "execution_count": 9,
   "metadata": {},
   "outputs": [
    {
     "data": {
      "text/plain": [
       "[{'nodes': {'Y': 'W2', 'X': 'W3'},\n",
       "  'edges': {'e': {'source': 'W3', 'label': 'suj', 'target': 'W2'}}}]"
      ]
     },
     "execution_count": 9,
     "metadata": {},
     "output_type": "execute_result"
    }
   ],
   "source": [
    "grew.search (\"pattern { X[cat=V]; e:X -[suj]-> Y }\", g)"
   ]
  },
  {
   "cell_type": "code",
   "execution_count": 11,
   "metadata": {},
   "outputs": [
    {
     "data": {
      "text/plain": [
       "[{'nodes': {'X': 'W3'}, 'edges': {}}]"
      ]
     },
     "execution_count": 11,
     "metadata": {},
     "output_type": "execute_result"
    }
   ],
   "source": [
    "grew.search (\"pattern { X[] } without { *->X }\", g)"
   ]
  },
  {
   "cell_type": "code",
   "execution_count": 12,
   "metadata": {},
   "outputs": [],
   "source": [
    "g0 = grew.graph('''graph {\n",
    "  W1 [phon=ils, cat=PRO];\n",
    "  W2 [phon=\"s'\", cat=PRO];\n",
    "  W3 [phon=aiment, cat=V];\n",
    "  W3 -[suj]-> W1;\n",
    "  W3 -[obj]-> W1;\n",
    "}''')"
   ]
  },
  {
   "cell_type": "code",
   "execution_count": 13,
   "metadata": {},
   "outputs": [
    {
     "data": {
      "text/plain": [
       "[{'nodes': {'Y': 'W1', 'X': 'W3'}, 'edges': {}},\n",
       " {'nodes': {'Y': 'W1', 'X': 'W3'}, 'edges': {}}]"
      ]
     },
     "execution_count": 13,
     "metadata": {},
     "output_type": "execute_result"
    }
   ],
   "source": [
    "grew.search (\"pattern { X -[suj|obj]-> Y }\", g0)"
   ]
  },
  {
   "cell_type": "code",
   "execution_count": 14,
   "metadata": {},
   "outputs": [],
   "source": [
    "m1 = 'pattern{ P[phon=\"en\",cat=P]; V[cat=V]; V-[obj]-> *}'\n",
    "m2 = 'pattern{ P[phon=\"en\",cat=P]; V[cat=V]; V-[obj]-> O}'"
   ]
  },
  {
   "cell_type": "code",
   "execution_count": 15,
   "metadata": {},
   "outputs": [],
   "source": [
    "g1 = grew.graph('''graph{\n",
    "W1 [phon=\"en\", cat=P];\n",
    "W2 [phon=\"prend\", cat=V];\n",
    "W2 -[obj]->W1;\n",
    "}''')"
   ]
  },
  {
   "cell_type": "code",
   "execution_count": 16,
   "metadata": {},
   "outputs": [
    {
     "data": {
      "text/plain": [
       "[{'nodes': {'V': 'W2', 'P': 'W1'}, 'edges': {}}]"
      ]
     },
     "execution_count": 16,
     "metadata": {},
     "output_type": "execute_result"
    }
   ],
   "source": [
    "grew.search(m1, g1)"
   ]
  },
  {
   "cell_type": "code",
   "execution_count": 17,
   "metadata": {},
   "outputs": [
    {
     "data": {
      "text/plain": [
       "[]"
      ]
     },
     "execution_count": 17,
     "metadata": {},
     "output_type": "execute_result"
    }
   ],
   "source": [
    "grew.search(m2, g1)"
   ]
  },
  {
   "cell_type": "code",
   "execution_count": 18,
   "metadata": {},
   "outputs": [],
   "source": [
    "g2 = grew.graph('''graph{\n",
    "W1 [phon=\"en\", cat=P];\n",
    "W2 [phon=\"connait\", cat=V];\n",
    "W3 [phon=\"la\", cat=Det];\n",
    "W4 [phon=\"fin\", cat=N];\n",
    "W2 -[det]->W3;\n",
    "W2 -[mod]->W1;\n",
    "W2 -[obj]->W4;\n",
    "}''')"
   ]
  },
  {
   "cell_type": "code",
   "execution_count": 19,
   "metadata": {},
   "outputs": [
    {
     "data": {
      "text/plain": [
       "[{'nodes': {'V': 'W2', 'P': 'W1'}, 'edges': {}}]"
      ]
     },
     "execution_count": 19,
     "metadata": {},
     "output_type": "execute_result"
    }
   ],
   "source": [
    "grew.search(m1, g2)"
   ]
  },
  {
   "cell_type": "code",
   "execution_count": 20,
   "metadata": {},
   "outputs": [
    {
     "data": {
      "text/plain": [
       "[{'nodes': {'V': 'W2', 'P': 'W1', 'O': 'W4'}, 'edges': {}}]"
      ]
     },
     "execution_count": 20,
     "metadata": {},
     "output_type": "execute_result"
    }
   ],
   "source": [
    "grew.search(m2, g2)"
   ]
  },
  {
   "cell_type": "code",
   "execution_count": 21,
   "metadata": {},
   "outputs": [],
   "source": [
    "g3 = grew.graph('''graph{\n",
    "  W1 [phon=John, cat=NP];\n",
    "  W2 [phon=reads, cat=V ];\n",
    "  W3 [phon=the, cat=Det];\n",
    "  W4 [phon=book, cat=N];\n",
    "  W2 -[suj]-> W1;\n",
    "  W2 -[obj]-> W4;\n",
    "  W4 -[det]-> W3;\n",
    "}''')\n",
    "\n",
    "g4 = grew.graph('''graph{\n",
    "  W1 [phon=John, cat=NP];\n",
    "  W2 [phon=reads, cat=V ];\n",
    "  W3 [phon=the, cat=Det];\n",
    "  W4 [phon=book, cat=N];\n",
    "  W5 [phon=today, cat=ADV];\n",
    "  W2 -[suj]-> W1;\n",
    "  W2 -[obj]-> W4;\n",
    "  W4 -[det]-> W3;\n",
    "  W2 -[mod]-> W5;\n",
    "}''')"
   ]
  },
  {
   "cell_type": "code",
   "execution_count": 22,
   "metadata": {},
   "outputs": [],
   "source": [
    "m3 = \"pattern{Y-[suj]->X} without{Y-[obj]->Z; Y-[mod]->T}\"\n",
    "m4 = \"pattern{Y-[suj]->X} without{Y-[obj]->Z} without{Y-[mod]->T}\""
   ]
  },
  {
   "cell_type": "code",
   "execution_count": 23,
   "metadata": {},
   "outputs": [
    {
     "data": {
      "text/plain": [
       "[{'nodes': {'Y': 'W2', 'X': 'W1'}, 'edges': {}}]"
      ]
     },
     "execution_count": 23,
     "metadata": {},
     "output_type": "execute_result"
    }
   ],
   "source": [
    "grew.search(m3, g3)"
   ]
  },
  {
   "cell_type": "code",
   "execution_count": 24,
   "metadata": {},
   "outputs": [
    {
     "data": {
      "text/plain": [
       "[]"
      ]
     },
     "execution_count": 24,
     "metadata": {},
     "output_type": "execute_result"
    }
   ],
   "source": [
    "grew.search(m4, g3)"
   ]
  },
  {
   "cell_type": "code",
   "execution_count": 25,
   "metadata": {},
   "outputs": [
    {
     "data": {
      "text/plain": [
       "[]"
      ]
     },
     "execution_count": 25,
     "metadata": {},
     "output_type": "execute_result"
    }
   ],
   "source": [
    "grew.search(m3, g4)"
   ]
  },
  {
   "cell_type": "code",
   "execution_count": 26,
   "metadata": {},
   "outputs": [
    {
     "data": {
      "text/plain": [
       "[]"
      ]
     },
     "execution_count": 26,
     "metadata": {},
     "output_type": "execute_result"
    }
   ],
   "source": [
    "grew.search(m4, g4)"
   ]
  },
  {
   "cell_type": "code",
   "execution_count": 27,
   "metadata": {},
   "outputs": [],
   "source": [
    "g5 = grew.graph('''graph{\n",
    "  W1 [phon=dors, cat=V, m=imp];\n",
    "  W2 [phon=\"!\", cat=PONCT];\n",
    "}''')\n"
   ]
  },
  {
   "cell_type": "code",
   "execution_count": 28,
   "metadata": {},
   "outputs": [],
   "source": [
    "m5 = \"pattern { X[cat=V, t=fut] }\"\n",
    "m6 = \"pattern { X[cat=V] } without{ X[t<>fut] }\"\n"
   ]
  },
  {
   "cell_type": "code",
   "execution_count": 29,
   "metadata": {},
   "outputs": [
    {
     "data": {
      "text/plain": [
       "[]"
      ]
     },
     "execution_count": 29,
     "metadata": {},
     "output_type": "execute_result"
    }
   ],
   "source": [
    "grew.search(m5, g5)"
   ]
  },
  {
   "cell_type": "code",
   "execution_count": 30,
   "metadata": {},
   "outputs": [
    {
     "data": {
      "text/plain": [
       "[{'nodes': {'X': 'W1'}, 'edges': {}}]"
      ]
     },
     "execution_count": 30,
     "metadata": {},
     "output_type": "execute_result"
    }
   ],
   "source": [
    "grew.search(m6, g5)"
   ]
  },
  {
   "cell_type": "code",
   "execution_count": 31,
   "metadata": {},
   "outputs": [],
   "source": [
    "g0 = grew.graph('''graph {\n",
    "  W1 [phon=ils, cat=PRO];\n",
    "  W2 [phon=\"s'\", cat=PRO];\n",
    "  W3 [phon=aiment, cat=V];\n",
    "  W3 -[suj]-> W1;\n",
    "  W3 -[obj]-> W1;\n",
    "}''')"
   ]
  },
  {
   "cell_type": "code",
   "execution_count": 32,
   "metadata": {},
   "outputs": [
    {
     "data": {
      "text/plain": [
       "[{'nodes': {'Y': 'W1', 'X': 'W3'},\n",
       "  'edges': {'f': {'source': 'W3', 'label': 'suj', 'target': 'W1'},\n",
       "   'e': {'source': 'W3', 'label': 'obj', 'target': 'W1'}}},\n",
       " {'nodes': {'Y': 'W1', 'X': 'W3'},\n",
       "  'edges': {'f': {'source': 'W3', 'label': 'suj', 'target': 'W1'},\n",
       "   'e': {'source': 'W3', 'label': 'suj', 'target': 'W1'}}},\n",
       " {'nodes': {'Y': 'W1', 'X': 'W3'},\n",
       "  'edges': {'f': {'source': 'W3', 'label': 'obj', 'target': 'W1'},\n",
       "   'e': {'source': 'W3', 'label': 'obj', 'target': 'W1'}}},\n",
       " {'nodes': {'Y': 'W1', 'X': 'W3'},\n",
       "  'edges': {'f': {'source': 'W3', 'label': 'obj', 'target': 'W1'},\n",
       "   'e': {'source': 'W3', 'label': 'suj', 'target': 'W1'}}}]"
      ]
     },
     "execution_count": 32,
     "metadata": {},
     "output_type": "execute_result"
    }
   ],
   "source": [
    "grew.search(\"pattern { e : X -> Y ; f : X -> Y }\", g0)"
   ]
  },
  {
   "cell_type": "code",
   "execution_count": 33,
   "metadata": {},
   "outputs": [],
   "source": [
    "g = grew.graph('''graph{\n",
    "  W1 [phon=\"John\",cat=NP];\n",
    "  W2 [phon=\"est\",cat=V ];\n",
    "  W3 [phon=\"mordu\", cat=V, m=pastp];\n",
    "  W4 [phon=\"par\",cat=P ];\n",
    "  W5 [phon=\"le\", cat=D];\n",
    "  W6 [word=\"chien\",cat=NP];\n",
    "\n",
    "  W3 -[suj]-> W1;\n",
    "  W3 -[aux.pass]-> W2;\n",
    "  W3 -[p_obj.agt]-> W4;\n",
    "  W6 -[det]-> W5;\n",
    "  W4 -[obj.p]-> W6;\n",
    "}''')"
   ]
  },
  {
   "cell_type": "code",
   "execution_count": 34,
   "metadata": {},
   "outputs": [],
   "source": [
    "r = \"\"\"rule passiveAgt {\n",
    "  pattern {\n",
    "    V [cat=V, m=pastp];\n",
    "    V -[aux.pass]-> AUX;\n",
    "    e: V -[suj]-> SUJ;\n",
    "    P [phon=par]; V -[p_obj.agt]-> P;\n",
    "    P -[obj.p]-> A;\n",
    "} commands {\n",
    "    del_node P;\n",
    "    del_node AUX;\n",
    "    add_edge V -[suj]-> A;\n",
    "    add_edge V -[obj]-> SUJ;\n",
    "    del_edge e;\n",
    "} }\"\"\""
   ]
  },
  {
   "cell_type": "code",
   "execution_count": 35,
   "metadata": {},
   "outputs": [
    {
     "data": {
      "text/plain": [
       "[{'W6': [{'cat': 'NP', 'word': 'chien'}, [['det', 'W5']]],\n",
       "  'W5': [{'cat': 'D', 'phon': 'le'}, []],\n",
       "  'W3': [{'cat': 'V', 'm': 'pastp', 'phon': 'mordu'},\n",
       "   [['suj', 'W6'], ['obj', 'W1']]],\n",
       "  'W1': [{'cat': 'NP', 'phon': 'John'}, []]}]"
      ]
     },
     "execution_count": 35,
     "metadata": {},
     "output_type": "execute_result"
    }
   ],
   "source": [
    "grew.run(r, g, 'passiveAgt')"
   ]
  },
  {
   "cell_type": "code",
   "execution_count": 36,
   "metadata": {},
   "outputs": [],
   "source": [
    "rs = grew.grs (\"\"\"\n",
    "rule passiveAgt {\n",
    "  pattern {\n",
    "    V [cat=V, m=pastp];\n",
    "    V -[aux.pass]-> AUX;\n",
    "    e: V -[suj]-> SUJ;\n",
    "    P [phon=par]; V -[p_obj.agt]-> P;\n",
    "    P -[obj.p]-> A;\n",
    "  }\n",
    "  commands {\n",
    "    del_node P;\n",
    "    del_node AUX;\n",
    "    add_edge V -[suj]-> A;\n",
    "    add_edge V -[obj]-> SUJ;\n",
    "    del_edge e;\n",
    "  }\n",
    "}\n",
    "\n",
    "rule du2dele {\n",
    "  pattern {\n",
    "    A [cat=\"P+D\", phon=\"du\"]; N [cat=N];\n",
    "    A -[obj.p]-> N;\n",
    "    }\n",
    "  commands {\n",
    "    add_node D:> A; D.cat=D ; D.phon=\"le\" ;\n",
    "    A.cat=P; A.phon=\"de\";\n",
    "    add_edge N -[det]-> D;\n",
    "  }\n",
    "}\n",
    "\n",
    "strat S1 { du2dele }\n",
    "\"\"\")"
   ]
  },
  {
   "cell_type": "code",
   "execution_count": 37,
   "metadata": {},
   "outputs": [],
   "source": [
    "sent_1_1 = grew.graph('''graph{\n",
    "  W1 [phon=La, cat=D];\n",
    "  W2 [phon=porte, cat=N];\n",
    "  W3 [phon=du, cat=\"P+D\"];\n",
    "  W4 [phon=jardin, cat=N];\n",
    "  W5 [phon=du, cat=\"P+D\"];\n",
    "  W6 [phon=voisin, cat=N];\n",
    "  W2 -[det]-> W1;\n",
    "  W2 -[dep]-> W3;\n",
    "  W3 -[obj.p]-> W4;\n",
    "  W4 -[dep]-> W5;\n",
    "  W5 -[obj.p]-> W6;\n",
    "}''')"
   ]
  },
  {
   "cell_type": "code",
   "execution_count": 38,
   "metadata": {},
   "outputs": [],
   "source": [
    "sent_1_2 = grew.graph('''graph{\n",
    "  W1 [phon=Le, cat=D];\n",
    "  W2 [phon=chien, cat=N];\n",
    "  W3 [phon=du, cat=\"P+D\"];\n",
    "  W4 [phon=voisin, cat=N];\n",
    "  W5 [phon=est, cat=V];\n",
    "  W6 [phon=pris, cat=V, m=pastp];\n",
    "  W7 [phon=par, cat=P];\n",
    "  W8 [phon=John, cat=N];\n",
    "  W2 -[det]-> W1;\n",
    "  W2 -[dep]-> W3;\n",
    "  W3 -[obj.p]-> W4;\n",
    "  W6 -[suj]-> W2;\n",
    "  W6 -[aux.pass]-> W5;\n",
    "  W6 -[p_obj.agt]-> W7;\n",
    "  W7 -[obj.p]-> W8;\n",
    "}''')"
   ]
  },
  {
   "cell_type": "code",
   "execution_count": 39,
   "metadata": {},
   "outputs": [
    {
     "data": {
      "text/plain": [
       "[{'_6_': [{'cat': 'D', 'phon': 'le'}, []],\n",
       "  'W6': [{'cat': 'N', 'phon': 'voisin'}, []],\n",
       "  'W5': [{'cat': 'P+D', 'phon': 'du'}, [['obj.p', 'W6']]],\n",
       "  'W4': [{'cat': 'N', 'phon': 'jardin'}, [['det', '_6_'], ['dep', 'W5']]],\n",
       "  'W3': [{'cat': 'P', 'phon': 'de'}, [['obj.p', 'W4']]],\n",
       "  'W2': [{'cat': 'N', 'phon': 'porte'}, [['dep', 'W3'], ['det', 'W1']]],\n",
       "  'W1': [{'cat': 'D', 'phon': 'La'}, []]},\n",
       " {'_6_': [{'cat': 'D', 'phon': 'le'}, []],\n",
       "  'W6': [{'cat': 'N', 'phon': 'voisin'}, [['det', '_6_']]],\n",
       "  'W5': [{'cat': 'P', 'phon': 'de'}, [['obj.p', 'W6']]],\n",
       "  'W4': [{'cat': 'N', 'phon': 'jardin'}, [['dep', 'W5']]],\n",
       "  'W3': [{'cat': 'P+D', 'phon': 'du'}, [['obj.p', 'W4']]],\n",
       "  'W2': [{'cat': 'N', 'phon': 'porte'}, [['dep', 'W3'], ['det', 'W1']]],\n",
       "  'W1': [{'cat': 'D', 'phon': 'La'}, []]}]"
      ]
     },
     "execution_count": 39,
     "metadata": {},
     "output_type": "execute_result"
    }
   ],
   "source": [
    "grew.run(rs,sent_1_1,\"S1\")"
   ]
  },
  {
   "cell_type": "code",
   "execution_count": 40,
   "metadata": {},
   "outputs": [
    {
     "data": {
      "text/plain": [
       "[{'_6_': [{'cat': 'D', 'phon': 'le'}, []],\n",
       "  'W6': [{'cat': 'N', 'phon': 'voisin'}, []],\n",
       "  'W5': [{'cat': 'P+D', 'phon': 'du'}, [['obj.p', 'W6']]],\n",
       "  'W4': [{'cat': 'N', 'phon': 'jardin'}, [['det', '_6_'], ['dep', 'W5']]],\n",
       "  'W3': [{'cat': 'P', 'phon': 'de'}, [['obj.p', 'W4']]],\n",
       "  'W2': [{'cat': 'N', 'phon': 'porte'}, [['dep', 'W3'], ['det', 'W1']]],\n",
       "  'W1': [{'cat': 'D', 'phon': 'La'}, []]},\n",
       " {'_6_': [{'cat': 'D', 'phon': 'le'}, []],\n",
       "  'W6': [{'cat': 'N', 'phon': 'voisin'}, [['det', '_6_']]],\n",
       "  'W5': [{'cat': 'P', 'phon': 'de'}, [['obj.p', 'W6']]],\n",
       "  'W4': [{'cat': 'N', 'phon': 'jardin'}, [['dep', 'W5']]],\n",
       "  'W3': [{'cat': 'P+D', 'phon': 'du'}, [['obj.p', 'W4']]],\n",
       "  'W2': [{'cat': 'N', 'phon': 'porte'}, [['dep', 'W3'], ['det', 'W1']]],\n",
       "  'W1': [{'cat': 'D', 'phon': 'La'}, []]}]"
      ]
     },
     "execution_count": 40,
     "metadata": {},
     "output_type": "execute_result"
    }
   ],
   "source": [
    "grew.run(rs,sent_1_1,\"du2dele\")"
   ]
  },
  {
   "cell_type": "code",
   "execution_count": 41,
   "metadata": {},
   "outputs": [
    {
     "data": {
      "text/plain": [
       "[{'_8_': [{'cat': 'D', 'phon': 'le'}, []],\n",
       "  'W8': [{'cat': 'N', 'phon': 'John'}, []],\n",
       "  'W7': [{'cat': 'P', 'phon': 'par'}, [['obj.p', 'W8']]],\n",
       "  'W6': [{'cat': 'V', 'm': 'pastp', 'phon': 'pris'},\n",
       "   [['p_obj.agt', 'W7'], ['aux.pass', 'W5'], ['suj', 'W2']]],\n",
       "  'W5': [{'cat': 'V', 'phon': 'est'}, []],\n",
       "  'W4': [{'cat': 'N', 'phon': 'voisin'}, [['det', '_8_']]],\n",
       "  'W3': [{'cat': 'P', 'phon': 'de'}, [['obj.p', 'W4']]],\n",
       "  'W2': [{'cat': 'N', 'phon': 'chien'}, [['dep', 'W3'], ['det', 'W1']]],\n",
       "  'W1': [{'cat': 'D', 'phon': 'Le'}, []]},\n",
       " {'W8': [{'cat': 'N', 'phon': 'John'}, []],\n",
       "  'W6': [{'cat': 'V', 'm': 'pastp', 'phon': 'pris'},\n",
       "   [['suj', 'W8'], ['obj', 'W2']]],\n",
       "  'W4': [{'cat': 'N', 'phon': 'voisin'}, []],\n",
       "  'W3': [{'cat': 'P+D', 'phon': 'du'}, [['obj.p', 'W4']]],\n",
       "  'W2': [{'cat': 'N', 'phon': 'chien'}, [['dep', 'W3'], ['det', 'W1']]],\n",
       "  'W1': [{'cat': 'D', 'phon': 'Le'}, []]}]"
      ]
     },
     "execution_count": 41,
     "metadata": {},
     "output_type": "execute_result"
    }
   ],
   "source": [
    "grew.run(rs,sent_1_2,\"Alt (passiveAgt, du2dele)\")"
   ]
  },
  {
   "cell_type": "code",
   "execution_count": 42,
   "metadata": {},
   "outputs": [
    {
     "data": {
      "text/plain": [
       "[{'_8_': [{'cat': 'D', 'phon': 'le'}, []],\n",
       "  'W8': [{'cat': 'N', 'phon': 'John'}, []],\n",
       "  'W6': [{'cat': 'V', 'm': 'pastp', 'phon': 'pris'},\n",
       "   [['suj', 'W8'], ['obj', 'W2']]],\n",
       "  'W4': [{'cat': 'N', 'phon': 'voisin'}, [['det', '_8_']]],\n",
       "  'W3': [{'cat': 'P', 'phon': 'de'}, [['obj.p', 'W4']]],\n",
       "  'W2': [{'cat': 'N', 'phon': 'chien'}, [['dep', 'W3'], ['det', 'W1']]],\n",
       "  'W1': [{'cat': 'D', 'phon': 'Le'}, []]}]"
      ]
     },
     "execution_count": 42,
     "metadata": {},
     "output_type": "execute_result"
    }
   ],
   "source": [
    "grew.run(rs,sent_1_2,\"Seq (du2dele, passiveAgt)\")"
   ]
  },
  {
   "cell_type": "code",
   "execution_count": 43,
   "metadata": {},
   "outputs": [
    {
     "data": {
      "text/plain": [
       "[{'_6_': [{'cat': 'D', 'phon': 'le'}, []],\n",
       "  'W6': [{'cat': 'N', 'phon': 'voisin'}, []],\n",
       "  'W5': [{'cat': 'P+D', 'phon': 'du'}, [['obj.p', 'W6']]],\n",
       "  'W4': [{'cat': 'N', 'phon': 'jardin'}, [['det', '_6_'], ['dep', 'W5']]],\n",
       "  'W3': [{'cat': 'P', 'phon': 'de'}, [['obj.p', 'W4']]],\n",
       "  'W2': [{'cat': 'N', 'phon': 'porte'}, [['dep', 'W3'], ['det', 'W1']]],\n",
       "  'W1': [{'cat': 'D', 'phon': 'La'}, []]}]"
      ]
     },
     "execution_count": 43,
     "metadata": {},
     "output_type": "execute_result"
    }
   ],
   "source": [
    "grew.run(rs,sent_1_1,\"Pick (S1)\")"
   ]
  },
  {
   "cell_type": "code",
   "execution_count": 44,
   "metadata": {},
   "outputs": [
    {
     "data": {
      "text/plain": [
       "[{'_7_': [{'cat': 'D', 'phon': 'le'}, []],\n",
       "  '_6_': [{'cat': 'D', 'phon': 'le'}, []],\n",
       "  'W6': [{'cat': 'N', 'phon': 'voisin'}, [['det', '_7_']]],\n",
       "  'W5': [{'cat': 'P', 'phon': 'de'}, [['obj.p', 'W6']]],\n",
       "  'W4': [{'cat': 'N', 'phon': 'jardin'}, [['det', '_6_'], ['dep', 'W5']]],\n",
       "  'W3': [{'cat': 'P', 'phon': 'de'}, [['obj.p', 'W4']]],\n",
       "  'W2': [{'cat': 'N', 'phon': 'porte'}, [['dep', 'W3'], ['det', 'W1']]],\n",
       "  'W1': [{'cat': 'D', 'phon': 'La'}, []]},\n",
       " {'_7_': [{'cat': 'D', 'phon': 'le'}, []],\n",
       "  '_6_': [{'cat': 'D', 'phon': 'le'}, []],\n",
       "  'W6': [{'cat': 'N', 'phon': 'voisin'}, [['det', '_6_']]],\n",
       "  'W5': [{'cat': 'P', 'phon': 'de'}, [['obj.p', 'W6']]],\n",
       "  'W4': [{'cat': 'N', 'phon': 'jardin'}, [['det', '_7_'], ['dep', 'W5']]],\n",
       "  'W3': [{'cat': 'P', 'phon': 'de'}, [['obj.p', 'W4']]],\n",
       "  'W2': [{'cat': 'N', 'phon': 'porte'}, [['dep', 'W3'], ['det', 'W1']]],\n",
       "  'W1': [{'cat': 'D', 'phon': 'La'}, []]}]"
      ]
     },
     "execution_count": 44,
     "metadata": {},
     "output_type": "execute_result"
    }
   ],
   "source": [
    "grew.run(rs,sent_1_1,\"Iter (S1)\")"
   ]
  },
  {
   "cell_type": "code",
   "execution_count": 46,
   "metadata": {},
   "outputs": [
    {
     "data": {
      "text/plain": [
       "[{'_7_': [{'cat': 'D', 'phon': 'le'}, []],\n",
       "  '_6_': [{'cat': 'D', 'phon': 'le'}, []],\n",
       "  'W6': [{'cat': 'N', 'phon': 'voisin'}, [['det', '_7_']]],\n",
       "  'W5': [{'cat': 'P', 'phon': 'de'}, [['obj.p', 'W6']]],\n",
       "  'W4': [{'cat': 'N', 'phon': 'jardin'}, [['det', '_6_'], ['dep', 'W5']]],\n",
       "  'W3': [{'cat': 'P', 'phon': 'de'}, [['obj.p', 'W4']]],\n",
       "  'W2': [{'cat': 'N', 'phon': 'porte'}, [['dep', 'W3'], ['det', 'W1']]],\n",
       "  'W1': [{'cat': 'D', 'phon': 'La'}, []]},\n",
       " {'_7_': [{'cat': 'D', 'phon': 'le'}, []],\n",
       "  '_6_': [{'cat': 'D', 'phon': 'le'}, []],\n",
       "  'W6': [{'cat': 'N', 'phon': 'voisin'}, [['det', '_6_']]],\n",
       "  'W5': [{'cat': 'P', 'phon': 'de'}, [['obj.p', 'W6']]],\n",
       "  'W4': [{'cat': 'N', 'phon': 'jardin'}, [['det', '_7_'], ['dep', 'W5']]],\n",
       "  'W3': [{'cat': 'P', 'phon': 'de'}, [['obj.p', 'W4']]],\n",
       "  'W2': [{'cat': 'N', 'phon': 'porte'}, [['dep', 'W3'], ['det', 'W1']]],\n",
       "  'W1': [{'cat': 'D', 'phon': 'La'}, []]}]"
      ]
     },
     "execution_count": 46,
     "metadata": {},
     "output_type": "execute_result"
    }
   ],
   "source": [
    "grew.run(rs,sent_1_1,\"If(passiveAgt,Seq(passiveAgt, Iter(du2dele)), Iter(du2dele))\")"
   ]
  },
  {
   "cell_type": "code",
   "execution_count": 47,
   "metadata": {},
   "outputs": [
    {
     "data": {
      "text/plain": [
       "[{'_8_': [{'cat': 'D', 'phon': 'le'}, []],\n",
       "  'W8': [{'cat': 'N', 'phon': 'John'}, []],\n",
       "  'W6': [{'cat': 'V', 'm': 'pastp', 'phon': 'pris'},\n",
       "   [['suj', 'W8'], ['obj', 'W2']]],\n",
       "  'W4': [{'cat': 'N', 'phon': 'voisin'}, [['det', '_8_']]],\n",
       "  'W3': [{'cat': 'P', 'phon': 'de'}, [['obj.p', 'W4']]],\n",
       "  'W2': [{'cat': 'N', 'phon': 'chien'}, [['dep', 'W3'], ['det', 'W1']]],\n",
       "  'W1': [{'cat': 'D', 'phon': 'Le'}, []]}]"
      ]
     },
     "execution_count": 47,
     "metadata": {},
     "output_type": "execute_result"
    }
   ],
   "source": [
    "grew.run(rs,sent_1_2,\"If(passiveAgt,Seq(passiveAgt, Iter(du2dele)), Iter(du2dele))\")"
   ]
  },
  {
   "cell_type": "code",
   "execution_count": 48,
   "metadata": {},
   "outputs": [
    {
     "data": {
      "text/plain": [
       "[{'W6': [{'cat': 'N', 'phon': 'voisin'}, []],\n",
       "  'W5': [{'cat': 'P+D', 'phon': 'du'}, [['obj.p', 'W6']]],\n",
       "  'W4': [{'cat': 'N', 'phon': 'jardin'}, [['dep', 'W5']]],\n",
       "  'W3': [{'cat': 'P+D', 'phon': 'du'}, [['obj.p', 'W4']]],\n",
       "  'W2': [{'cat': 'N', 'phon': 'porte'}, [['dep', 'W3'], ['det', 'W1']]],\n",
       "  'W1': [{'cat': 'D', 'phon': 'La'}, []]}]"
      ]
     },
     "execution_count": 48,
     "metadata": {},
     "output_type": "execute_result"
    }
   ],
   "source": [
    "grew.run(rs,sent_1_1,\"Try(passiveAgt)\")"
   ]
  },
  {
   "cell_type": "code",
   "execution_count": 49,
   "metadata": {},
   "outputs": [
    {
     "data": {
      "text/plain": [
       "[{'W8': [{'cat': 'N', 'phon': 'John'}, []],\n",
       "  'W6': [{'cat': 'V', 'm': 'pastp', 'phon': 'pris'},\n",
       "   [['suj', 'W8'], ['obj', 'W2']]],\n",
       "  'W4': [{'cat': 'N', 'phon': 'voisin'}, []],\n",
       "  'W3': [{'cat': 'P+D', 'phon': 'du'}, [['obj.p', 'W4']]],\n",
       "  'W2': [{'cat': 'N', 'phon': 'chien'}, [['dep', 'W3'], ['det', 'W1']]],\n",
       "  'W1': [{'cat': 'D', 'phon': 'Le'}, []]}]"
      ]
     },
     "execution_count": 49,
     "metadata": {},
     "output_type": "execute_result"
    }
   ],
   "source": [
    "grew.run(rs,sent_1_2,\"Try(passiveAgt)\")"
   ]
  },
  {
   "cell_type": "code",
   "execution_count": null,
   "metadata": {},
   "outputs": [],
   "source": []
  }
 ],
 "metadata": {
  "kernelspec": {
   "display_name": "Python 3",
   "language": "python",
   "name": "python3"
  },
  "language_info": {
   "codemirror_mode": {
    "name": "ipython",
    "version": 3
   },
   "file_extension": ".py",
   "mimetype": "text/x-python",
   "name": "python",
   "nbconvert_exporter": "python",
   "pygments_lexer": "ipython3",
   "version": "3.8.10"
  }
 },
 "nbformat": 4,
 "nbformat_minor": 4
}
