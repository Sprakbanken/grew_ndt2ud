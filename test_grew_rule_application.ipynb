{
 "cells": [
  {
   "cell_type": "markdown",
   "metadata": {},
   "source": [
    "# Test ut funksjonaliteten i Python-Grew\n",
    "Prøv ut funksjonene i [Python-grew-koden](https://gitlab.inria.fr/grew/python/-/tree/master/grew)"
   ]
  },
  {
   "cell_type": "markdown",
   "metadata": {},
   "source": [
    "## Test ut innlasting av korpus"
   ]
  },
  {
   "cell_type": "code",
   "execution_count": 1,
   "metadata": {},
   "outputs": [],
   "source": [
    "import grew\n",
    "import tk\n",
    "\n",
    "from pathlib import Path\n"
   ]
  },
  {
   "cell_type": "code",
   "execution_count": 2,
   "metadata": {},
   "outputs": [
    {
     "name": "stdout",
     "output_type": "stream",
     "text": [
      "[Grewpy] Port 8888 already used, failed to open socket\n",
      "[Grewpy] Port 8889 already used, failed to open socket\n",
      "connected to port: 8890\n"
     ]
    },
    {
     "data": {
      "text/plain": [
       "<Popen: returncode: None args: ['grewpy', '--caller', '35237', '--port', '88...>"
      ]
     },
     "execution_count": 2,
     "metadata": {},
     "output_type": "execute_result"
    }
   ],
   "source": [
    "grew.init()"
   ]
  },
  {
   "cell_type": "code",
   "execution_count": 3,
   "metadata": {},
   "outputs": [],
   "source": [
    "#Load a corpus from a file of a string\n",
    "#:param data: a file, a list of files or a CoNLL string representation of a corpus\n",
    "corpus = grew.corpus('no_bokmaal-ud-train.conllu')"
   ]
  },
  {
   "cell_type": "code",
   "execution_count": 4,
   "metadata": {},
   "outputs": [
    {
     "data": {
      "text/plain": [
       "1"
      ]
     },
     "execution_count": 4,
     "metadata": {},
     "output_type": "execute_result"
    }
   ],
   "source": [
    "# :return: an integer index for latter reference to the corpus\n",
    "corpus\n"
   ]
  },
  {
   "cell_type": "code",
   "execution_count": 5,
   "metadata": {},
   "outputs": [
    {
     "data": {
      "text/plain": [
       "['000001',\n",
       " '000002',\n",
       " '000003',\n",
       " '000004',\n",
       " '000005',\n",
       " '000006',\n",
       " '000007',\n",
       " '000008',\n",
       " '000009',\n",
       " '000010']"
      ]
     },
     "execution_count": 5,
     "metadata": {},
     "output_type": "execute_result"
    }
   ],
   "source": [
    "grew.corpus_sent_ids(corpus)[:10]"
   ]
  },
  {
   "cell_type": "code",
   "execution_count": 6,
   "metadata": {},
   "outputs": [
    {
     "data": {
      "text/plain": [
       "15696"
      ]
     },
     "execution_count": 6,
     "metadata": {},
     "output_type": "execute_result"
    }
   ],
   "source": [
    "# Return the number of sentences in the corpus\n",
    "grew.corpus_size(corpus)"
   ]
  },
  {
   "cell_type": "markdown",
   "metadata": {},
   "source": [
    "## Test ut søking i korpus"
   ]
  },
  {
   "cell_type": "code",
   "execution_count": 7,
   "metadata": {},
   "outputs": [],
   "source": [
    "testpattern = '''pattern { GOV -[advcl]-> DEP }'''"
   ]
  },
  {
   "cell_type": "code",
   "execution_count": 8,
   "metadata": {},
   "outputs": [],
   "source": [
    "# Search for [pattern] into [corpus_index]\n",
    "corpus_results = grew.corpus_search(testpattern, corpus)"
   ]
  },
  {
   "cell_type": "code",
   "execution_count": 9,
   "metadata": {},
   "outputs": [],
   "source": [
    "matches = corpus_results[:3]"
   ]
  },
  {
   "cell_type": "code",
   "execution_count": 10,
   "metadata": {},
   "outputs": [
    {
     "data": {
      "text/plain": [
       "4197"
      ]
     },
     "execution_count": 10,
     "metadata": {},
     "output_type": "execute_result"
    }
   ],
   "source": [
    "# Count for [pattern] into [corpus_index]\n",
    "corpus_count = grew.corpus_count(testpattern, corpus)\n",
    "corpus_count"
   ]
  },
  {
   "cell_type": "code",
   "execution_count": 11,
   "metadata": {},
   "outputs": [],
   "source": [
    "# Graph for one sentence\n",
    "\n",
    "# Search for [data] in previously loaded corpus\n",
    "#    :param data: a sent_id (type string) or a position (type int)\n",
    "#    :param corpus_index: an integer given by the [corpus] function\n",
    "#    :return: a graph\n",
    "mygraph = grew.corpus_get('015692', corpus)\n"
   ]
  },
  {
   "cell_type": "code",
   "execution_count": 12,
   "metadata": {},
   "outputs": [
    {
     "data": {
      "text/plain": [
       "[]"
      ]
     },
     "execution_count": 12,
     "metadata": {},
     "output_type": "execute_result"
    }
   ],
   "source": [
    "# Search for [pattern] into [gr]\n",
    "grew.search(testpattern, mygraph)"
   ]
  },
  {
   "cell_type": "code",
   "execution_count": 13,
   "metadata": {},
   "outputs": [
    {
     "name": "stdout",
     "output_type": "stream",
     "text": [
      "matching nodes in the selected graph:  []\n",
      "# matching sentences in the corpus:  4\n",
      "{'sent_id': '015690', 'matching': {'nodes': {'V': '6', 'SUJ': '7', 'P': '10', 'ADV': '3', 'A': '12'}, 'edges': {'e': {'source': '6', 'label': 'nsubj', 'target': '7'}}}}\n",
      "{'sent_id': '011839', 'matching': {'nodes': {'V': '14', 'SUJ': '15', 'P': '25', 'ADV': '3', 'A': '20'}, 'edges': {'e': {'source': '14', 'label': 'nsubj', 'target': '15'}}}}\n",
      "{'sent_id': '009104', 'matching': {'nodes': {'V': '10', 'SUJ': '11', 'P': '16', 'ADV': '5', 'A': '19'}, 'edges': {'e': {'source': '10', 'label': 'nsubj', 'target': '11'}}}}\n",
      "{'sent_id': '009104', 'matching': {'nodes': {'V': '10', 'SUJ': '11', 'P': '16', 'ADV': '5', 'A': '14'}, 'edges': {'e': {'source': '10', 'label': 'nsubj', 'target': '11'}}}}\n"
     ]
    }
   ],
   "source": [
    "# Søk etter flere setninger som matcher en regel i korpuset\n",
    "\n",
    "grs_pattern = \"\"\" pattern {\n",
    "    V [upos=VERB, Tense=Pres];\n",
    "    V -[advcl]-> ADV;\n",
    "    e: V -[nsubj]-> SUJ;\n",
    "    P [upos=PROPN]; V -[obl]-> P;\n",
    "    P -[nmod]-> A;\n",
    "} \"\"\"\n",
    "\n",
    "print(\"matching nodes in the selected graph: \", grew.search(grs_pattern, mygraph))\n",
    "print(\"# matching sentences in the corpus: \", grew.corpus_count(grs_pattern, corpus))\n",
    "for sent in grew.corpus_search(grs_pattern, corpus):\n",
    "    print(sent)"
   ]
  },
  {
   "cell_type": "code",
   "execution_count": 13,
   "metadata": {},
   "outputs": [
    {
     "name": "stdout",
     "output_type": "stream",
     "text": [
      "GOV: innstilt, -[advcl]-> DEP: få\n",
      "GOV: går, -[advcl]-> DEP: komme\n",
      "GOV: må, -[advcl]-> DEP: Flyr\n"
     ]
    }
   ],
   "source": [
    "label = \"advcl\"\n",
    "for sent in matches: \n",
    "    sent_id = sent.get('sent_id')\n",
    "    graph = grew.corpus_get(sent_id, corpus)\n",
    "    nodes = sent.get('matching').get('nodes')\n",
    "    gov = nodes.get('GOV')\n",
    "    dep = nodes.get('DEP')\n",
    "    print(f\"GOV: {graph[gov][0]['form']}, -[{label}]-> DEP: {graph[dep][0]['form']}\")\n",
    "    "
   ]
  },
  {
   "cell_type": "code",
   "execution_count": 14,
   "metadata": {},
   "outputs": [],
   "source": [
    "# Skriv grafen til en fil \n",
    "grew.save(mygraph, \"graph_sample.json\")"
   ]
  },
  {
   "cell_type": "markdown",
   "metadata": {},
   "source": [
    "## Test ut graftransformasjoner"
   ]
  },
  {
   "cell_type": "code",
   "execution_count": 30,
   "metadata": {},
   "outputs": [],
   "source": [
    "# GRS-testing 21.04.2022 (ILD)"
   ]
  },
  {
   "cell_type": "code",
   "execution_count": 15,
   "metadata": {},
   "outputs": [],
   "source": [
    "grsfile = Path('teststrategy.grs')\n",
    "grsfile.read_text()  # Sjekk innholdet i fila direkte"
   ]
  },
  {
   "cell_type": "code",
   "execution_count": 16,
   "metadata": {},
   "outputs": [],
   "source": [
    "loaded_rule = grew.grs(grsfile.name)      # last inn med filnavn"
   ]
  },
  {
   "cell_type": "code",
   "execution_count": 22,
   "metadata": {},
   "outputs": [
    {
     "data": {
      "text/plain": [
       "{'filename': 'teststrategy.grs',\n",
       " 'decls': [{'strat_name': 's_1', 'strat_def': {'Onf': {'Ref': 'verbrules'}}},\n",
       "  {'package_name': 'verbrules',\n",
       "   'decls': [{'rule_name': 'verbnonsense',\n",
       "     'pattern': {'graph': [{'id': 'Ker 4',\n",
       "        'node': {'node_name': 'V',\n",
       "         'fs': [{'feature_name': 'Tense', '=': ['Pres']},\n",
       "          {'feature_name': 'upos', '=': ['VERB']}],\n",
       "         'next': [{'id': 'Ker 3',\n",
       "           'label': {'edge_id': 'e', 'label_cst': {'pos': ['nsubj']}}},\n",
       "          {'id': 'Ker 2',\n",
       "           'label': {'edge_id': '__e_15__', 'label_cst': {'pos': ['obl']}}},\n",
       "          {'id': 'Ker 1',\n",
       "           'label': {'edge_id': '__e_14__',\n",
       "            'label_cst': {'pos': ['advcl']}}}]}},\n",
       "       {'id': 'Ker 3', 'node': {'node_name': 'SUJ', 'fs': [], 'next': []}},\n",
       "       {'id': 'Ker 2',\n",
       "        'node': {'node_name': 'P',\n",
       "         'fs': [{'feature_name': 'upos', '=': ['PROPN']}],\n",
       "         'next': [{'id': 'Ker 0',\n",
       "           'label': {'edge_id': '__e_16__',\n",
       "            'label_cst': {'pos': ['nmod']}}}]}},\n",
       "       {'id': 'Ker 1', 'node': {'node_name': 'ADV', 'fs': [], 'next': []}},\n",
       "       {'id': 'Ker 0', 'node': {'node_name': 'A', 'fs': [], 'next': []}}],\n",
       "      'constraints': []},\n",
       "     'without': [],\n",
       "     'commands': [{'del_node': 'Ker 2'},\n",
       "      {'del_node': 'Ker 1'},\n",
       "      {'add_edge': {'src': 'Ker 4', 'tar': 'Ker 0', 'edge': 'suj'}},\n",
       "      {'add_edge': {'src': 'Ker 4', 'tar': 'Ker 3', 'edge': 'obj'}},\n",
       "      {'del_edge_name': 'e'}]}]}]}"
      ]
     },
     "execution_count": 22,
     "metadata": {},
     "output_type": "execute_result"
    }
   ],
   "source": [
    "grew.json_grs(loaded_rule)  # Sjekk innholdet av grs-en i json-format"
   ]
  },
  {
   "cell_type": "code",
   "execution_count": 19,
   "metadata": {},
   "outputs": [
    {
     "data": {
      "text/plain": [
       "[{'0': [{'form': '__0__'}, [['root', '3']]],\n",
       "  '1': [{'Gender': 'Neut',\n",
       "    'Number': 'Sing',\n",
       "    'PronType': 'Art',\n",
       "    'form': 'Et',\n",
       "    'lemma': 'en',\n",
       "    'textform': 'Et',\n",
       "    'upos': 'DET',\n",
       "    'wordform': 'Et'},\n",
       "   []],\n",
       "  '2': [{'Definite': 'Ind',\n",
       "    'Degree': 'Pos',\n",
       "    'Gender': 'Neut',\n",
       "    'Number': 'Sing',\n",
       "    'form': 'helårs',\n",
       "    'lemma': 'helårs',\n",
       "    'textform': 'helårs',\n",
       "    'upos': 'ADJ',\n",
       "    'wordform': 'helårs'},\n",
       "   []],\n",
       "  '3': [{'Definite': 'Ind',\n",
       "    'Gender': 'Neut',\n",
       "    'Number': 'Sing',\n",
       "    'form': 'reisemål',\n",
       "    'lemma': 'reisemål',\n",
       "    'textform': 'reisemål',\n",
       "    'upos': 'NOUN',\n",
       "    'wordform': 'reisemål'},\n",
       "   [['det', '1'], ['amod', '2'], ['nmod', '5'], ['punct', '12']]],\n",
       "  '4': [{'form': 'for',\n",
       "    'lemma': 'for',\n",
       "    'textform': 'for',\n",
       "    'upos': 'ADP',\n",
       "    'wordform': 'for'},\n",
       "   []],\n",
       "  '5': [{'Gender': 'Fem,Masc',\n",
       "    'Number': 'Sing',\n",
       "    'Person': '3',\n",
       "    'PronType': 'Prs',\n",
       "    'form': 'den',\n",
       "    'lemma': 'den',\n",
       "    'textform': 'den',\n",
       "    'upos': 'PRON',\n",
       "    'wordform': 'den'},\n",
       "   [['case', '4'], ['acl:relcl', '7']]],\n",
       "  '6': [{'PronType': 'Rel',\n",
       "    'form': 'som',\n",
       "    'lemma': 'som',\n",
       "    'textform': 'som',\n",
       "    'upos': 'PRON',\n",
       "    'wordform': 'som'},\n",
       "   []],\n",
       "  '7': [{'Mood': 'Ind',\n",
       "    'Tense': 'Pres',\n",
       "    'VerbForm': 'Fin',\n",
       "    'form': 'liker',\n",
       "    'lemma': 'like',\n",
       "    'textform': 'liker',\n",
       "    'upos': 'VERB',\n",
       "    'wordform': 'liker'},\n",
       "   [['nsubj', '6'], ['obj', '8']]],\n",
       "  '8': [{'Definite': 'Ind',\n",
       "    'Gender': 'Masc',\n",
       "    'Number': 'Sing',\n",
       "    'form': 'natur',\n",
       "    'lemma': 'natur',\n",
       "    'textform': 'natur',\n",
       "    'upos': 'NOUN',\n",
       "    'wordform': 'natur'},\n",
       "   [['conj', '11']]],\n",
       "  '9': [{'form': 'og',\n",
       "    'lemma': 'og',\n",
       "    'textform': 'og',\n",
       "    'upos': 'CCONJ',\n",
       "    'wordform': 'og'},\n",
       "   []],\n",
       "  '10': [{'Definite': 'Ind',\n",
       "    'Degree': 'Pos',\n",
       "    'Gender': 'Neut',\n",
       "    'Number': 'Sing',\n",
       "    'form': 'mye',\n",
       "    'lemma': 'mye',\n",
       "    'textform': 'mye',\n",
       "    'upos': 'ADJ',\n",
       "    'wordform': 'mye'},\n",
       "   []],\n",
       "  '11': [{'Definite': 'Ind',\n",
       "    'Gender': 'Neut',\n",
       "    'Number': 'Sing',\n",
       "    'SpaceAfter': 'No',\n",
       "    'form': 'vær',\n",
       "    'lemma': 'vær',\n",
       "    'textform': 'vær',\n",
       "    'upos': 'NOUN',\n",
       "    'wordform': 'vær'},\n",
       "   [['cc', '9'], ['amod', '10']]],\n",
       "  '12': [{'form': '.',\n",
       "    'lemma': '$.',\n",
       "    'textform': '.',\n",
       "    'upos': 'PUNCT',\n",
       "    'wordform': '.'},\n",
       "   []]}]"
      ]
     },
     "execution_count": 19,
     "metadata": {},
     "output_type": "execute_result"
    }
   ],
   "source": [
    "#Apply rs or the last loaded one to [gr]\n",
    "#:param grs_data: a graph rewriting system or a Grew string representation of a grs\n",
    "#:param graph_data: the graph, either a str (in grew format) or a dict\n",
    "#:param strat: the strategy (by default \"main\")\n",
    "#:return: the list of rewritten graphs\n",
    "grew.run(loaded_rule, mygraph, \"s_1\")"
   ]
  },
  {
   "cell_type": "code",
   "execution_count": 21,
   "metadata": {},
   "outputs": [
    {
     "data": {
      "text/plain": [
       "{'filename': 'teststrategy.grs',\n",
       " 'decls': [{'strat_name': 's_1', 'strat_def': {'Onf': {'Ref': 'verbrules'}}},\n",
       "  {'package_name': 'verbrules',\n",
       "   'decls': [{'rule_name': 'verbnonsense',\n",
       "     'pattern': {'graph': [{'id': 'Ker 4',\n",
       "        'node': {'node_name': 'V',\n",
       "         'fs': [{'feature_name': 'Tense', '=': ['Pres']},\n",
       "          {'feature_name': 'upos', '=': ['VERB']}],\n",
       "         'next': [{'id': 'Ker 3',\n",
       "           'label': {'edge_id': 'e', 'label_cst': {'pos': ['nsubj']}}},\n",
       "          {'id': 'Ker 2',\n",
       "           'label': {'edge_id': '__e_15__', 'label_cst': {'pos': ['obl']}}},\n",
       "          {'id': 'Ker 1',\n",
       "           'label': {'edge_id': '__e_14__',\n",
       "            'label_cst': {'pos': ['advcl']}}}]}},\n",
       "       {'id': 'Ker 3', 'node': {'node_name': 'SUJ', 'fs': [], 'next': []}},\n",
       "       {'id': 'Ker 2',\n",
       "        'node': {'node_name': 'P',\n",
       "         'fs': [{'feature_name': 'upos', '=': ['PROPN']}],\n",
       "         'next': [{'id': 'Ker 0',\n",
       "           'label': {'edge_id': '__e_16__',\n",
       "            'label_cst': {'pos': ['nmod']}}}]}},\n",
       "       {'id': 'Ker 1', 'node': {'node_name': 'ADV', 'fs': [], 'next': []}},\n",
       "       {'id': 'Ker 0', 'node': {'node_name': 'A', 'fs': [], 'next': []}}],\n",
       "      'constraints': []},\n",
       "     'without': [],\n",
       "     'commands': [{'del_node': 'Ker 2'},\n",
       "      {'del_node': 'Ker 1'},\n",
       "      {'add_edge': {'src': 'Ker 4', 'tar': 'Ker 0', 'edge': 'suj'}},\n",
       "      {'add_edge': {'src': 'Ker 4', 'tar': 'Ker 3', 'edge': 'obj'}},\n",
       "      {'del_edge_name': 'e'}]}]}]}"
      ]
     },
     "execution_count": 21,
     "metadata": {},
     "output_type": "execute_result"
    }
   ],
   "source": [
    "grew.json_grs(loaded_rule)"
   ]
  },
  {
   "cell_type": "code",
   "execution_count": 35,
   "metadata": {},
   "outputs": [
    {
     "data": {
      "text/plain": [
       "{'A': [{'label': 'A'}, [['L', 'B']]],\n",
       " 'B': [{'label': 'B'}, [['L', 'C']]],\n",
       " 'C': [{'label': 'C'}, []]}"
      ]
     },
     "execution_count": 35,
     "metadata": {},
     "output_type": "execute_result"
    }
   ],
   "source": [
    "tg = grew.graph(Path(\"input.grs\").read_text())\n",
    "tg"
   ]
  },
  {
   "cell_type": "code",
   "execution_count": 37,
   "metadata": {},
   "outputs": [
    {
     "name": "stdout",
     "output_type": "stream",
     "text": [
      "100.00%                                                                                             \n",
      "graph {\n",
      "  N2 [label=\"A\"] ;\n",
      "  N1 [label=\"B\"] ;\n",
      "  N0 [label=\"C\"] ;\n",
      "  N2 -[L_12]-> N1;\n",
      "  N1 -[L_12]-> N0;\n",
      "}\n",
      "\n"
     ]
    }
   ],
   "source": [
    "# \n",
    "!grew transform -grs single.grs -config basic -strat p_1_onf -i input.gr -gr"
   ]
  }
 ],
 "metadata": {
  "kernelspec": {
   "display_name": "Python 3 (ipykernel)",
   "language": "python",
   "name": "python3"
  },
  "language_info": {
   "codemirror_mode": {
    "name": "ipython",
    "version": 3
   },
   "file_extension": ".py",
   "mimetype": "text/x-python",
   "name": "python",
   "nbconvert_exporter": "python",
   "pygments_lexer": "ipython3",
   "version": "3.10.2"
  }
 },
 "nbformat": 4,
 "nbformat_minor": 4
}
